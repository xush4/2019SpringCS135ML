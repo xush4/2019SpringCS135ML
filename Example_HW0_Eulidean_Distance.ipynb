{
  "nbformat": 4,
  "nbformat_minor": 0,
  "metadata": {
    "colab": {
      "name": "Example HW0 Eulidean Distance.ipynb",
      "provenance": [],
      "authorship_tag": "ABX9TyNW4cMU2SOYdNWMhKMVtu8e",
      "include_colab_link": true
    },
    "kernelspec": {
      "name": "python3",
      "display_name": "Python 3"
    }
  },
  "cells": [
    {
      "cell_type": "markdown",
      "metadata": {
        "id": "view-in-github",
        "colab_type": "text"
      },
      "source": [
        "<a href=\"https://colab.research.google.com/github/xush4/2019SpringCS135ML/blob/master/Example_HW0_Eulidean_Distance.ipynb\" target=\"_parent\"><img src=\"https://colab.research.google.com/assets/colab-badge.svg\" alt=\"Open In Colab\"/></a>"
      ]
    },
    {
      "cell_type": "code",
      "metadata": {
        "id": "s5r8uLjZKS4B",
        "colab_type": "code",
        "colab": {}
      },
      "source": [
        "import numpy as np;"
      ],
      "execution_count": 1,
      "outputs": []
    },
    {
      "cell_type": "markdown",
      "metadata": {
        "id": "3Ub-Do8KK1kh",
        "colab_type": "text"
      },
      "source": [
        "Suppose we have a vector **a**, we want to find the kth nearest neighbors of **a** from a set **S**. We outline the procedure."
      ]
    },
    {
      "cell_type": "code",
      "metadata": {
        "id": "bN2BPtA1LVi3",
        "colab_type": "code",
        "colab": {
          "base_uri": "https://localhost:8080/",
          "height": 170
        },
        "outputId": "1e54897e-53db-4e80-92fe-4acea2e20da7"
      },
      "source": [
        "a=np.array([1,0,0,0,0])\n",
        "S=np.identity(6)[:, :5]\n",
        "print(\"Suppose a=\", a, \"and \\n\\n S has 6 vectors \\n\", S)"
      ],
      "execution_count": 11,
      "outputs": [
        {
          "output_type": "stream",
          "text": [
            "Suppose a= [1 0 0 0 0] and \n",
            "\n",
            " S has 5 vectors \n",
            " [[1. 0. 0. 0. 0.]\n",
            " [0. 1. 0. 0. 0.]\n",
            " [0. 0. 1. 0. 0.]\n",
            " [0. 0. 0. 1. 0.]\n",
            " [0. 0. 0. 0. 1.]\n",
            " [0. 0. 0. 0. 0.]]\n"
          ],
          "name": "stdout"
        }
      ]
    },
    {
      "cell_type": "markdown",
      "metadata": {
        "id": "QX2mSU9vMIz2",
        "colab_type": "text"
      },
      "source": [
        "We look at the shape of S:"
      ]
    },
    {
      "cell_type": "code",
      "metadata": {
        "id": "h-vzQf7NMD6Y",
        "colab_type": "code",
        "colab": {
          "base_uri": "https://localhost:8080/",
          "height": 34
        },
        "outputId": "c933f056-30ca-4127-8cc5-a63200069294"
      },
      "source": [
        "num_row, num_col =S.shape\n",
        "print(\"S has \", num_row,  \" rows and \", num_col, \" columns.\")"
      ],
      "execution_count": 16,
      "outputs": [
        {
          "output_type": "stream",
          "text": [
            "S has  6  rows and  5  columns.\n"
          ],
          "name": "stdout"
        }
      ]
    },
    {
      "cell_type": "markdown",
      "metadata": {
        "id": "Wws1LjHPOc1B",
        "colab_type": "text"
      },
      "source": [
        "Now let's loop over S to calculate the distance:\n",
        "Remember the Euclidean distance of 2 vecctors $a=[a_1,a_2,..., a_n]$, $b=[b_1, b_2, .., b_n]$ is: $\\sqrt{\\sum_{k=1}^n {(b_k-a_k)^2}}$, which can be also understood as **the length (norm) of $d=b-a$**, i.e. $\\sqrt{\\sum_{k=1}^n {d_k^2}}$."
      ]
    },
    {
      "cell_type": "code",
      "metadata": {
        "id": "4ZDJyAgdOG36",
        "colab_type": "code",
        "colab": {
          "base_uri": "https://localhost:8080/",
          "height": 68
        },
        "outputId": "0470c7fc-bb93-4acd-a62e-9f6af1d9e006"
      },
      "source": [
        "dist0=np.zeros(num_row)\n",
        "dist1=np.zeros(num_row)\n",
        "dist2=np.zeros(num_row)\n",
        "for r in range(num_row):\n",
        "  # Calcualte \"dis=a-b\"\n",
        "  d=S[r]-a;\n",
        "\n",
        "  #get length:\n",
        "  for i in range(dif.size):\n",
        "    dist0[r]=np.power(d[i],2)+dist0[r];\n",
        "  dist0[r]=np.sqrt(dist0[r])\n",
        "\n",
        "  dist1[r]=np.linalg.norm(dif);\n",
        "\n",
        "  dist2[r]=np.sqrt(np.dot(dif,dif));\n",
        "print(dist0)\n",
        "print(dist1)\n",
        "print(dist2)\n"
      ],
      "execution_count": 37,
      "outputs": [
        {
          "output_type": "stream",
          "text": [
            "[0.         1.41421356 1.41421356 1.41421356 1.41421356 1.        ]\n",
            "[0.         1.41421356 1.41421356 1.41421356 1.41421356 1.        ]\n",
            "[0.         1.41421356 1.41421356 1.41421356 1.41421356 1.        ]\n"
          ],
          "name": "stdout"
        }
      ]
    },
    {
      "cell_type": "markdown",
      "metadata": {
        "id": "GQ9XtG_YThhX",
        "colab_type": "text"
      },
      "source": [
        "We see all methods give the same (correct) result: \n",
        "Let's see what's going on: \\\\\n",
        "* dist0 does $\\sqrt{\\sum_{k=1}^n {d_k^2}}$=$\\sqrt{\\sum_{k=1}^n {(b_k-a_k)^2}}$. \n",
        "\n",
        "* dist1 calculates length (norm) of d using built-in function norm.\n",
        "\n",
        "* dist2 calculates length (norm) of d using square root of dot product of d and itself.\n",
        "\n",
        "We recommend everyone understands **dist1** and **dist2** for a much faster computaion in the future. "
      ]
    },
    {
      "cell_type": "code",
      "metadata": {
        "id": "ZfJSFHMjRE-E",
        "colab_type": "code",
        "colab": {}
      },
      "source": [
        ""
      ],
      "execution_count": null,
      "outputs": []
    },
    {
      "cell_type": "markdown",
      "metadata": {
        "id": "RX2_hk2aZQt6",
        "colab_type": "text"
      },
      "source": [
        "The next step includes a sorting process. Let's use dist1 as an example:"
      ]
    },
    {
      "cell_type": "code",
      "metadata": {
        "id": "p6eTwvSaZbG6",
        "colab_type": "code",
        "colab": {
          "base_uri": "https://localhost:8080/",
          "height": 34
        },
        "outputId": "f52e36d7-6ef1-4afd-f26e-53b4c35c131a"
      },
      "source": [
        "index_sorted=np.argsort(dist1)\n",
        "print(index_sorted)"
      ],
      "execution_count": 48,
      "outputs": [
        {
          "output_type": "stream",
          "text": [
            "[0 5 1 2 3 4]\n"
          ],
          "name": "stdout"
        }
      ]
    },
    {
      "cell_type": "markdown",
      "metadata": {
        "id": "nHcNDxKfZ0Dj",
        "colab_type": "text"
      },
      "source": [
        "This produces a sorted index according to the array's arg, which in our case is the distance. The result gives the following info:\n",
        "* The 0th row in **S** is the closest array to **a**. \n",
        "\n",
        "* The 5th row is the second.\n",
        "\n",
        "* 1-4 has the same distance. So we keep the same order."
      ]
    },
    {
      "cell_type": "markdown",
      "metadata": {
        "id": "5ixqCauBbZgM",
        "colab_type": "text"
      },
      "source": [
        "Suppose we need k nearest neighbor, we get the index of rows by index_sorted[:k] and then call those index in S."
      ]
    },
    {
      "cell_type": "code",
      "metadata": {
        "id": "xLpJP3cHZpeI",
        "colab_type": "code",
        "colab": {
          "base_uri": "https://localhost:8080/",
          "height": 51
        },
        "outputId": "ffdd2118-8463-4762-f990-67e58ebd41bd"
      },
      "source": [
        "index_1nn=index_sorted[:1] # The nearest\n",
        "print(\"Top 1: \\n\", S[index_1nn])"
      ],
      "execution_count": 54,
      "outputs": [
        {
          "output_type": "stream",
          "text": [
            "Top 1: \n",
            " [[1. 0. 0. 0. 0.]]\n"
          ],
          "name": "stdout"
        }
      ]
    },
    {
      "cell_type": "code",
      "metadata": {
        "id": "m6M0JJMNZs4_",
        "colab_type": "code",
        "colab": {
          "base_uri": "https://localhost:8080/",
          "height": 85
        },
        "outputId": "c6cc9253-d682-43a5-8509-64f30d70b507"
      },
      "source": [
        "print(\"Top 3: \\n\", S[index_sorted[:3]]) # 3 nearest"
      ],
      "execution_count": 55,
      "outputs": [
        {
          "output_type": "stream",
          "text": [
            "Top 3: \n",
            " [[1. 0. 0. 0. 0.]\n",
            " [0. 0. 0. 0. 0.]\n",
            " [0. 1. 0. 0. 0.]]\n"
          ],
          "name": "stdout"
        }
      ]
    },
    {
      "cell_type": "code",
      "metadata": {
        "id": "aY0NnE1PbN8D",
        "colab_type": "code",
        "colab": {
          "base_uri": "https://localhost:8080/",
          "height": 119
        },
        "outputId": "281d6e54-9025-4159-8a84-94e8d32c83ca"
      },
      "source": [
        "print(\"Top 5: \\n\", S[index_sorted[:5]]) # 4 nearest"
      ],
      "execution_count": 56,
      "outputs": [
        {
          "output_type": "stream",
          "text": [
            "Top 5: \n",
            " [[1. 0. 0. 0. 0.]\n",
            " [0. 0. 0. 0. 0.]\n",
            " [0. 1. 0. 0. 0.]\n",
            " [0. 0. 1. 0. 0.]\n",
            " [0. 0. 0. 1. 0.]]\n"
          ],
          "name": "stdout"
        }
      ]
    },
    {
      "cell_type": "code",
      "metadata": {
        "id": "kMgo3IAfbWOv",
        "colab_type": "code",
        "colab": {}
      },
      "source": [
        ""
      ],
      "execution_count": null,
      "outputs": []
    }
  ]
}