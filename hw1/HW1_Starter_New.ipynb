{
 "cells": [
  {
   "cell_type": "markdown",
   "metadata": {},
   "source": [
    "# COMP 135 Fall 2019: HW1 STARTER"
   ]
  },
  {
   "cell_type": "raw",
   "metadata": {},
   "source": [
    "Student Name: ____TODO_____"
   ]
  },
  {
   "cell_type": "markdown",
   "metadata": {},
   "source": [
    "# Setup comp135_env package imports"
   ]
  },
  {
   "cell_type": "code",
   "execution_count": 1,
   "metadata": {},
   "outputs": [],
   "source": [
    "import os\n",
    "import numpy as np\n",
    "import sklearn.neighbors\n",
    "import sklearn.tree\n",
    "\n",
    "from matplotlib import pyplot as plt\n",
    "import seaborn as sns"
   ]
  },
  {
   "cell_type": "code",
   "execution_count": 2,
   "metadata": {},
   "outputs": [],
   "source": [
    "%matplotlib inline"
   ]
  },
  {
   "cell_type": "markdown",
   "metadata": {},
   "source": [
    "# Setup student-defined imports"
   ]
  },
  {
   "cell_type": "code",
   "execution_count": 3,
   "metadata": {},
   "outputs": [],
   "source": [
    "from LeastSquaresLinearRegression import LeastSquaresLinearRegressor"
   ]
  },
  {
   "cell_type": "code",
   "execution_count": 4,
   "metadata": {},
   "outputs": [],
   "source": [
    "from evaluate_perf_metrics import (\n",
    "    calc_perf_metric__absolute_error, calc_perf_metric__squared_error,\n",
    "    calc_perf_metrics_for_regressor_on_dataset)"
   ]
  },
  {
   "cell_type": "markdown",
   "metadata": {},
   "source": [
    "# Load dataset"
   ]
  },
  {
   "cell_type": "code",
   "execution_count": 5,
   "metadata": {},
   "outputs": [],
   "source": [
    "## TODO load all data (train/valid/test) into x_tr_NF, x_va_NF, x_te_NF, ..."
   ]
  },
  {
   "cell_type": "code",
   "execution_count": 6,
   "metadata": {},
   "outputs": [],
   "source": [
    "y_tr_N = np.loadtxt('data_abalone/y_train.csv', delimiter=',', skiprows=1)"
   ]
  },
  {
   "cell_type": "code",
   "execution_count": 7,
   "metadata": {},
   "outputs": [],
   "source": [
    "x_tr_NF = np.loadtxt('data_abalone/x_train.csv', delimiter=',', skiprows=1)"
   ]
  },
  {
   "cell_type": "markdown",
   "metadata": {},
   "source": [
    "# 1a : Abalone histograms of response variable 'rings'"
   ]
  },
  {
   "cell_type": "markdown",
   "metadata": {},
   "source": [
    "#### 1a(i): Produce one figure with three subplots, showing histograms of $y$ from train/valid/test"
   ]
  },
  {
   "cell_type": "code",
   "execution_count": 8,
   "metadata": {},
   "outputs": [
    {
     "data": {
      "image/png": "[encoded data removed]",
      "text/plain": [
       "<Figure size 432x288 with 3 Axes>"
      ]
     },
     "metadata": {
      "needs_background": "light"
     },
     "output_type": "display_data"
    }
   ],
   "source": [
    "fig_h, axes_arr = plt.subplots(nrows=3, ncols=1, sharex=True)\n",
    "\n",
    "## TODO plot histograms on the axes\n",
    "## e.g. sns.distplot(y_tr_N, kde=False, rug=True, ax=axes_arr[0]);\n"
   ]
  },
  {
   "cell_type": "markdown",
   "metadata": {},
   "source": [
    "#### 1a(ii): Describe the **train** distribution. Unimodal or multimodal? What shape? Are there noticeable outliers?"
   ]
  },
  {
   "cell_type": "markdown",
   "metadata": {},
   "source": [
    "**TODO ANSWER HERE**"
   ]
  },
  {
   "cell_type": "markdown",
   "metadata": {},
   "source": [
    "#### 1a(iii): Quantify train's descriptive statistics. "
   ]
  },
  {
   "cell_type": "code",
   "execution_count": 9,
   "metadata": {},
   "outputs": [],
   "source": [
    "### TODO CODE HERE"
   ]
  },
  {
   "cell_type": "markdown",
   "metadata": {},
   "source": [
    "# 1b : Scatterplots of 'rings' vs 'diam' and 'rings' vs 'shucked'"
   ]
  },
  {
   "cell_type": "markdown",
   "metadata": {},
   "source": [
    "#### **1b(i):** Create figure with two subplots: scatter plot of `diam_mm` vs `rings` and scatter of `shucked_weight_g` vs `rings`."
   ]
  },
  {
   "cell_type": "code",
   "execution_count": 10,
   "metadata": {},
   "outputs": [],
   "source": [
    "## TODO CODE HERE"
   ]
  },
  {
   "cell_type": "markdown",
   "metadata": {},
   "source": [
    "#### **1b(ii):** Describe the trends you between diameter and rings in a few sentences."
   ]
  },
  {
   "cell_type": "markdown",
   "metadata": {},
   "source": [
    "**TODO ANSWER HERE**"
   ]
  },
  {
   "cell_type": "markdown",
   "metadata": {},
   "source": [
    "#### 1b(iii): Describe the trends you see between shucked weight and rings.\n"
   ]
  },
  {
   "cell_type": "markdown",
   "metadata": {},
   "source": [
    "**TODO ANSWER HERE**"
   ]
  },
  {
   "cell_type": "markdown",
   "metadata": {},
   "source": [
    "# Setup code for 1c"
   ]
  },
  {
   "cell_type": "code",
   "execution_count": 11,
   "metadata": {},
   "outputs": [],
   "source": [
    "## Dummy class to perform \"always guess training mean\" prediction\n",
    "class MeanPredictor():\n",
    "    def __init__(self):\n",
    "        self.yhat = None\n",
    "    \n",
    "    def fit(self, x_tr_NF, y_tr_N):\n",
    "        self.yhat = np.mean(y_tr_N)\n",
    "    \n",
    "    def predict(self, x_NF):\n",
    "        return self.yhat"
   ]
  },
  {
   "cell_type": "code",
   "execution_count": 12,
   "metadata": {},
   "outputs": [],
   "source": [
    "## Dummy class to perform \"always guess training median\" prediction\n",
    "class MedianPredictor():\n",
    "    def __init__(self):\n",
    "        self.yhat = None\n",
    "    \n",
    "    def fit(self, x_tr_NF, y_tr_N):\n",
    "        self.yhat = np.median(y_tr_N)\n",
    "    \n",
    "    def predict(self, x_NF):\n",
    "        return self.yhat"
   ]
  },
  {
   "cell_type": "code",
   "execution_count": 13,
   "metadata": {},
   "outputs": [],
   "source": [
    "mean_value_predictor = MeanPredictor()\n",
    "## TODO fit the predictor, like mean_value_predictor.fit(x_tr_N2, y_tr_N)\n",
    "\n",
    "## TODO evaluate predictions on train, valid, and test"
   ]
  },
  {
   "cell_type": "code",
   "execution_count": 14,
   "metadata": {},
   "outputs": [],
   "source": [
    "median_value_predictor = MedianPredictor()\n",
    "## TODO fit the predictor\n",
    "## TODO evaluate predictions on train, valid, and test"
   ]
  },
  {
   "cell_type": "markdown",
   "metadata": {},
   "source": [
    "# 1c : Results Table for Abalone MSE\n",
    "\n",
    "#### **1c:** Make a table of the **mean-squared-error** for each of the MeanPredictor and MedianPredictor predictors when evaluated on all 3 dataset splits (training, validation, and test).\n",
    "\n",
    "\n",
    "**Mean Squared Error:**\n",
    "\n",
    "| split |  guess-mean | guess-median |\n",
    "| ----- | ----------- | ------------ |\n",
    "| train |        |         |        \n",
    "| valid |        |         |\n",
    "| test  |        |         |\n"
   ]
  },
  {
   "cell_type": "markdown",
   "metadata": {},
   "source": [
    "# Model fitting code for 1d"
   ]
  },
  {
   "cell_type": "code",
   "execution_count": 15,
   "metadata": {},
   "outputs": [],
   "source": [
    "linear_regressor_2feats = LeastSquaresLinearRegressor()\n",
    "# TODO fit and evaluate"
   ]
  },
  {
   "cell_type": "code",
   "execution_count": 16,
   "metadata": {},
   "outputs": [],
   "source": [
    "linear_regressor_8feats = LeastSquaresLinearRegressor()\n",
    "# TODO fit and evaluate"
   ]
  },
  {
   "cell_type": "markdown",
   "metadata": {},
   "source": [
    "# 1d : Results Table for Mean Squared Error on Abalone\n",
    "\n",
    "### **1d(i)** and **1d(ii)** Add results to the table\n",
    "\n",
    "**Mean Squared Error:**\n",
    "\n",
    "| split |  guess mean | guess median | linear regr (2 feats) | linear regr (8 feats)\n",
    "| ----- | ----------- | ------------ | --------------------- | ---------------------\n",
    "| train |       \n",
    "| valid |\n",
    "| test  |"
   ]
  },
  {
   "cell_type": "markdown",
   "metadata": {},
   "source": [
    "### **1d(iii):** Does using more features seem worthwhile? Do you think the improvement on the test data is significant? Why or why not?\n"
   ]
  },
  {
   "cell_type": "markdown",
   "metadata": {},
   "source": []
  },
  {
   "cell_type": "markdown",
   "metadata": {},
   "source": [
    "# 1e : Model selection for K-Nearest Neighbor Regressor"
   ]
  },
  {
   "cell_type": "code",
   "execution_count": 17,
   "metadata": {},
   "outputs": [],
   "source": [
    "param_name = 'n_neighbors'\n",
    "param_list = [1, 3, 5, 7, 11, 21, 41, 61, 81, 101, 201, 401, 801, ] # TODO ADD N\n",
    "# Keep only values below total training size\n",
    "param_list = [p for p in param_list if p <= param_list[-1]]"
   ]
  },
  {
   "cell_type": "code",
   "execution_count": 1,
   "metadata": {},
   "outputs": [
    {
     "ename": "NameError",
     "evalue": "name 'param_list' is not defined",
     "output_type": "error",
     "traceback": [
      "\u001b[1;31m---------------------------------------------------------------------------\u001b[0m",
      "\u001b[1;31mNameError\u001b[0m                                 Traceback (most recent call last)",
      "\u001b[1;32m<ipython-input-1-3af5582578e6>\u001b[0m in \u001b[0;36m<module>\u001b[1;34m\u001b[0m\n\u001b[0;32m      2\u001b[0m \u001b[0mvalid_mse_list\u001b[0m \u001b[1;33m=\u001b[0m \u001b[1;33m[\u001b[0m\u001b[1;33m]\u001b[0m\u001b[1;33m\u001b[0m\u001b[1;33m\u001b[0m\u001b[0m\n\u001b[0;32m      3\u001b[0m \u001b[0mtest_mse_list\u001b[0m \u001b[1;33m=\u001b[0m \u001b[1;33m[\u001b[0m\u001b[1;33m]\u001b[0m\u001b[1;33m\u001b[0m\u001b[1;33m\u001b[0m\u001b[0m\n\u001b[1;32m----> 4\u001b[1;33m \u001b[1;32mfor\u001b[0m \u001b[0mn_neighbors\u001b[0m \u001b[1;32min\u001b[0m \u001b[0mparam_list\u001b[0m\u001b[1;33m:\u001b[0m\u001b[1;33m\u001b[0m\u001b[1;33m\u001b[0m\u001b[0m\n\u001b[0m\u001b[0;32m      5\u001b[0m     knn_regr = sklearn.neighbors.KNeighborsRegressor(\n\u001b[0;32m      6\u001b[0m         \u001b[0mn_neighbors\u001b[0m\u001b[1;33m=\u001b[0m\u001b[0mn_neighbors\u001b[0m\u001b[1;33m,\u001b[0m\u001b[1;33m\u001b[0m\u001b[1;33m\u001b[0m\u001b[0m\n",
      "\u001b[1;31mNameError\u001b[0m: name 'param_list' is not defined"
     ]
    }
   ],
   "source": [
    "train_mse_list = []\n",
    "valid_mse_list = []\n",
    "test_mse_list = []\n",
    "for n_neighbors in param_list:\n",
    "    knn_regr = sklearn.neighbors.KNeighborsRegressor(\n",
    "        n_neighbors=n_neighbors,\n",
    "        metric='euclidean',\n",
    "        algorithm='brute')\n",
    "    # TODO fit and predict and track performance metric values in the lists\n",
    "    knn_regr.fit(x_tr_NF, y_tr_N)\n",
    "    train_mse_list.append(calc_perf_metric__squared_error(knn_regr.predict(x_tr_NF)),y_tr_N)"
   ]
  },
  {
   "cell_type": "markdown",
   "metadata": {},
   "source": [
    "#### **1e(i):** Make a line plot for mean-squared-error (MSE) vs $K$ on the validation set"
   ]
  },
  {
   "cell_type": "code",
   "execution_count": 19,
   "metadata": {},
   "outputs": [],
   "source": [
    "# TODO"
   ]
  },
  {
   "cell_type": "markdown",
   "metadata": {},
   "source": [
    "#### **1e(ii):** Which value do you recommend?"
   ]
  },
  {
   "cell_type": "code",
   "execution_count": 20,
   "metadata": {},
   "outputs": [],
   "source": [
    "# TODO"
   ]
  },
  {
   "cell_type": "markdown",
   "metadata": {},
   "source": [
    "#### **1e(iii):** Cumulative results table with K-Nearest Neighbor"
   ]
  },
  {
   "cell_type": "markdown",
   "metadata": {},
   "source": [
    "**Mean Squared Error:**\n",
    "\n",
    "| split |  guess mean | guess median | linear regr (2 feats) | linear regr (8 feats) | k-NN (8 feats)  |\n",
    "| ----- | ----------- | ------------ | --------------------- | --------------------- | ----- |\n",
    "| train |   \n",
    "| valid | \n",
    "| test  |"
   ]
  },
  {
   "cell_type": "markdown",
   "metadata": {},
   "source": [
    "# <a name=\"problem-1-g\"> 1g: Analyzing Residuals </a>\n",
    "\n",
    "Bonus points possible. Not a required question. Feel free to skip"
   ]
  },
  {
   "cell_type": "code",
   "execution_count": 21,
   "metadata": {},
   "outputs": [],
   "source": [
    "# TODO compute the predicted y values for linear regr and kNN"
   ]
  },
  {
   "cell_type": "markdown",
   "metadata": {},
   "source": [
    "#### **1f(i):** Plot scatters of y vs yhat for linear regression and the best k-NN regressor\n"
   ]
  },
  {
   "cell_type": "code",
   "execution_count": 22,
   "metadata": {},
   "outputs": [
    {
     "data": {
      "image/png": "[encoded data removed]",
      "text/plain": [
       "<Figure size 432x288 with 2 Axes>"
      ]
     },
     "metadata": {
      "needs_background": "light"
     },
     "output_type": "display_data"
    }
   ],
   "source": [
    "fig_h, ax_grid = plt.subplots(nrows=1, ncols=2, sharex=True, sharey=True)\n",
    "plt.xlim([0, 26]); plt.ylim([0, 26]);\n",
    "\n",
    "# ax_grid[0].plot(y_va_N, linear_yhat_va_N, 'k.', alpha=0.2);\n",
    "ax_grid[0].set_title('Linear Regr.'); plt.xlabel('true y'); plt.ylabel('predicted y');\n",
    "\n",
    "# ax_grid[1].plot(y_va_N, knn_yhat_va_N, 'k.', alpha=0.2);\n",
    "plt.title('k-NN Regr.'); plt.xlabel('true y'); plt.ylabel('predicted y');"
   ]
  },
  {
   "cell_type": "markdown",
   "metadata": {},
   "source": [
    "#### **1f(ii):** What kinds of systematic errors does each method make? What should be done about these?\n"
   ]
  },
  {
   "cell_type": "markdown",
   "metadata": {},
   "source": [
    "TODO ANSWER HERE"
   ]
  },
  {
   "cell_type": "code",
   "execution_count": null,
   "metadata": {},
   "outputs": [],
   "source": []
  },
  {
   "cell_type": "code",
   "execution_count": null,
   "metadata": {},
   "outputs": [],
   "source": []
  },
  {
   "cell_type": "code",
   "execution_count": null,
   "metadata": {},
   "outputs": [],
   "source": []
  },
  {
   "cell_type": "markdown",
   "metadata": {},
   "source": [
    "# Problem 2 : Analysis of Doctor Visits"
   ]
  },
  {
   "cell_type": "code",
   "execution_count": 23,
   "metadata": {},
   "outputs": [],
   "source": [
    "# TODO load data here"
   ]
  },
  {
   "cell_type": "markdown",
   "metadata": {},
   "source": [
    "# 2a : Baseline predictions"
   ]
  },
  {
   "cell_type": "markdown",
   "metadata": {},
   "source": [
    "#### **2a(i):** Given stakeholder's preferences, which error metric is most appropriate and why?"
   ]
  },
  {
   "cell_type": "markdown",
   "metadata": {},
   "source": [
    "Because errors should scale linearly, we should use the *mean absolute error* metric.\n",
    "\n",
    "If we used mean squared error, an error of 2 would cost 4x an error of 1."
   ]
  },
  {
   "cell_type": "code",
   "execution_count": 24,
   "metadata": {},
   "outputs": [],
   "source": [
    "mean_value_predictor = MeanPredictor()\n",
    "## TODO fit and predict..."
   ]
  },
  {
   "cell_type": "code",
   "execution_count": 25,
   "metadata": {},
   "outputs": [],
   "source": [
    "median_value_predictor = MedianPredictor()\n",
    "## TODO fit and predict..."
   ]
  },
  {
   "cell_type": "markdown",
   "metadata": {},
   "source": [
    "#### 2a(ii) : Results Table for Doctor Visits with Mean Absolute Error\n",
    "\n",
    "**Mean Absolute Error:**\n",
    "\n",
    "| split |  guess-mean | guess-median |\n",
    "| ----- | ----------- | ------------ |\n",
    "| train |      \n",
    "| valid |  \n",
    "| test  | "
   ]
  },
  {
   "cell_type": "markdown",
   "metadata": {},
   "source": [
    "# Setup code for 2b"
   ]
  },
  {
   "cell_type": "code",
   "execution_count": 26,
   "metadata": {},
   "outputs": [],
   "source": [
    "linear_regressor_2feats = LeastSquaresLinearRegressor()\n",
    "# TODO fit and predict"
   ]
  },
  {
   "cell_type": "code",
   "execution_count": 27,
   "metadata": {},
   "outputs": [],
   "source": [
    "linear_regressor_10feats = LeastSquaresLinearRegressor()\n",
    "# TODO fit and predict"
   ]
  },
  {
   "cell_type": "markdown",
   "metadata": {},
   "source": [
    "** 2b(i) and 2b(ii):** Add LR to Results Table for MAE on DoctorVisits"
   ]
  },
  {
   "cell_type": "markdown",
   "metadata": {},
   "source": [
    "**Mean Absolute Error:**\n",
    "\n",
    "| split |  guess-mean | guess-median | linear regr (2 feats) | linear regr (10 feats) |\n",
    "| ----- | ----------- | ------------ | --------------------- | ---------------------- |\n",
    "| train |    \n",
    "| valid |    \n",
    "| test  |    "
   ]
  },
  {
   "cell_type": "markdown",
   "metadata": {},
   "source": [
    "** 2b(iii):** Does using more features seem worthwhile? Why or why not?"
   ]
  },
  {
   "cell_type": "markdown",
   "metadata": {},
   "source": [
    "# 2c : DecisionTreeRegressor "
   ]
  },
  {
   "cell_type": "code",
   "execution_count": 28,
   "metadata": {},
   "outputs": [],
   "source": [
    "param_name = 'min_samples_leaf'\n",
    "param_list = [1, 2, 3, 4, 5, 10, 20, 50, 100, 200, 500, 1000] # TODO add size of training set"
   ]
  },
  {
   "cell_type": "code",
   "execution_count": 29,
   "metadata": {},
   "outputs": [],
   "source": [
    "train_mae_list = []\n",
    "valid_mae_list = []\n",
    "test_mae_list = []\n",
    "for param in param_list:\n",
    "    tree_regr = sklearn.tree.DecisionTreeRegressor(\n",
    "        min_samples_leaf=param,\n",
    "        random_state=42)\n",
    "    # Fit, predict, and track performance metrics..."
   ]
  },
  {
   "cell_type": "markdown",
   "metadata": {},
   "source": [
    "#### 2c(i): Line plot of mean absolute error vs min_samples_leaf"
   ]
  },
  {
   "cell_type": "code",
   "execution_count": 30,
   "metadata": {},
   "outputs": [],
   "source": [
    "# TODO plot results"
   ]
  },
  {
   "cell_type": "markdown",
   "metadata": {},
   "source": [
    "#### **2c(ii):** Which value of min_samples_leaf would you recommend?\n"
   ]
  },
  {
   "cell_type": "markdown",
   "metadata": {},
   "source": [
    "TODO"
   ]
  },
  {
   "cell_type": "markdown",
   "metadata": {},
   "source": [
    "#### 2c(iii): Add a column to the results table for MAE on DoctorVisits"
   ]
  },
  {
   "cell_type": "markdown",
   "metadata": {},
   "source": [
    "**Mean Absolute Error:**\n",
    "\n",
    "\n",
    "| split |  guess-mean | guess-median | linear regr (2 feats) | linear regr (10 feats) | decision tree\n",
    "| ----- | ----------- | ------------ | --------------------- | ---------------------- | --- |\n",
    "| train |    \n",
    "| valid |    \n",
    "| test  |    "
   ]
  },
  {
   "cell_type": "markdown",
   "metadata": {},
   "source": [
    "# 2d : DecisionTreeRegressor with MAE Training Criterion"
   ]
  },
  {
   "cell_type": "code",
   "execution_count": 31,
   "metadata": {},
   "outputs": [],
   "source": [
    "train_mae_list = []\n",
    "valid_mae_list = []\n",
    "test_mae_list = []\n",
    "for param in param_list:\n",
    "    tree_regr = sklearn.tree.DecisionTreeRegressor(\n",
    "        criterion='mae', # USE MEAN ABSOLUTE ERROR here\n",
    "        min_samples_leaf=param,\n",
    "        random_state=42)\n",
    "    # TODO fit, predict, and track performance metrics"
   ]
  },
  {
   "cell_type": "markdown",
   "metadata": {},
   "source": [
    "#### 2d(i): Line plot of mean absolute error vs min_samples_leaf"
   ]
  },
  {
   "cell_type": "code",
   "execution_count": 32,
   "metadata": {},
   "outputs": [],
   "source": [
    "# TODO"
   ]
  },
  {
   "cell_type": "markdown",
   "metadata": {},
   "source": [
    "#### 2d(ii): Which value would you recommend?"
   ]
  },
  {
   "cell_type": "code",
   "execution_count": 33,
   "metadata": {},
   "outputs": [],
   "source": [
    "# TODO"
   ]
  },
  {
   "cell_type": "markdown",
   "metadata": {},
   "source": [
    "#### Setup for 2d(iii)"
   ]
  },
  {
   "cell_type": "markdown",
   "metadata": {},
   "source": [
    "#### 2d(iii): Add a column to the results table for MAE on DoctorVisits\n",
    "\n",
    "\n",
    "**Mean Absolute Error:**\n",
    "\n",
    "\n",
    "| split |  guess-mean | guess-median | linear regr (2 feats) | linear regr (10 feats) | decision tree (MSE) | decision tree (MAE)\n",
    "| ----- | ----------- | ------------ | --------------------- | ---------------------- | --- | --- |\n",
    "| train |    \n",
    "| valid |    \n",
    "| test  |    "
   ]
  },
  {
   "cell_type": "code",
   "execution_count": null,
   "metadata": {},
   "outputs": [],
   "source": []
  },
  {
   "cell_type": "code",
   "execution_count": null,
   "metadata": {},
   "outputs": [],
   "source": []
  },
  {
   "cell_type": "code",
   "execution_count": null,
   "metadata": {},
   "outputs": [],
   "source": []
  },
  {
   "cell_type": "code",
   "execution_count": null,
   "metadata": {},
   "outputs": [],
   "source": []
  },
  {
   "cell_type": "markdown",
   "metadata": {},
   "source": [
    "# Problem 3: Concept questions"
   ]
  },
  {
   "cell_type": "markdown",
   "metadata": {},
   "source": [
    "# 3a: Limits of $K$-NN\n",
    "\n",
    "**Question**: When $K$ equals the total training set size $N$, the $K$-nearest-neighbor regression algorithm approaches the behavior of which other regression method discussed here?"
   ]
  },
  {
   "cell_type": "markdown",
   "metadata": {},
   "source": [
    "#### 3a Answer:"
   ]
  },
  {
   "cell_type": "markdown",
   "metadata": {},
   "source": [
    "TODO"
   ]
  },
  {
   "cell_type": "markdown",
   "metadata": {},
   "source": [
    "# 3b: Modifications of $K$-NN\n",
    "\n",
    "**Question**: Suppose in problem 2, when trying to minimize *mean absolute error* on heldout data, that instead of a DecisionTreeRegressor, we had used a $K$-NN regressor with Euclidean distance (as in Problem 1f).  \n",
    "\n",
    "Would we expect $K$-NN with large $K$ to always beat the strongest constant-prediction baseline (e.g. guess-median or guess-mean)?\n",
    "\n",
    "To get better MAE values using a nearest-neighbor like approach, should we change the distance function used to compute neighbors? Would we need to change some other step of the $K$-NN prediction process?\n"
   ]
  },
  {
   "cell_type": "markdown",
   "metadata": {},
   "source": [
    "#### 3b Answer:"
   ]
  },
  {
   "cell_type": "markdown",
   "metadata": {},
   "source": [
    "TODO"
   ]
  },
  {
   "cell_type": "markdown",
   "metadata": {},
   "source": [
    "# 3c: Linear Regression with Categorical Features\n",
    "\n",
    "**Question:** Your colleague trains a linear regression model on a subset of the DoctorVisits data using only the `has_medicaid` and `has_private_insurance` features. Thus, all features in the vector have a binary categorical type and can be represented via a redundant one-hot encoding. \n",
    "\n",
    "To your dismay, you discover that your colleague failed to include a bias term (aka intercept term) when training the weights. You recall from class that including a bias term can be important.\n",
    "\n",
    "To be concrete, you wish each example $x_i$ was represented as a (bias-included) vector:\n",
    "$$\n",
    "x_i = [\n",
    "    \\texttt{has_medicaid}\n",
    "    \\quad \\texttt{has_private_insurance}\n",
    "    \\quad 1\n",
    "] \\quad \\quad \\quad ~\n",
    "$$\n",
    "\n",
    "However, your colleague used the following representation:\n",
    "$$\n",
    "\\tilde{x}_i = [\n",
    "    \\texttt{has_medicaid}\n",
    "    \\quad \\texttt{not(has_medicaid)}\n",
    "    \\quad \\texttt{has_private_insurance}\n",
    "    \\quad \\texttt{not(has_private_insurance)} \n",
    "]\n",
    "$$\n",
    "\n",
    "Your colleague has delivered to you a length-4 feature vector $\\tilde{w}$ for the 4 features above, but then left for vacation without giving you access to the training data.\n",
    "\n",
    "Can you manipulate the $\\tilde{w}$ vector to estimate an appropriate $w$ and $b$ such that for all possible inputs $x_i$:\n",
    "\n",
    "$$\n",
    "    w^T x_i + b = \\tilde{w}^T \\tilde{x}_i\n",
    "$$"
   ]
  },
  {
   "cell_type": "markdown",
   "metadata": {},
   "source": [
    "#### 3c Answer:"
   ]
  },
  {
   "cell_type": "markdown",
   "metadata": {},
   "source": [
    "TODO"
   ]
  },
  {
   "cell_type": "code",
   "execution_count": null,
   "metadata": {},
   "outputs": [],
   "source": []
  }
 ],
 "metadata": {
  "anaconda-cloud": {},
  "kernelspec": {
   "display_name": "Python 3",
   "language": "python",
   "name": "python3"
  },
  "language_info": {
   "codemirror_mode": {
    "name": "ipython",
    "version": 3
   },
   "file_extension": ".py",
   "mimetype": "text/x-python",
   "name": "python",
   "nbconvert_exporter": "python",
   "pygments_lexer": "ipython3",
   "version": "3.6.8"
  }
 },
 "nbformat": 4,
 "nbformat_minor": 2
}
