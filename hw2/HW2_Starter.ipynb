{
 "cells": [
  {
   "cell_type": "markdown",
   "metadata": {},
   "source": [
    "# COMP 135 Spring 2019: HW2 Solution Notebook"
   ]
  },
  {
   "cell_type": "markdown",
   "metadata": {},
   "source": [
    "## Setup comp135_env package imports¶\n"
   ]
  },
  {
   "cell_type": "code",
   "execution_count": 288,
   "metadata": {},
   "outputs": [],
   "source": [
    "import os\n",
    "import numpy as np\n",
    "import warnings\n",
    "\n",
    "import sklearn.preprocessing\n",
    "import sklearn.pipeline\n",
    "import sklearn.linear_model\n",
    "import sklearn.metrics\n",
    "import sklearn.model_selection\n",
    "\n",
    "from matplotlib import pyplot as plt\n",
    "import seaborn as sns"
   ]
  },
  {
   "cell_type": "code",
   "execution_count": 289,
   "metadata": {},
   "outputs": [],
   "source": [
    "%matplotlib inline"
   ]
  },
  {
   "cell_type": "markdown",
   "metadata": {},
   "source": [
    "## Setup student-defined imports"
   ]
  },
  {
   "cell_type": "code",
   "execution_count": 290,
   "metadata": {},
   "outputs": [],
   "source": [
    "# None needed"
   ]
  },
  {
   "cell_type": "markdown",
   "metadata": {},
   "source": [
    "## Load Auto dataset for Problem 1"
   ]
  },
  {
   "cell_type": "code",
   "execution_count": 291,
   "metadata": {},
   "outputs": [],
   "source": [
    "x_tr_MF = np.loadtxt('data_auto/x_train.csv', delimiter=',', skiprows=1)\n",
    "x_va_NF = np.loadtxt('data_auto/x_valid.csv', delimiter=',', skiprows=1)\n",
    "x_te_PF = np.loadtxt('data_auto/x_test.csv', delimiter=',', skiprows=1)"
   ]
  },
  {
   "cell_type": "code",
   "execution_count": 292,
   "metadata": {},
   "outputs": [],
   "source": [
    "y_tr_M = np.loadtxt('data_auto/y_train.csv', delimiter=',', skiprows=1)\n",
    "y_va_N = np.loadtxt('data_auto/y_valid.csv', delimiter=',', skiprows=1)\n",
    "y_te_P = np.loadtxt('data_auto/y_test.csv', delimiter=',', skiprows=1)"
   ]
  },
  {
   "cell_type": "markdown",
   "metadata": {},
   "source": [
    "## Problem 1a: Polynomial Degree Selection on Fixed Validation Set"
   ]
  },
  {
   "cell_type": "markdown",
   "metadata": {},
   "source": [
    "#### **1a(i):** Plot the number of polynomial features $G$ vs. degree $D$"
   ]
  },
  {
   "cell_type": "code",
   "execution_count": 293,
   "metadata": {},
   "outputs": [
    {
     "data": {
      "image/png": "[encoded data removed]",
      "text/plain": [
       "<Figure size 432x288 with 1 Axes>"
      ]
     },
     "metadata": {
      "needs_background": "light"
     },
     "output_type": "display_data"
    }
   ],
   "source": [
    "degree_list = [1, 2, 3, 4, 5, 6, 7, 8]\n",
    "num_poly_feat_list = []\n",
    "for degree in degree_list:    \n",
    "    poly_transformer = sklearn.preprocessing.PolynomialFeatures(\n",
    "        degree=degree, include_bias=False)\n",
    "    x_tr_MG=poly_transformer.fit_transform(x_tr_MF)\n",
    "    num_feat=x_tr_MG.shape[1]\n",
    "    num_poly_feat_list.append(num_feat)\n",
    "##print(num_poly_feat_list)\n",
    "plt.plot(degree_list, num_poly_feat_list, label='Number of Features')\n",
    "plt.legend()\n",
    "plt.show()"
   ]
  },
  {
   "cell_type": "markdown",
   "metadata": {},
   "source": [
    "#### The number of features is growing faster and faster."
   ]
  },
  {
   "cell_type": "markdown",
   "metadata": {},
   "source": [
    "### 1a(ii): Fit a linear regression model to a polynomial feature transformation of the provided training set of $x$, $y$ values at each of these possible degrees: [1, 2, 3, 4, 5, 6].\n"
   ]
  },
  {
   "cell_type": "code",
   "execution_count": 294,
   "metadata": {},
   "outputs": [
    {
     "data": {
      "image/png": "[encoded data removed]",
      "text/plain": [
       "<Figure size 432x288 with 1 Axes>"
      ]
     },
     "metadata": {
      "needs_background": "light"
     },
     "output_type": "display_data"
    }
   ],
   "source": [
    "degree_list = [1, 2, 3, 4, 5, 6]\n",
    "err_tr_list = []\n",
    "err_va_list = []\n",
    "coef_list = []\n",
    "for degree in degree_list:\n",
    "    poly_transformer = sklearn.preprocessing.PolynomialFeatures(\n",
    "        degree=degree, include_bias=False)\n",
    "    x_tr_MG=poly_transformer.fit_transform(x_tr_MF)\n",
    "    #print(x_tr_MG.shape)\n",
    "    reg = sklearn.linear_model.LinearRegression().fit(x_tr_MG, y_tr_M)\n",
    "    \n",
    "    #get coefficient\n",
    "    c=list(reg.coef_)\n",
    "    c.append(reg.intercept_)\n",
    "    #print(len(c))\n",
    "    coef_list.append(c);\n",
    "    \n",
    "    #get training mse\n",
    "    dif_tr=y_tr_M-reg.predict(x_tr_MG)\n",
    "    mse_tr=1/dif_tr.shape[0]*np.dot(dif_tr,dif_tr)\n",
    "    err_tr_list.append(mse_tr)\n",
    "    \n",
    "    #get valid mse\n",
    "    x_va_MG=poly_transformer.fit_transform(x_va_NF)\n",
    "    dif_va=y_va_N-reg.predict(x_va_MG)\n",
    "    mse_va=1/dif_va.shape[0]*np.dot(dif_va,dif_va)\n",
    "    err_va_list.append(mse_va)\n",
    "    \n",
    "##print (coef_list)\n",
    "##print(err_tr_list)\n",
    "##print(err_va_list)\n",
    "\n",
    "plt.plot(degree_list, err_tr_list, 'b:', label='Training Error')\n",
    "plt.plot(degree_list, err_va_list, 'rs-', label='Validation Error')\n",
    "plt.legend()\n",
    "plt.show()"
   ]
  },
  {
   "cell_type": "markdown",
   "metadata": {},
   "source": [
    "### **1a(iii):** Based on this plot, which single degree value do you recommend? Why?"
   ]
  },
  {
   "cell_type": "markdown",
   "metadata": {},
   "source": [
    "2. It has least mse in validation set and the computational cost is low (with less parameters)."
   ]
  },
  {
   "cell_type": "markdown",
   "metadata": {},
   "source": [
    "### **1a(iv):** Report the numerical values of the 5th percentile and 95th percentile of the coefficients observed in your linear regression model for degrees 3, 4, 5, and 6. What seems to be happening?"
   ]
  },
  {
   "cell_type": "code",
   "execution_count": 295,
   "metadata": {},
   "outputs": [
    {
     "name": "stdout",
     "output_type": "stream",
     "text": [
      "Degree  3  5%: [2.779327943826762, -0.46425858777657025, -0.005306223013220241]\n",
      "Degree  3 95%: [-7.395334313450375e-05, 3.8254714603003226e-07]\n",
      "Degree  4  5%: [-0.0003183090637989265, 0.00013827221056066742, -1.692701929767107e-05, -2.0055658997639153e-07, -4.943446285261895e-06, -3.833396467065371e-05]\n",
      "Degree  4 95%: [-3.919490476752643e-05, -0.0012688788792116557, 4.145682053874722e-05, 3.9137755778018895e-07, -1.3030182280767417e-08]\n",
      "Degree  5  5%: [1.9109123216258055e-08, -2.9143497252624494e-09, -2.465653225405581e-09, -2.9060226728729757e-10, 3.4208743733484904e-11, -1.463930173436295e-10, 5.910866684801363e-12, 1.947999156420853e-11, 6.741634396516043e-11, 4.3592911043066275e-11]\n",
      "Degree  5 95%: [-4.00088595427297e-09, 4.496828483141739e-11, -5.338131364963203e-13, 2.0989637232349073e-11, 4.140862222813379e-11, -1.0837701073373435e-08, -8.102029556802606e-08, 1.254707331092048e-08, -2.162922919801099e-10]\n"
     ]
    }
   ],
   "source": [
    "for i in range(3,6):\n",
    "    Num5P=np.floor(0.05*len(coef_list[i]))\n",
    "    Num95P=np.ceil(0.95*len(coef_list[i]))\n",
    "    Num5P=Num5P.astype(int);\n",
    "    Num95P=Num95P.astype(int);\n",
    "    print('Degree ', i, ' 5%:', coef_list[i][0:Num5P])\n",
    "    print('Degree ', i, '95%:', coef_list[i][Num95P: len(coef_list[i])-1])"
   ]
  },
  {
   "cell_type": "markdown",
   "metadata": {},
   "source": [
    "They tends to go very close to zero."
   ]
  },
  {
   "cell_type": "markdown",
   "metadata": {},
   "source": [
    "### **1a(v):** Comment on the training error observed at degree 6. Based on your formulas from **1a(i)** and your knowledge of linear regression, what **should** the training error be at degree 6? What do you think is happening instead?"
   ]
  },
  {
   "cell_type": "markdown",
   "metadata": {},
   "source": [
    "The error of degree 6 goes higher than degree 5.  \n",
    "In general, the error should be zero as there are more features than coef.  \n",
    "This means the computer could not solve the problem well as the feature vandermonde matrix X is ill-conditioned, which has a big condition number(see below). SKlearn uses persudo inverse to solve least square problems, which involves SVD. The multi-feature vandermonde matrix X will go nearly singular when the degree is high, which leads to an inaccurate calculation for SVD and thus persudo-inverse. Even for normal equation we used in class, this will cause big errors.\""
   ]
  },
  {
   "cell_type": "code",
   "execution_count": 296,
   "metadata": {},
   "outputs": [
    {
     "data": {
      "text/plain": [
       "1.3461920984838324e+33"
      ]
     },
     "execution_count": 296,
     "metadata": {},
     "output_type": "execute_result"
    }
   ],
   "source": [
    "np.linalg.cond(x_tr_MG)"
   ]
  },
  {
   "cell_type": "markdown",
   "metadata": {},
   "source": [
    "# 1b: Linear regression with Rescaled Polynomial Bases"
   ]
  },
  {
   "cell_type": "markdown",
   "metadata": {},
   "source": [
    "Setup code below to make a pipeline"
   ]
  },
  {
   "cell_type": "code",
   "execution_count": 297,
   "metadata": {},
   "outputs": [],
   "source": [
    "def make_pipeline(degree=None):\n",
    "    pipeline = sklearn.pipeline.Pipeline(\n",
    "        steps=[\n",
    "         ('rescaler', sklearn.preprocessing.MinMaxScaler()),\n",
    "         ('poly_transformer', sklearn.preprocessing.PolynomialFeatures(degree=degree, include_bias=False)),\n",
    "         ('poly_rescaler', sklearn.preprocessing.MinMaxScaler()),\n",
    "         ('linear_regr', sklearn.linear_model.LinearRegression()),\n",
    "        ])\n",
    "    \n",
    "    # Define utility method that performs all the feature transforms of the pipeline in order.\n",
    "    def calc_features(x):\n",
    "        ''' Maps input features to rescaled polynomial features\n",
    "        '''\n",
    "        feat = x\n",
    "        for step_name, step_tfmr in pipeline.steps[:-1]:\n",
    "            feat = step_tfmr.transform(feat)\n",
    "        return feat\n",
    "    pipeline.calc_features = calc_features\n",
    "    \n",
    "    # Define utility method that accesses the linear regression weights\n",
    "    pipeline.get_linear_regr_weights = lambda: pipeline.named_steps['linear_regr'].coef_\n",
    "\n",
    "    # Return the constructed pipeline\n",
    "    # We can treat it as if it has a 'regression' API\n",
    "    # e.g. a fit and a predict method\n",
    "    return pipeline"
   ]
  },
  {
   "cell_type": "code",
   "execution_count": 298,
   "metadata": {},
   "outputs": [],
   "source": [
    "degree_list = [1, 2, 3, 4, 5, 6]\n",
    "err_tr_list = []\n",
    "err_va_list = []\n",
    "pipeline_list = []\n",
    "\n",
    "# TODO fit model at each degree and track error metrics\n",
    "for degree in degree_list:\n",
    "    poly_fit=make_pipeline(degree)\n",
    "    poly_fit.fit(x_tr_MF, y_tr_M)\n",
    "    \n",
    "    #get training mse\n",
    "    dif_tr=y_tr_M-poly_fit.predict(x_tr_MF)\n",
    "    mse_tr=1/dif_tr.shape[0]*np.dot(dif_tr,dif_tr)\n",
    "    err_tr_list.append(mse_tr)\n",
    "    \n",
    "    #get valid mse\n",
    "    dif_va=y_va_N-poly_fit.predict(x_va_NF)\n",
    "    mse_va=1/dif_va.shape[0]*np.dot(dif_va,dif_va)\n",
    "    err_va_list.append(mse_va)\n",
    "    \n",
    "    pipeline_list.append(poly_fit)\n",
    "    \n",
    "##print (err_tr_list)\n",
    "##print (err_va_list)"
   ]
  },
  {
   "cell_type": "markdown",
   "metadata": {},
   "source": [
    "#### 1b(i): Plot MSE for *rescaled* polynomial features vs. degrees"
   ]
  },
  {
   "cell_type": "code",
   "execution_count": 299,
   "metadata": {},
   "outputs": [
    {
     "data": {
      "image/png": "[encoded data removed]",
      "text/plain": [
       "<Figure size 432x288 with 1 Axes>"
      ]
     },
     "metadata": {
      "needs_background": "light"
     },
     "output_type": "display_data"
    }
   ],
   "source": [
    "plt.plot(degree_list, err_tr_list, 'b:', label=\"Training Error\")\n",
    "plt.plot(degree_list, err_va_list, 'rs-', label=\"Validation Error\")\n",
    "plt.ylim(0,70)\n",
    "plt.legend()\n",
    "plt.show()"
   ]
  },
  {
   "cell_type": "markdown",
   "metadata": {},
   "source": [
    "### **1b(ii):** Using this new analysis, which degree do you recommend? \n"
   ]
  },
  {
   "cell_type": "markdown",
   "metadata": {},
   "source": [
    "Still 2."
   ]
  },
  {
   "cell_type": "markdown",
   "metadata": {},
   "source": [
    "### **1b(iii):** Report the numerical values of the 5th percentile and 95th percentile of the coefficients observed in this most recent linear regression model at all degrees. What seems to be happening? What's different than in **1a**?"
   ]
  },
  {
   "cell_type": "code",
   "execution_count": 300,
   "metadata": {},
   "outputs": [
    {
     "name": "stdout",
     "output_type": "stream",
     "text": [
      "Degree  1  5%: [-40.72382583]\n",
      "Degree  1 95%: [52.64870837]\n",
      "Degree  2  5%: [-51.30784591  -0.18962152]\n",
      "Degree  2 95%: [-1696.7703392   1025.55311573]\n",
      "Degree  3  5%: [  617.44783208  -191.08377605  1774.23863576 -1343.55587852]\n",
      "Degree  3 95%: [-12796.21288058  55023.34640694 -56683.52781788  17563.69104935]\n",
      "Degree  4  5%: [ 6.05590416e+11  8.63945896e+10  7.07304500e+11  2.18256390e+11\n",
      " -6.64566085e+11 -5.82930813e+11 -4.79242813e+12]\n",
      "Degree  4 95%: [-1.12526114e+06  2.15781912e+11 -6.50223536e+11  3.81745683e+11\n",
      " -5.11751855e+05 -7.65297826e+05  5.73201097e+05]\n",
      "Degree  5  5%: [ 5.14336982e+10 -3.59190661e+10  4.56095762e+10 -2.35430188e+10\n",
      "  1.12459333e+10 -5.85649458e+10 -4.30289567e+11 -1.10059237e+10\n",
      "  5.14481475e+10  1.91068577e+11 -2.65253594e+10]\n",
      "Degree  5 95%: [-4.01445290e+10  1.73474369e+10  7.31763131e+08 -1.35495266e+09\n",
      " -4.62962317e+11  6.42847850e+11 -1.55819876e+10 -7.24796134e+09\n",
      " -1.65923923e+10  8.99654681e+09 -5.22221985e+07]\n"
     ]
    }
   ],
   "source": [
    "for i in range(1,6):\n",
    "    features=pipeline_list[i].get_linear_regr_weights()\n",
    "    Num5P=np.ceil(0.05*len(features))\n",
    "    Num95P=np.floor(0.95*len(features))\n",
    "    Num5P=Num5P.astype(int);\n",
    "    Num95P=Num95P.astype(int);\n",
    "    print('Degree ', i, ' 5%:', features[0:Num5P])\n",
    "    print('Degree ', i, '95%:', features[Num95P: len(coef_list[i])-1])"
   ]
  },
  {
   "cell_type": "markdown",
   "metadata": {},
   "source": [
    "**Answer**:   \n",
    "The coeficient goes really big.  \n",
    "The difference is all data are scaled into a small range so the coeficient are rescaled accordingly. By the nature of least square fitting, if one feature scaled to $\\frac{1}{n}$ of the origin data, the coeficient will get larger by n times. This also shows the data is over fitting as the coefficient is large."
   ]
  },
  {
   "cell_type": "markdown",
   "metadata": {},
   "source": [
    "**Answer 1b(v)**:  \n",
    "The training error of degree 6 goes to 0.3.  \n",
    "We are expecting an error of 0, so this is much closer to what we expects, much better than 1a. However, this is still not ideal.  \n",
    "The difference is that the data are rescaled to a reasonable range so the matrix X is probably much better conditioned. However, X is still pretty singular because 0.3 is still far larger than a machine error."
   ]
  },
  {
   "cell_type": "markdown",
   "metadata": {},
   "source": [
    "# 1c: Cross Validation setup"
   ]
  },
  {
   "cell_type": "markdown",
   "metadata": {},
   "source": [
    "Combine original train/valid splits into one mega dataset"
   ]
  },
  {
   "cell_type": "code",
   "execution_count": 301,
   "metadata": {},
   "outputs": [],
   "source": [
    "x_trva_LF = np.vstack([x_tr_MF, x_va_NF])\n",
    "y_trva_L = np.hstack([y_tr_M, y_va_N])"
   ]
  },
  {
   "cell_type": "markdown",
   "metadata": {},
   "source": [
    "### **Coding Step 1/1:** Complete the starter code function "
   ]
  },
  {
   "cell_type": "code",
   "execution_count": 302,
   "metadata": {},
   "outputs": [],
   "source": [
    "def calc_mean_squared_error_across_k_folds(\n",
    "        model, x_LF, y_L, K=5, random_state=0):\n",
    "    ''' Calculate mean squared error on K cross-validation folds\n",
    "    \n",
    "    Args\n",
    "    ----\n",
    "    model: sklearn predictor object\n",
    "        has `fit` and `predict` methods\n",
    "    x_LF : 2D array, size n_examples x n_features\n",
    "        \n",
    "    y_L : 1D array, size n_examples\n",
    "    K : int\n",
    "    random_state : int or np.random.RandomState instance\n",
    "    \n",
    "    Returns\n",
    "    -------\n",
    "    mse_scores_K : 1D array, size K\n",
    "        estimate of MSE on each of the K folds\n",
    "    '''\n",
    "    kfold_iterator = sklearn.model_selection.KFold(\n",
    "        n_splits=K, shuffle=True, random_state=random_state)\n",
    "    \n",
    "    # TODO compute mse on each of the K folds\n",
    "    va_mse=[];\n",
    "    for ind_tr, ind_va in kfold_iterator.split(x_LF):\n",
    "        x_tr, x_va = x_LF[ind_tr], x_LF[ind_va]\n",
    "        y_tr, y_va = y_L[ind_tr], y_L[ind_va]\n",
    "        model.fit(x_tr, y_tr)\n",
    "    \n",
    "        #get valid mse\n",
    "        dif_va=y_va-model.predict(x_va)\n",
    "        mse_va=1/dif_va.shape[0]*np.dot(dif_va,dif_va)\n",
    "        va_mse.append(mse_va)\n",
    "        \n",
    "        #print(mse_va)\n",
    "    #print(sum_tr/K, sum_va/K)\n",
    "    return va_mse"
   ]
  },
  {
   "cell_type": "markdown",
   "metadata": {},
   "source": [
    "### **1c(i):** Using your `calc_mean_squared_error_across_k_folds` function with 10 folds, make a line plot of the *average* mean-squared-error at degrees 1, 2, 3, 4, 5, 6. "
   ]
  },
  {
   "cell_type": "code",
   "execution_count": 303,
   "metadata": {},
   "outputs": [
    {
     "data": {
      "image/png": "[encoded data removed]",
      "text/plain": [
       "<Figure size 432x288 with 1 Axes>"
      ]
     },
     "metadata": {
      "needs_background": "light"
     },
     "output_type": "display_data"
    }
   ],
   "source": [
    "degree_list = [1, 2, 3, 4, 5, 6]\n",
    "err_va_list = []\n",
    "\n",
    "# TODO fit model at each degree and track error metrics\n",
    "for degree in degree_list:\n",
    "    err=calc_mean_squared_error_across_k_folds(make_pipeline(degree), x_trva_LF, y_trva_L,K=10)\n",
    "    \n",
    "    err_va_list.append(np.mean(err))\n",
    "\n",
    "plt.plot(degree_list, err_va_list, 'rs-', label=\"Average MSE\")\n",
    "plt.ylim(0,70)\n",
    "plt.legend()\n",
    "plt.show()"
   ]
  },
  {
   "cell_type": "markdown",
   "metadata": {},
   "source": [
    "#### **1c(ii):** Based on this plot, what is your recommended degree? How do your recommendations differ from *1b*?"
   ]
  },
  {
   "cell_type": "markdown",
   "metadata": {},
   "source": [
    "**Answer**: Still 2. It's the same recommendations. It has the least va error.  \n",
    "As far as I'm concerned, as the set up of random generator might be different. So it might give other result on different machines. "
   ]
  },
  {
   "cell_type": "markdown",
   "metadata": {},
   "source": [
    "#### **1c(iii):** For each $K$, make a scatter plot of the $K$ fold-specific estimates of MSE ($K$ is x-axis, MSE on y-axis). Also draw a line connecting the average MSE across $K$."
   ]
  },
  {
   "cell_type": "code",
   "execution_count": 304,
   "metadata": {},
   "outputs": [],
   "source": [
    "degree = 3\n",
    "K_list = [2, 5, 10, 15, 20, 30, 40, 50, 60, 70, 80, 90, 100, 110, 120, 130, 140]\n",
    "pipeline = make_pipeline(degree)\n",
    "err_va_list = []\n",
    "avg_score_list=[]\n",
    "# TODO\n",
    "for Kval in K_list:\n",
    "    ##print(Kval)\n",
    "    err=calc_mean_squared_error_across_k_folds(pipeline, x_trva_LF, y_trva_L,K=Kval)\n",
    "    \n",
    "    err_va_list.append(err)\n",
    "    avg_score_list.append(np.mean(err))\n",
    "#print(len(err_va_list))"
   ]
  },
  {
   "cell_type": "code",
   "execution_count": 305,
   "metadata": {},
   "outputs": [
    {
     "data": {
      "image/png": "[encoded data removed]",
      "text/plain": [
       "<Figure size 432x288 with 1 Axes>"
      ]
     },
     "metadata": {
      "needs_background": "light"
     },
     "output_type": "display_data"
    }
   ],
   "source": [
    "fig,ax = plt.subplots()\n",
    "\n",
    "for i in range(0,len(K_list)):\n",
    "    ax.scatter(K_list[i]*np.ones(len(err_va_list[i])),err_va_list[i])\n",
    "ax.plot(K_list,avg_score_list, label=\"Average Score\")       \n",
    "#plt.ylim(0,70)\n",
    "plt.legend()\n",
    "plt.show()"
   ]
  },
  {
   "cell_type": "markdown",
   "metadata": {},
   "source": [
    "#### **1c(iv):** What happens to the distribution of MSE as you use more and more folds? Is the trend observed in Plot **1c(iii)** what we expect based on your readings from the ISL textbook Chapter 5? \n"
   ]
  },
  {
   "cell_type": "markdown",
   "metadata": {},
   "source": [
    "The mse becomes highly variable. And also there are some outliers with more number of folds(causing mean to be bigger).   \n",
    "Yes, this fit the conclusion of high variability and over-estimating(big mse)."
   ]
  },
  {
   "cell_type": "code",
   "execution_count": null,
   "metadata": {},
   "outputs": [],
   "source": []
  },
  {
   "cell_type": "markdown",
   "metadata": {},
   "source": [
    "# Problem 2: Regularized Linear Regression via L2 and L1 penalties"
   ]
  },
  {
   "cell_type": "markdown",
   "metadata": {},
   "source": [
    "### Setup Pipeline for Problem 2a: Grid Search for L2"
   ]
  },
  {
   "cell_type": "code",
   "execution_count": 306,
   "metadata": {},
   "outputs": [],
   "source": [
    "alpha_grid = np.logspace(-9, 6, 31)"
   ]
  },
  {
   "cell_type": "code",
   "execution_count": 307,
   "metadata": {},
   "outputs": [],
   "source": [
    "def make_L2regularized_pipeline(degree=2, alpha=1.0):\n",
    "    pipeline = sklearn.pipeline.Pipeline(\n",
    "        steps=[\n",
    "         ('rescaler', sklearn.preprocessing.MinMaxScaler()),\n",
    "         ('poly_transformer', sklearn.preprocessing.PolynomialFeatures(degree=degree, include_bias=False)),\n",
    "         ('poly_rescaler', sklearn.preprocessing.MinMaxScaler()),\n",
    "         ('linear_regr', sklearn.linear_model.Ridge(alpha=alpha)),\n",
    "        ])\n",
    "    \n",
    "    # Define utility method that performs all the feature transforms of the pipeline in order.\n",
    "    def calc_features(x):\n",
    "        tmp = x\n",
    "        for step_name, step_tfmr in pipeline.steps[:-1]:\n",
    "            tmp = step_tfmr.transform(tmp)\n",
    "        return tmp\n",
    "    pipeline.calc_features = calc_features\n",
    "    \n",
    "    pipeline.get_linear_regr_weights = lambda: pipeline.named_steps['linear_regr'].coef_\n",
    "    pipeline.get_linear_regr_bias = lambda: pipeline.named_steps['linear_regr'].intercept_\n",
    "\n",
    "    return pipeline"
   ]
  },
  {
   "cell_type": "code",
   "execution_count": null,
   "metadata": {},
   "outputs": [],
   "source": []
  },
  {
   "cell_type": "markdown",
   "metadata": {},
   "source": [
    "## Problem 2a: Grid Search for L2"
   ]
  },
  {
   "cell_type": "markdown",
   "metadata": {},
   "source": [
    "### **2a(i):** Train `Ridge` regression across grid of possible L2-penalty strengths $\\alpha$. Using *degree 2* polynomial features, plot the MSE vs. regularization strength on train and validation."
   ]
  },
  {
   "cell_type": "code",
   "execution_count": 308,
   "metadata": {},
   "outputs": [
    {
     "data": {
      "image/png": "[encoded data removed]",
      "text/plain": [
       "<Figure size 432x288 with 1 Axes>"
      ]
     },
     "metadata": {
      "needs_background": "light"
     },
     "output_type": "display_data"
    }
   ],
   "source": [
    "err_tr_list=[]\n",
    "err_va_list=[]\n",
    "for alphaV in alpha_grid:\n",
    "    \n",
    "    reg=make_L2regularized_pipeline(degree=2, alpha=alphaV)\n",
    "    reg.fit(x_tr_MF, y_tr_M)\n",
    "    \n",
    "    #get training mse\n",
    "    dif_tr=y_tr_M-reg.predict(x_tr_MF)\n",
    "    mse_tr=1/dif_tr.shape[0]*np.dot(dif_tr,dif_tr)\n",
    "    err_tr_list.append(mse_tr)\n",
    "    \n",
    "    #get valid mse\n",
    "    dif_va=y_va_N-reg.predict(x_va_NF)\n",
    "    mse_va=1/dif_va.shape[0]*np.dot(dif_va,dif_va)\n",
    "    err_va_list.append(mse_va)\n",
    "    ##print(alphaV,mse_tr)\n",
    "fig,ax = plt.subplots()\n",
    "ax.plot(alpha_grid,err_tr_list,'b:',  label=\"Training Error\")     \n",
    "ax.plot(alpha_grid,err_va_list,'rs-', label=\"Validation Error\")\n",
    "plt.xscale('log')\n",
    "plt.legend()\n",
    "plt.show()"
   ]
  },
  {
   "cell_type": "markdown",
   "metadata": {},
   "source": [
    "### **2a(ii):** Make the same plot at degree 6"
   ]
  },
  {
   "cell_type": "code",
   "execution_count": 309,
   "metadata": {},
   "outputs": [
    {
     "data": {
      "image/png": "[encoded data removed]",
      "text/plain": [
       "<Figure size 432x288 with 1 Axes>"
      ]
     },
     "metadata": {
      "needs_background": "light"
     },
     "output_type": "display_data"
    }
   ],
   "source": [
    "err_tr_list=[]\n",
    "err_va_list=[]\n",
    "pipeline_list=[]\n",
    "for alphaV in alpha_grid:\n",
    "    \n",
    "    reg=make_L2regularized_pipeline(degree=6, alpha=alphaV)\n",
    "    reg.fit(x_tr_MF, y_tr_M)\n",
    "    \n",
    "    #get training mse\n",
    "    dif_tr=y_tr_M-reg.predict(x_tr_MF)\n",
    "    mse_tr=1/dif_tr.shape[0]*np.dot(dif_tr,dif_tr)\n",
    "    err_tr_list.append(mse_tr)\n",
    "    \n",
    "    #get valid mse\n",
    "    dif_va=y_va_N-reg.predict(x_va_NF)\n",
    "    mse_va=1/dif_va.shape[0]*np.dot(dif_va,dif_va)\n",
    "    err_va_list.append(mse_va)\n",
    "    ##print(alphaV,mse_tr)\n",
    "    \n",
    "    pipeline_list.append(reg)\n",
    "fig,ax = plt.subplots()\n",
    "ax.plot(alpha_grid,err_tr_list,'b:',  label=\"Training Error\")     \n",
    "ax.plot(alpha_grid,err_va_list,'rs-', label=\"Validation Error\")\n",
    "plt.xscale('log')\n",
    "plt.legend()\n",
    "plt.show()"
   ]
  },
  {
   "cell_type": "markdown",
   "metadata": {},
   "source": [
    "### 2a(iii): How does the recommended $\\alpha$ change from deg. 2 to 6?"
   ]
  },
  {
   "cell_type": "markdown",
   "metadata": {},
   "source": [
    "**Answer**:  \n",
    "I will recomend a small alpha for degree 2(<0.01). But will recommend a median alpha (between 0.01 and 1) for degree 6."
   ]
  },
  {
   "cell_type": "code",
   "execution_count": 310,
   "metadata": {},
   "outputs": [
    {
     "data": {
      "image/png": "[encoded data removed]",
      "text/plain": [
       "<Figure size 432x288 with 1 Axes>"
      ]
     },
     "metadata": {
      "needs_background": "light"
     },
     "output_type": "display_data"
    }
   ],
   "source": [
    "c1=[]\n",
    "c2=[]\n",
    "c3=[]\n",
    "\n",
    "for regr in pipeline_list:\n",
    "    ft=regr.get_linear_regr_weights()\n",
    "    ct1=0; ct2=0; ct3=0;\n",
    "    \n",
    "    for i in ft:\n",
    "        i=np.abs(i);\n",
    "        if (i!=0):\n",
    "            ct1=ct1+1\n",
    "        if i>0.0001:\n",
    "            ct2=ct2+1\n",
    "        if i>0.1:\n",
    "            ct3=ct3+1\n",
    "    #print(ct1,ct2,ct3)\n",
    "    c1.append(ct1);\n",
    "    c2.append(ct2);\n",
    "    c3.append(ct3);\n",
    "fig,ax = plt.subplots()\n",
    "ax.plot(alpha_grid,c1,'k-',  label=\"None Zero\")     \n",
    "ax.plot(alpha_grid,c2,'b.-', label=\"Bigger than 1e-4\")\n",
    "ax.plot(alpha_grid,c3,'g.-', label=\"Bigger than 0.1\")\n",
    "plt.xscale('log')\n",
    "plt.legend()\n",
    "plt.show()"
   ]
  },
  {
   "cell_type": "markdown",
   "metadata": {},
   "source": [
    "## Problem 2b: Grid search for L1"
   ]
  },
  {
   "cell_type": "code",
   "execution_count": 311,
   "metadata": {},
   "outputs": [],
   "source": [
    "def make_L1regularized_pipeline(degree=2, alpha=1.0):\n",
    "    pipeline = sklearn.pipeline.Pipeline(\n",
    "        steps=[\n",
    "         ('rescaler', sklearn.preprocessing.MinMaxScaler()),\n",
    "         ('poly_transformer', sklearn.preprocessing.PolynomialFeatures(degree=degree, include_bias=False)),\n",
    "         ('poly_rescaler', sklearn.preprocessing.MinMaxScaler()),\n",
    "         ('linear_regr', sklearn.linear_model.Lasso(alpha=alpha, max_iter=50000)),\n",
    "        ])\n",
    "    \n",
    "    # Define utility method that performs all the feature transforms of the pipeline in order.\n",
    "    def calc_features(x):\n",
    "        tmp = x\n",
    "        for step_name, step_tfmr in pipeline.steps[:-1]:\n",
    "            tmp = step_tfmr.transform(tmp)\n",
    "        return tmp\n",
    "    pipeline.calc_features = calc_features\n",
    "    pipeline.degree=degree\n",
    "    pipeline.alpha=alpha\n",
    "    pipeline.get_feature_names=lambda: pipeline.named_steps['poly_transformer'].get_feature_names \\\n",
    "                                (['horsepower', 'weight', 'cylinders', 'displacement'])\n",
    "    pipeline.get_linear_regr_weights = lambda: pipeline.named_steps['linear_regr'].coef_\n",
    "    pipeline.get_linear_regr_bias = lambda: pipeline.named_steps['linear_regr'].intercept_\n",
    "\n",
    "    return pipeline"
   ]
  },
  {
   "cell_type": "code",
   "execution_count": 312,
   "metadata": {},
   "outputs": [
    {
     "name": "stdout",
     "output_type": "stream",
     "text": [
      "alpha  1.000e-09 | NOT converged | completed 50000 iters | gap   1158.062\n",
      "alpha  3.162e-09 | NOT converged | completed 50000 iters | gap   1158.054\n",
      "alpha  1.000e-08 | NOT converged | completed 50000 iters | gap   1158.028\n",
      "alpha  3.162e-08 | NOT converged | completed 50000 iters | gap   1157.948\n",
      "alpha  1.000e-07 | NOT converged | completed 50000 iters | gap   1157.693\n",
      "alpha  3.162e-07 | NOT converged | completed 50000 iters | gap   1156.888\n",
      "alpha  1.000e-06 | NOT converged | completed 50000 iters | gap   1154.329\n",
      "alpha  3.162e-06 | NOT converged | completed 50000 iters | gap   1146.134\n",
      "alpha  1.000e-05 | NOT converged | completed 50000 iters | gap   1119.175\n",
      "alpha  3.162e-05 | NOT converged | completed 50000 iters | gap   1023.272\n",
      "alpha  1.000e-04 | NOT converged | completed 50000 iters | gap    548.999\n",
      "alpha  3.162e-04 | NOT converged | completed 50000 iters | gap     17.487\n",
      "alpha  1.000e-03 | converged     | completed 33186 iters | gap      1.285\n",
      "alpha  3.162e-03 | converged     | completed  3340 iters | gap      1.301\n",
      "alpha  1.000e-02 | converged     | completed   988 iters | gap      1.299\n",
      "alpha  3.162e-02 | converged     | completed   519 iters | gap      0.717\n",
      "alpha  1.000e-01 | converged     | completed    42 iters | gap      0.179\n",
      "alpha  3.162e-01 | converged     | completed    92 iters | gap      0.075\n",
      "alpha  1.000e+00 | converged     | completed    14 iters | gap     -0.000\n",
      "alpha  3.162e+00 | converged     | completed     1 iters | gap      0.000\n",
      "alpha  1.000e+01 | converged     | completed     1 iters | gap      0.000\n",
      "alpha  3.162e+01 | converged     | completed     1 iters | gap      0.000\n",
      "alpha  1.000e+02 | converged     | completed     1 iters | gap      0.000\n",
      "alpha  3.162e+02 | converged     | completed     1 iters | gap      0.000\n",
      "alpha  1.000e+03 | converged     | completed     1 iters | gap      0.000\n",
      "alpha  3.162e+03 | converged     | completed     1 iters | gap      0.000\n",
      "alpha  1.000e+04 | converged     | completed     1 iters | gap      0.000\n",
      "alpha  3.162e+04 | converged     | completed     1 iters | gap      0.000\n",
      "alpha  1.000e+05 | converged     | completed     1 iters | gap      0.000\n",
      "alpha  3.162e+05 | converged     | completed     1 iters | gap      0.000\n",
      "alpha  1.000e+06 | converged     | completed     1 iters | gap      0.000\n"
     ]
    }
   ],
   "source": [
    "alpha_grid = np.logspace(-9, 6, 31)\n",
    "degree = 3\n",
    "err_tr_list2 = []\n",
    "err_va_list2 = []\n",
    "pipeline_list = []\n",
    "for alpha in alpha_grid: # TODO loop over all alpha_grid\n",
    "    \n",
    "    # Create pipeline with specified alpha\n",
    "    pipeline = make_L1regularized_pipeline(alpha=alpha, degree=degree)\n",
    "\n",
    "    # L1 solvers are a bit more finicky than L2 solvers\n",
    "    # Here's some code that will show if each optimization has converged\n",
    "    with warnings.catch_warnings(record=True) as warn_list:\n",
    "        pipeline.fit(x_tr_MF, y_tr_M)\n",
    "        solver = pipeline.named_steps['linear_regr']\n",
    "        print(\"alpha % .3e | %s | completed %5d iters | gap % 10.3f\" % (\n",
    "            alpha, \n",
    "            'converged    ' if len(warn_list) == 0 else 'NOT converged',\n",
    "            solver.n_iter_, solver.dual_gap_))\n",
    "\n",
    "    # TODO evaluation code here\n",
    "    #get training mse\n",
    "    dif_tr=y_tr_M-pipeline.predict(x_tr_MF)\n",
    "    mse_tr=1/dif_tr.shape[0]*np.dot(dif_tr,dif_tr)\n",
    "    err_tr_list2.append(mse_tr)\n",
    "    \n",
    "    #get valid mse\n",
    "    dif_va=y_va_N-pipeline.predict(x_va_NF)\n",
    "    mse_va=1/dif_va.shape[0]*np.dot(dif_va,dif_va)\n",
    "    err_va_list2.append(mse_va)\n",
    "    \n",
    "    pipeline_list.append(pipeline)"
   ]
  },
  {
   "cell_type": "code",
   "execution_count": null,
   "metadata": {},
   "outputs": [],
   "source": []
  },
  {
   "cell_type": "markdown",
   "metadata": {},
   "source": [
    "### 2b(i): Plot MSE vs. $\\alpha$ for L1 (\"Lasso\")"
   ]
  },
  {
   "cell_type": "code",
   "execution_count": 313,
   "metadata": {},
   "outputs": [
    {
     "data": {
      "image/png": "[encoded data removed]",
      "text/plain": [
       "<Figure size 432x288 with 1 Axes>"
      ]
     },
     "metadata": {
      "needs_background": "light"
     },
     "output_type": "display_data"
    }
   ],
   "source": [
    "# TODO make plot\n",
    "fig,ax = plt.subplots()\n",
    "ax.plot(alpha_grid,err_tr_list2,'b:', label=\"Training Error\")     \n",
    "ax.plot(alpha_grid,err_va_list2,'rs-',label=\"Validation Error\")\n",
    "plt.xscale('log')\n",
    "plt.legend()\n",
    "plt.show()"
   ]
  },
  {
   "cell_type": "markdown",
   "metadata": {},
   "source": [
    "### 2b(ii): Plot number of non-zero coefficients"
   ]
  },
  {
   "cell_type": "code",
   "execution_count": 314,
   "metadata": {},
   "outputs": [
    {
     "data": {
      "image/png": "[encoded data removed]",
      "text/plain": [
       "<Figure size 432x288 with 1 Axes>"
      ]
     },
     "metadata": {
      "needs_background": "light"
     },
     "output_type": "display_data"
    }
   ],
   "source": [
    "# TODO make plot\n",
    "c1=[]\n",
    "c2=[]\n",
    "c3=[]\n",
    "\n",
    "for regr in pipeline_list:\n",
    "    ft=regr.get_linear_regr_weights()\n",
    "    ct1=0; ct2=0; ct3=0;\n",
    "    \n",
    "    for i in ft:\n",
    "        i=np.abs(i);\n",
    "        if (i!=0):\n",
    "            ct1=ct1+1\n",
    "        if i>0.0001:\n",
    "            ct2=ct2+1\n",
    "        if i>0.1:\n",
    "            ct3=ct3+1\n",
    "    #print(ct1,ct2,ct3)\n",
    "    c1.append(ct1);\n",
    "    c2.append(ct2);\n",
    "    c3.append(ct3);\n",
    "fig,ax = plt.subplots()\n",
    "ax.plot(alpha_grid,c1,'k-', label=\"None Zero\")     \n",
    "ax.plot(alpha_grid,c2,'b.-',label=\"Bigger than 1e-4\")\n",
    "ax.plot(alpha_grid,c3,'g.-',label=\"Bigger than 0.1\")\n",
    "plt.xscale('log')\n",
    "plt.legend()\n",
    "plt.show()"
   ]
  },
  {
   "cell_type": "markdown",
   "metadata": {},
   "source": [
    "### 2b(iii): Print out non-zero coefficients of learned L1-regularized models"
   ]
  },
  {
   "cell_type": "code",
   "execution_count": 315,
   "metadata": {},
   "outputs": [
    {
     "data": {
      "application/javascript": [
       "IPython.OutputArea.auto_scroll_threshold = 999;\n"
      ],
      "text/plain": [
       "<IPython.core.display.Javascript object>"
      ]
     },
     "metadata": {},
     "output_type": "display_data"
    }
   ],
   "source": [
    "%%javascript \n",
    "IPython.OutputArea.auto_scroll_threshold = 999;"
   ]
  },
  {
   "cell_type": "code",
   "execution_count": 316,
   "metadata": {},
   "outputs": [
    {
     "name": "stdout",
     "output_type": "stream",
     "text": [
      "Degree: 3 Alpha 1e-09 Features:  horsepower Value:  -53.147550695778925\n",
      "Degree: 3 Alpha 1e-09 Features:  weight Value:  25.531139193466853\n",
      "Degree: 3 Alpha 1e-09 Features:  cylinders Value:  -33.34805711019896\n",
      "Degree: 3 Alpha 1e-09 Features:  displacement Value:  -48.87783314630452\n",
      "Degree: 3 Alpha 1e-09 Features:  horsepower^2 Value:  -43.46510302245697\n",
      "Degree: 3 Alpha 1e-09 Features:  horsepower weight Value:  -84.43138935669201\n",
      "Degree: 3 Alpha 1e-09 Features:  horsepower cylinders Value:  131.85007836046782\n",
      "Degree: 3 Alpha 1e-09 Features:  horsepower displacement Value:  232.607878432983\n",
      "Degree: 3 Alpha 1e-09 Features:  weight^2 Value:  -14.046929480514686\n",
      "Degree: 3 Alpha 1e-09 Features:  weight cylinders Value:  55.009490394081865\n",
      "Degree: 3 Alpha 1e-09 Features:  weight displacement Value:  -128.1026855927005\n",
      "Degree: 3 Alpha 1e-09 Features:  cylinders^2 Value:  62.306599974189666\n",
      "Degree: 3 Alpha 1e-09 Features:  cylinders displacement Value:  -246.7387566047817\n",
      "Degree: 3 Alpha 1e-09 Features:  displacement^2 Value:  269.5009367197138\n",
      "Degree: 3 Alpha 1e-09 Features:  horsepower^3 Value:  -36.84015659254854\n",
      "Degree: 3 Alpha 1e-09 Features:  horsepower^2 weight Value:  -24.890596351929553\n",
      "Degree: 3 Alpha 1e-09 Features:  horsepower^2 cylinders Value:  68.71984954653365\n",
      "Degree: 3 Alpha 1e-09 Features:  horsepower^2 displacement Value:  152.55062311586644\n",
      "Degree: 3 Alpha 1e-09 Features:  horsepower weight^2 Value:  92.63815956208775\n",
      "Degree: 3 Alpha 1e-09 Features:  horsepower weight cylinders Value:  -193.55423534242033\n",
      "Degree: 3 Alpha 1e-09 Features:  horsepower weight displacement Value:  244.45121459943653\n",
      "Degree: 3 Alpha 1e-09 Features:  horsepower cylinders^2 Value:  -3.632965253303631\n",
      "Degree: 3 Alpha 1e-09 Features:  horsepower cylinders displacement Value:  -256.30838426310515\n",
      "Degree: 3 Alpha 1e-09 Features:  horsepower displacement^2 Value:  -272.54161554309593\n",
      "Degree: 3 Alpha 1e-09 Features:  weight^3 Value:  -23.509572261142992\n",
      "Degree: 3 Alpha 1e-09 Features:  weight^2 cylinders Value:  13.51425812764011\n",
      "Degree: 3 Alpha 1e-09 Features:  weight^2 displacement Value:  -25.496353822352567\n",
      "Degree: 3 Alpha 1e-09 Features:  weight cylinders^2 Value:  64.54358617429418\n",
      "Degree: 3 Alpha 1e-09 Features:  weight cylinders displacement Value:  27.145159048424453\n",
      "Degree: 3 Alpha 1e-09 Features:  weight displacement^2 Value:  -33.677293312962185\n",
      "Degree: 3 Alpha 1e-09 Features:  cylinders^3 Value:  -48.24983051197101\n",
      "Degree: 3 Alpha 1e-09 Features:  cylinders^2 displacement Value:  104.9643196076784\n",
      "Degree: 3 Alpha 1e-09 Features:  cylinders displacement^2 Value:  69.35340784725707\n",
      "Degree: 3 Alpha 1e-09 Features:  displacement^3 Value:  -56.62103739161564\n",
      "\n",
      "\n",
      "Degree: 3 Alpha 3.1622776601683795e-09 Features:  horsepower Value:  -53.147445542429274\n",
      "Degree: 3 Alpha 3.1622776601683795e-09 Features:  weight Value:  25.53111286423321\n",
      "Degree: 3 Alpha 3.1622776601683795e-09 Features:  cylinders Value:  -33.34758313786843\n",
      "Degree: 3 Alpha 3.1622776601683795e-09 Features:  displacement Value:  -48.87785929172925\n",
      "Degree: 3 Alpha 3.1622776601683795e-09 Features:  horsepower^2 Value:  -43.464913192253\n",
      "Degree: 3 Alpha 3.1622776601683795e-09 Features:  horsepower weight Value:  -84.43150851436344\n",
      "Degree: 3 Alpha 3.1622776601683795e-09 Features:  horsepower cylinders Value:  131.84937113639592\n",
      "Degree: 3 Alpha 3.1622776601683795e-09 Features:  horsepower displacement Value:  232.60784894481037\n",
      "Degree: 3 Alpha 3.1622776601683795e-09 Features:  weight^2 Value:  -14.046995736111558\n",
      "Degree: 3 Alpha 3.1622776601683795e-09 Features:  weight cylinders Value:  55.00918673873774\n",
      "Degree: 3 Alpha 3.1622776601683795e-09 Features:  weight displacement Value:  -128.101845931923\n",
      "Degree: 3 Alpha 3.1622776601683795e-09 Features:  cylinders^2 Value:  62.305813354051054\n",
      "Degree: 3 Alpha 3.1622776601683795e-09 Features:  cylinders displacement Value:  -246.737779896585\n",
      "Degree: 3 Alpha 3.1622776601683795e-09 Features:  displacement^2 Value:  269.4995339706911\n",
      "Degree: 3 Alpha 3.1622776601683795e-09 Features:  horsepower^3 Value:  -36.83941642435491\n",
      "Degree: 3 Alpha 3.1622776601683795e-09 Features:  horsepower^2 weight Value:  -24.889637460587057\n",
      "Degree: 3 Alpha 3.1622776601683795e-09 Features:  horsepower^2 cylinders Value:  68.71730111872726\n",
      "Degree: 3 Alpha 3.1622776601683795e-09 Features:  horsepower^2 displacement Value:  152.55039811681317\n",
      "Degree: 3 Alpha 3.1622776601683795e-09 Features:  horsepower weight^2 Value:  92.6374806372614\n",
      "Degree: 3 Alpha 3.1622776601683795e-09 Features:  horsepower weight cylinders Value:  -193.55163769665398\n",
      "Degree: 3 Alpha 3.1622776601683795e-09 Features:  horsepower weight displacement Value:  244.44807789472955\n",
      "Degree: 3 Alpha 3.1622776601683795e-09 Features:  horsepower cylinders^2 Value:  -3.632739885832592\n",
      "Degree: 3 Alpha 3.1622776601683795e-09 Features:  horsepower cylinders displacement Value:  -256.3064503430077\n",
      "Degree: 3 Alpha 3.1622776601683795e-09 Features:  horsepower displacement^2 Value:  -272.5409426351278\n",
      "Degree: 3 Alpha 3.1622776601683795e-09 Features:  weight^3 Value:  -23.509646671039903\n",
      "Degree: 3 Alpha 3.1622776601683795e-09 Features:  weight^2 cylinders Value:  13.513560414013007\n",
      "Degree: 3 Alpha 3.1622776601683795e-09 Features:  weight^2 displacement Value:  -25.494875046967277\n",
      "Degree: 3 Alpha 3.1622776601683795e-09 Features:  weight cylinders^2 Value:  64.54308283831398\n",
      "Degree: 3 Alpha 3.1622776601683795e-09 Features:  weight cylinders displacement Value:  27.145055997832223\n",
      "Degree: 3 Alpha 3.1622776601683795e-09 Features:  weight displacement^2 Value:  -33.677560745893956\n",
      "Degree: 3 Alpha 3.1622776601683795e-09 Features:  cylinders^3 Value:  -48.24924240427807\n",
      "Degree: 3 Alpha 3.1622776601683795e-09 Features:  cylinders^2 displacement Value:  104.96387450670424\n",
      "Degree: 3 Alpha 3.1622776601683795e-09 Features:  cylinders displacement^2 Value:  69.3526447325109\n",
      "Degree: 3 Alpha 3.1622776601683795e-09 Features:  displacement^3 Value:  -56.62004364622093\n",
      "\n",
      "\n",
      "Degree: 3 Alpha 1e-08 Features:  horsepower Value:  -53.14711301753567\n",
      "Degree: 3 Alpha 1e-08 Features:  weight Value:  25.531029602932406\n",
      "Degree: 3 Alpha 1e-08 Features:  cylinders Value:  -33.346084299275724\n",
      "Degree: 3 Alpha 1e-08 Features:  displacement Value:  -48.877941970048326\n",
      "Degree: 3 Alpha 1e-08 Features:  horsepower^2 Value:  -43.46431287294626\n",
      "Degree: 3 Alpha 1e-08 Features:  horsepower weight Value:  -84.4318853158232\n",
      "Degree: 3 Alpha 1e-08 Features:  horsepower cylinders Value:  131.8471346761158\n",
      "Degree: 3 Alpha 1e-08 Features:  horsepower displacement Value:  232.60775566252647\n",
      "Degree: 3 Alpha 1e-08 Features:  weight^2 Value:  -14.047205287874863\n",
      "Degree: 3 Alpha 1e-08 Features:  weight cylinders Value:  55.00822647670953\n",
      "Degree: 3 Alpha 1e-08 Features:  weight displacement Value:  -128.09919060635477\n",
      "Degree: 3 Alpha 1e-08 Features:  cylinders^2 Value:  62.30332585530006\n",
      "Degree: 3 Alpha 1e-08 Features:  cylinders displacement Value:  -246.73469130026714\n",
      "Degree: 3 Alpha 1e-08 Features:  displacement^2 Value:  269.4950980646094\n",
      "Degree: 3 Alpha 1e-08 Features:  horsepower^3 Value:  -36.83707578757003\n",
      "Degree: 3 Alpha 1e-08 Features:  horsepower^2 weight Value:  -24.886605272485244\n",
      "Degree: 3 Alpha 1e-08 Features:  horsepower^2 cylinders Value:  68.70924225166543\n",
      "Degree: 3 Alpha 1e-08 Features:  horsepower^2 displacement Value:  152.54968667651724\n",
      "Degree: 3 Alpha 1e-08 Features:  horsepower weight^2 Value:  92.63533372865497\n",
      "Degree: 3 Alpha 1e-08 Features:  horsepower weight cylinders Value:  -193.5434231337539\n",
      "Degree: 3 Alpha 1e-08 Features:  horsepower weight displacement Value:  244.43815870612988\n",
      "Degree: 3 Alpha 1e-08 Features:  horsepower cylinders^2 Value:  -3.6320272489285346\n",
      "Degree: 3 Alpha 1e-08 Features:  horsepower cylinders displacement Value:  -256.30033465577\n",
      "Degree: 3 Alpha 1e-08 Features:  horsepower displacement^2 Value:  -272.5388147783973\n",
      "Degree: 3 Alpha 1e-08 Features:  weight^3 Value:  -23.509881930906197\n",
      "Degree: 3 Alpha 1e-08 Features:  weight^2 cylinders Value:  13.51135404466429\n",
      "Degree: 3 Alpha 1e-08 Features:  weight^2 displacement Value:  -25.49019884852255\n",
      "Degree: 3 Alpha 1e-08 Features:  weight cylinders^2 Value:  64.54149129484723\n",
      "Degree: 3 Alpha 1e-08 Features:  weight cylinders displacement Value:  27.144729716279475\n",
      "Degree: 3 Alpha 1e-08 Features:  weight displacement^2 Value:  -33.67840613533094\n",
      "Degree: 3 Alpha 1e-08 Features:  cylinders^3 Value:  -48.24738269895435\n",
      "Degree: 3 Alpha 1e-08 Features:  cylinders^2 displacement Value:  104.96246708507384\n",
      "Degree: 3 Alpha 1e-08 Features:  cylinders displacement^2 Value:  69.35023160477728\n",
      "Degree: 3 Alpha 1e-08 Features:  displacement^3 Value:  -56.6169012609212\n",
      "\n",
      "\n",
      "Degree: 3 Alpha 3.162277660168379e-08 Features:  horsepower Value:  -53.1460614948725\n",
      "Degree: 3 Alpha 3.162277660168379e-08 Features:  weight Value:  25.530766366612248\n",
      "Degree: 3 Alpha 3.162277660168379e-08 Features:  cylinders Value:  -33.34134450201878\n",
      "Degree: 3 Alpha 3.162277660168379e-08 Features:  displacement Value:  -48.878203481994085\n",
      "Degree: 3 Alpha 3.162277660168379e-08 Features:  horsepower^2 Value:  -43.46241459184311\n",
      "Degree: 3 Alpha 3.162277660168379e-08 Features:  horsepower weight Value:  -84.43307600969024\n",
      "Degree: 3 Alpha 3.162277660168379e-08 Features:  horsepower cylinders Value:  131.8400622319668\n",
      "Degree: 3 Alpha 3.162277660168379e-08 Features:  horsepower displacement Value:  232.60745992968918\n",
      "Degree: 3 Alpha 3.162277660168379e-08 Features:  weight^2 Value:  -14.047868625619444\n",
      "Degree: 3 Alpha 3.162277660168379e-08 Features:  weight cylinders Value:  55.005188761760785\n",
      "Degree: 3 Alpha 3.162277660168379e-08 Features:  weight displacement Value:  -128.09079218026923\n",
      "Degree: 3 Alpha 3.162277660168379e-08 Features:  cylinders^2 Value:  62.295459905904174\n",
      "Degree: 3 Alpha 3.162277660168379e-08 Features:  cylinders displacement Value:  -246.7249237834644\n",
      "Degree: 3 Alpha 3.162277660168379e-08 Features:  displacement^2 Value:  269.48106957156904\n",
      "Degree: 3 Alpha 3.162277660168379e-08 Features:  horsepower^3 Value:  -36.829674533655805\n",
      "Degree: 3 Alpha 3.162277660168379e-08 Features:  horsepower^2 weight Value:  -24.87701776524022\n",
      "Degree: 3 Alpha 3.162277660168379e-08 Features:  horsepower^2 cylinders Value:  68.68376075596\n",
      "Degree: 3 Alpha 3.162277660168379e-08 Features:  horsepower^2 displacement Value:  152.5474360366575\n",
      "Degree: 3 Alpha 3.162277660168379e-08 Features:  horsepower weight^2 Value:  92.62854487462289\n",
      "Degree: 3 Alpha 3.162277660168379e-08 Features:  horsepower weight cylinders Value:  -193.51744708847303\n",
      "Degree: 3 Alpha 3.162277660168379e-08 Features:  horsepower weight displacement Value:  244.40679189275767\n",
      "Degree: 3 Alpha 3.162277660168379e-08 Features:  horsepower cylinders^2 Value:  -3.6297749368926637\n",
      "Degree: 3 Alpha 3.162277660168379e-08 Features:  horsepower cylinders displacement Value:  -256.2809951213374\n",
      "Degree: 3 Alpha 3.162277660168379e-08 Features:  horsepower displacement^2 Value:  -272.5320847984266\n",
      "Degree: 3 Alpha 3.162277660168379e-08 Features:  weight^3 Value:  -23.510625553978343\n",
      "Degree: 3 Alpha 3.162277660168379e-08 Features:  weight^2 cylinders Value:  13.504378141827463\n",
      "Degree: 3 Alpha 3.162277660168379e-08 Features:  weight^2 displacement Value:  -25.47541301300885\n",
      "Degree: 3 Alpha 3.162277660168379e-08 Features:  weight cylinders^2 Value:  64.53646068778427\n",
      "Degree: 3 Alpha 3.162277660168379e-08 Features:  weight cylinders displacement Value:  27.143692467191258\n",
      "Degree: 3 Alpha 3.162277660168379e-08 Features:  weight displacement^2 Value:  -33.681075801566664\n",
      "Degree: 3 Alpha 3.162277660168379e-08 Features:  cylinders^3 Value:  -48.24150276533197\n",
      "Degree: 3 Alpha 3.162277660168379e-08 Features:  cylinders^2 displacement Value:  104.95801869072623\n"
     ]
    },
    {
     "name": "stdout",
     "output_type": "stream",
     "text": [
      "Degree: 3 Alpha 3.162277660168379e-08 Features:  cylinders displacement^2 Value:  69.34260032178958\n",
      "Degree: 3 Alpha 3.162277660168379e-08 Features:  displacement^3 Value:  -56.60696545879814\n",
      "\n",
      "\n",
      "Degree: 3 Alpha 1e-07 Features:  horsepower Value:  -53.142736423467205\n",
      "Degree: 3 Alpha 1e-07 Features:  weight Value:  25.529934370969098\n",
      "Degree: 3 Alpha 1e-07 Features:  cylinders Value:  -33.326355175576516\n",
      "Degree: 3 Alpha 1e-07 Features:  displacement Value:  -48.87903076448847\n",
      "Degree: 3 Alpha 1e-07 Features:  horsepower^2 Value:  -43.456411074263485\n",
      "Degree: 3 Alpha 1e-07 Features:  horsepower weight Value:  -84.43683518796618\n",
      "Degree: 3 Alpha 1e-07 Features:  horsepower cylinders Value:  131.81769599031196\n",
      "Degree: 3 Alpha 1e-07 Features:  horsepower displacement Value:  232.60651720552355\n",
      "Degree: 3 Alpha 1e-07 Features:  weight^2 Value:  -14.049972733442972\n",
      "Degree: 3 Alpha 1e-07 Features:  weight cylinders Value:  54.99557357180505\n",
      "Degree: 3 Alpha 1e-07 Features:  weight displacement Value:  -128.06421817845649\n",
      "Degree: 3 Alpha 1e-07 Features:  cylinders^2 Value:  62.27058738625752\n",
      "Degree: 3 Alpha 1e-07 Features:  cylinders displacement Value:  -246.69403347004558\n",
      "Degree: 3 Alpha 1e-07 Features:  displacement^2 Value:  269.4366990370754\n",
      "Degree: 3 Alpha 1e-07 Features:  horsepower^3 Value:  -36.806271949916436\n",
      "Degree: 3 Alpha 1e-07 Features:  horsepower^2 weight Value:  -24.846710557321884\n",
      "Degree: 3 Alpha 1e-07 Features:  horsepower^2 cylinders Value:  68.6031960831006\n",
      "Degree: 3 Alpha 1e-07 Features:  horsepower^2 displacement Value:  152.54031872010998\n",
      "Degree: 3 Alpha 1e-07 Features:  horsepower weight^2 Value:  92.60708062730215\n",
      "Degree: 3 Alpha 1e-07 Features:  horsepower weight cylinders Value:  -193.43530430012845\n",
      "Degree: 3 Alpha 1e-07 Features:  horsepower weight displacement Value:  244.3076001205526\n",
      "Degree: 3 Alpha 1e-07 Features:  horsepower cylinders^2 Value:  -3.622663465049894\n",
      "Degree: 3 Alpha 1e-07 Features:  horsepower cylinders displacement Value:  -256.21982700589416\n",
      "Degree: 3 Alpha 1e-07 Features:  horsepower displacement^2 Value:  -272.5108035972823\n",
      "Degree: 3 Alpha 1e-07 Features:  weight^3 Value:  -23.512973219792997\n",
      "Degree: 3 Alpha 1e-07 Features:  weight^2 cylinders Value:  13.482327559252058\n",
      "Degree: 3 Alpha 1e-07 Features:  weight^2 displacement Value:  -25.42867158070071\n",
      "Degree: 3 Alpha 1e-07 Features:  weight cylinders^2 Value:  64.52057450482422\n",
      "Degree: 3 Alpha 1e-07 Features:  weight cylinders displacement Value:  27.1403564687501\n",
      "Degree: 3 Alpha 1e-07 Features:  weight displacement^2 Value:  -33.689479067064966\n",
      "Degree: 3 Alpha 1e-07 Features:  cylinders^3 Value:  -48.22291715323947\n",
      "Degree: 3 Alpha 1e-07 Features:  cylinders^2 displacement Value:  104.94397036117618\n",
      "Degree: 3 Alpha 1e-07 Features:  cylinders displacement^2 Value:  69.31846795676513\n",
      "Degree: 3 Alpha 1e-07 Features:  displacement^3 Value:  -56.57555706758371\n",
      "\n",
      "\n",
      "Degree: 3 Alpha 3.162277660168379e-07 Features:  horsepower Value:  -53.13222271953079\n",
      "Degree: 3 Alpha 3.162277660168379e-07 Features:  weight Value:  25.52730788841266\n",
      "Degree: 3 Alpha 3.162277660168379e-07 Features:  cylinders Value:  -33.27894764459857\n",
      "Degree: 3 Alpha 3.162277660168379e-07 Features:  displacement Value:  -48.88165084247598\n",
      "Degree: 3 Alpha 3.162277660168379e-07 Features:  horsepower^2 Value:  -43.43742477540638\n",
      "Degree: 3 Alpha 3.162277660168379e-07 Features:  horsepower weight Value:  -84.44865384930894\n",
      "Degree: 3 Alpha 3.162277660168379e-07 Features:  horsepower cylinders Value:  131.74695312314572\n",
      "Degree: 3 Alpha 3.162277660168379e-07 Features:  horsepower displacement Value:  232.6034625484537\n",
      "Degree: 3 Alpha 3.162277660168379e-07 Features:  weight^2 Value:  -14.056691318704347\n",
      "Degree: 3 Alpha 3.162277660168379e-07 Features:  weight cylinders Value:  54.965073225230995\n",
      "Degree: 3 Alpha 3.162277660168379e-07 Features:  weight displacement Value:  -127.98002991117892\n",
      "Degree: 3 Alpha 3.162277660168379e-07 Features:  cylinders^2 Value:  62.19195290881136\n",
      "Degree: 3 Alpha 3.162277660168379e-07 Features:  cylinders displacement Value:  -246.5963180352819\n",
      "Degree: 3 Alpha 3.162277660168379e-07 Features:  displacement^2 Value:  269.2963035146382\n",
      "Degree: 3 Alpha 3.162277660168379e-07 Features:  horsepower^3 Value:  -36.732298169334285\n",
      "Degree: 3 Alpha 3.162277660168379e-07 Features:  horsepower^2 weight Value:  -24.750980392493386\n",
      "Degree: 3 Alpha 3.162277660168379e-07 Features:  horsepower^2 cylinders Value:  68.3486195021535\n",
      "Degree: 3 Alpha 3.162277660168379e-07 Features:  horsepower^2 displacement Value:  152.51778449516107\n",
      "Degree: 3 Alpha 3.162277660168379e-07 Features:  horsepower weight^2 Value:  92.53923658180422\n",
      "Degree: 3 Alpha 3.162277660168379e-07 Features:  horsepower weight cylinders Value:  -193.17556502269645\n",
      "Degree: 3 Alpha 3.162277660168379e-07 Features:  horsepower weight displacement Value:  243.9939289093858\n",
      "Degree: 3 Alpha 3.162277660168379e-07 Features:  horsepower cylinders^2 Value:  -3.600287028542216\n",
      "Degree: 3 Alpha 3.162277660168379e-07 Features:  horsepower cylinders displacement Value:  -256.0263295508756\n",
      "Degree: 3 Alpha 3.162277660168379e-07 Features:  horsepower displacement^2 Value:  -272.44346947599644\n",
      "Degree: 3 Alpha 3.162277660168379e-07 Features:  weight^3 Value:  -23.520358548936333\n",
      "Degree: 3 Alpha 3.162277660168379e-07 Features:  weight^2 cylinders Value:  13.412696438928672\n",
      "Degree: 3 Alpha 3.162277660168379e-07 Features:  weight^2 displacement Value:  -25.281015414500928\n",
      "Degree: 3 Alpha 3.162277660168379e-07 Features:  weight cylinders^2 Value:  64.47055866670637\n",
      "Degree: 3 Alpha 3.162277660168379e-07 Features:  weight cylinders displacement Value:  27.12925279662312\n",
      "Degree: 3 Alpha 3.162277660168379e-07 Features:  weight displacement^2 Value:  -33.71566913546039\n",
      "Degree: 3 Alpha 3.162277660168379e-07 Features:  cylinders^3 Value:  -48.16423215990098\n",
      "Degree: 3 Alpha 3.162277660168379e-07 Features:  cylinders^2 displacement Value:  104.89974558337828\n",
      "Degree: 3 Alpha 3.162277660168379e-07 Features:  cylinders displacement^2 Value:  69.24215053494385\n",
      "Degree: 3 Alpha 3.162277660168379e-07 Features:  displacement^3 Value:  -56.476361430283575\n",
      "\n",
      "\n",
      "Degree: 3 Alpha 1e-06 Features:  horsepower Value:  -53.09898701043164\n",
      "Degree: 3 Alpha 1e-06 Features:  weight Value:  25.519046894368376\n",
      "Degree: 3 Alpha 1e-06 Features:  cylinders Value:  -33.12896061329215\n",
      "Degree: 3 Alpha 1e-06 Features:  displacement Value:  -48.88997485433126\n",
      "Degree: 3 Alpha 1e-06 Features:  horsepower^2 Value:  -43.37737075190519\n",
      "Degree: 3 Alpha 1e-06 Features:  horsepower weight Value:  -84.48534410500378\n",
      "Degree: 3 Alpha 1e-06 Features:  horsepower cylinders Value:  131.52310452213186\n",
      "Degree: 3 Alpha 1e-06 Features:  horsepower displacement Value:  232.59307236144176\n",
      "Degree: 3 Alpha 1e-06 Features:  weight^2 Value:  -14.078591898648336\n",
      "Degree: 3 Alpha 1e-06 Features:  weight cylinders Value:  54.86769059201771\n",
      "Degree: 3 Alpha 1e-06 Features:  weight displacement Value:  -127.71226297054261\n",
      "Degree: 3 Alpha 1e-06 Features:  cylinders^2 Value:  61.943476289141024\n",
      "Degree: 3 Alpha 1e-06 Features:  cylinders displacement Value:  -246.2869964129464\n",
      "Degree: 3 Alpha 1e-06 Features:  displacement^2 Value:  268.8514898977262\n",
      "Degree: 3 Alpha 1e-06 Features:  horsepower^3 Value:  -36.4986935158189\n",
      "Degree: 3 Alpha 1e-06 Features:  horsepower^2 weight Value:  -24.44931431612973\n",
      "Degree: 3 Alpha 1e-06 Features:  horsepower^2 cylinders Value:  67.54544434031952\n",
      "Degree: 3 Alpha 1e-06 Features:  horsepower^2 displacement Value:  152.44627648735602\n",
      "Degree: 3 Alpha 1e-06 Features:  horsepower weight^2 Value:  92.32500567024003\n",
      "Degree: 3 Alpha 1e-06 Features:  horsepower weight cylinders Value:  -192.3543993901532\n",
      "Degree: 3 Alpha 1e-06 Features:  horsepower weight displacement Value:  243.00200387311693\n",
      "Degree: 3 Alpha 1e-06 Features:  horsepower cylinders^2 Value:  -3.530631294364195\n",
      "Degree: 3 Alpha 1e-06 Features:  horsepower cylinders displacement Value:  -255.4137342982058\n",
      "Degree: 3 Alpha 1e-06 Features:  horsepower displacement^2 Value:  -272.2302074348199\n",
      "Degree: 3 Alpha 1e-06 Features:  weight^3 Value:  -23.543298294499735\n",
      "Degree: 3 Alpha 1e-06 Features:  weight^2 cylinders Value:  13.193426272479494\n",
      "Degree: 3 Alpha 1e-06 Features:  weight^2 displacement Value:  -24.815596974871568\n",
      "Degree: 3 Alpha 1e-06 Features:  weight cylinders^2 Value:  64.3146009876992\n",
      "Degree: 3 Alpha 1e-06 Features:  weight cylinders displacement Value:  27.088706774474637\n",
      "Degree: 3 Alpha 1e-06 Features:  weight displacement^2 Value:  -33.79473852139986\n",
      "Degree: 3 Alpha 1e-06 Features:  cylinders^3 Value:  -47.97951885362598\n",
      "Degree: 3 Alpha 1e-06 Features:  cylinders^2 displacement Value:  104.76183164208281\n",
      "Degree: 3 Alpha 1e-06 Features:  cylinders displacement^2 Value:  69.00078358332277\n",
      "Degree: 3 Alpha 1e-06 Features:  displacement^3 Value:  -56.16389795035195\n",
      "\n",
      "\n",
      "Degree: 3 Alpha 3.162277660168379e-06 Features:  horsepower Value:  -52.99401845303095\n",
      "Degree: 3 Alpha 3.162277660168379e-06 Features:  weight Value:  25.49337110612405\n",
      "Degree: 3 Alpha 3.162277660168379e-06 Features:  cylinders Value:  -32.65400424831466\n",
      "Degree: 3 Alpha 3.162277660168379e-06 Features:  displacement Value:  -48.91664895675457\n",
      "Degree: 3 Alpha 3.162277660168379e-06 Features:  horsepower^2 Value:  -43.18729494528888\n",
      "Degree: 3 Alpha 3.162277660168379e-06 Features:  horsepower weight Value:  -84.59471634684573\n",
      "Degree: 3 Alpha 3.162277660168379e-06 Features:  horsepower cylinders Value:  130.81396672432152\n",
      "Degree: 3 Alpha 3.162277660168379e-06 Features:  horsepower displacement Value:  232.55297188925016\n",
      "Degree: 3 Alpha 3.162277660168379e-06 Features:  weight^2 Value:  -14.154297115987026\n",
      "Degree: 3 Alpha 3.162277660168379e-06 Features:  weight cylinders Value:  54.55058067593794\n",
      "Degree: 3 Alpha 3.162277660168379e-06 Features:  weight displacement Value:  -126.85031197341738\n",
      "Degree: 3 Alpha 3.162277660168379e-06 Features:  cylinders^2 Value:  61.15964621601195\n",
      "Degree: 3 Alpha 3.162277660168379e-06 Features:  cylinders displacement Value:  -245.30578614725457\n",
      "Degree: 3 Alpha 3.162277660168379e-06 Features:  displacement^2 Value:  267.4365438972381\n",
      "Degree: 3 Alpha 3.162277660168379e-06 Features:  horsepower^3 Value:  -35.76298938937302\n",
      "Degree: 3 Alpha 3.162277660168379e-06 Features:  horsepower^2 weight Value:  -23.505791333982405\n",
      "Degree: 3 Alpha 3.162277660168379e-06 Features:  horsepower^2 cylinders Value:  65.02368013573634\n",
      "Degree: 3 Alpha 3.162277660168379e-06 Features:  horsepower^2 displacement Value:  152.21764513154636\n",
      "Degree: 3 Alpha 3.162277660168379e-06 Features:  horsepower weight^2 Value:  91.6505471038293\n",
      "Degree: 3 Alpha 3.162277660168379e-06 Features:  horsepower weight cylinders Value:  -189.75946894284587\n"
     ]
    },
    {
     "name": "stdout",
     "output_type": "stream",
     "text": [
      "Degree: 3 Alpha 3.162277660168379e-06 Features:  horsepower weight displacement Value:  239.86527203878913\n",
      "Degree: 3 Alpha 3.162277660168379e-06 Features:  horsepower cylinders^2 Value:  -3.3212395517750033\n",
      "Degree: 3 Alpha 3.162277660168379e-06 Features:  horsepower cylinders displacement Value:  -253.46957813640557\n",
      "Degree: 3 Alpha 3.162277660168379e-06 Features:  horsepower displacement^2 Value:  -271.5525405190314\n",
      "Degree: 3 Alpha 3.162277660168379e-06 Features:  weight^3 Value:  -23.611649061087427\n",
      "Degree: 3 Alpha 3.162277660168379e-06 Features:  weight^2 cylinders Value:  12.508899548428928\n",
      "Degree: 3 Alpha 3.162277660168379e-06 Features:  weight^2 displacement Value:  -23.358653345092243\n",
      "Degree: 3 Alpha 3.162277660168379e-06 Features:  weight cylinders^2 Value:  63.84288983019939\n",
      "Degree: 3 Alpha 3.162277660168379e-06 Features:  weight cylinders displacement Value:  26.90778444031019\n",
      "Degree: 3 Alpha 3.162277660168379e-06 Features:  weight displacement^2 Value:  -34.00846761653505\n",
      "Degree: 3 Alpha 3.162277660168379e-06 Features:  cylinders^3 Value:  -47.40385779045943\n",
      "Degree: 3 Alpha 3.162277660168379e-06 Features:  cylinders^2 displacement Value:  104.34455587834611\n",
      "Degree: 3 Alpha 3.162277660168379e-06 Features:  cylinders displacement^2 Value:  68.2372106316245\n",
      "Degree: 3 Alpha 3.162277660168379e-06 Features:  displacement^3 Value:  -55.187571626590014\n",
      "\n",
      "\n",
      "Degree: 3 Alpha 1e-05 Features:  horsepower Value:  -52.66353546712897\n",
      "Degree: 3 Alpha 1e-05 Features:  weight Value:  25.416462304166224\n",
      "Degree: 3 Alpha 1e-05 Features:  cylinders Value:  -31.14676092727356\n",
      "Degree: 3 Alpha 1e-05 Features:  displacement Value:  -49.00379522093582\n",
      "Degree: 3 Alpha 1e-05 Features:  horsepower^2 Value:  -42.584926160009196\n",
      "Degree: 3 Alpha 1e-05 Features:  horsepower weight Value:  -84.87822060951315\n",
      "Degree: 3 Alpha 1e-05 Features:  horsepower cylinders Value:  128.56079746188328\n",
      "Degree: 3 Alpha 1e-05 Features:  horsepower displacement Value:  232.35773730803038\n",
      "Degree: 3 Alpha 1e-05 Features:  weight^2 Value:  -14.455297929207282\n",
      "Degree: 3 Alpha 1e-05 Features:  weight cylinders Value:  53.462338062171156\n",
      "Degree: 3 Alpha 1e-05 Features:  weight displacement Value:  -123.98121854002174\n",
      "Degree: 3 Alpha 1e-05 Features:  cylinders^2 Value:  58.70079928689482\n",
      "Degree: 3 Alpha 1e-05 Features:  cylinders displacement Value:  -242.1759351938393\n",
      "Degree: 3 Alpha 1e-05 Features:  displacement^2 Value:  262.88345218729916\n",
      "Degree: 3 Alpha 1e-05 Features:  horsepower^3 Value:  -33.464539238897274\n",
      "Degree: 3 Alpha 1e-05 Features:  horsepower^2 weight Value:  -20.617000274477636\n",
      "Degree: 3 Alpha 1e-05 Features:  horsepower^2 cylinders Value:  57.21757129181518\n",
      "Degree: 3 Alpha 1e-05 Features:  horsepower^2 displacement Value:  151.46874122103938\n",
      "Degree: 3 Alpha 1e-05 Features:  horsepower weight^2 Value:  89.54187374580384\n",
      "Degree: 3 Alpha 1e-05 Features:  horsepower weight cylinders Value:  -181.5693956710118\n",
      "Degree: 3 Alpha 1e-05 Features:  horsepower weight displacement Value:  229.94885277019415\n",
      "Degree: 3 Alpha 1e-05 Features:  horsepower cylinders^2 Value:  -2.761073320998382\n",
      "Degree: 3 Alpha 1e-05 Features:  horsepower cylinders displacement Value:  -247.25864866783763\n",
      "Degree: 3 Alpha 1e-05 Features:  horsepower displacement^2 Value:  -269.3760806288807\n",
      "Degree: 3 Alpha 1e-05 Features:  weight^3 Value:  -23.783694535273042\n",
      "Degree: 3 Alpha 1e-05 Features:  weight^2 cylinders Value:  10.418539357451634\n",
      "Degree: 3 Alpha 1e-05 Features:  weight^2 displacement Value:  -18.886913557043748\n",
      "Degree: 3 Alpha 1e-05 Features:  weight cylinders^2 Value:  62.55009957363217\n",
      "Degree: 3 Alpha 1e-05 Features:  weight cylinders displacement Value:  25.860839473012696\n",
      "Degree: 3 Alpha 1e-05 Features:  weight displacement^2 Value:  -34.361470087938635\n",
      "Degree: 3 Alpha 1e-05 Features:  cylinders^3 Value:  -45.662442450947\n",
      "Degree: 3 Alpha 1e-05 Features:  cylinders^2 displacement Value:  103.19748209318878\n",
      "Degree: 3 Alpha 1e-05 Features:  cylinders displacement^2 Value:  65.81897608082049\n",
      "Degree: 3 Alpha 1e-05 Features:  displacement^3 Value:  -52.20412493231703\n",
      "\n",
      "\n",
      "Degree: 3 Alpha 3.1622776601683795e-05 Features:  horsepower Value:  -51.679125854947046\n",
      "Degree: 3 Alpha 3.1622776601683795e-05 Features:  weight Value:  25.20423240296305\n",
      "Degree: 3 Alpha 3.1622776601683795e-05 Features:  cylinders Value:  -26.627335922332488\n",
      "Degree: 3 Alpha 3.1622776601683795e-05 Features:  displacement Value:  -49.34054549862293\n",
      "Degree: 3 Alpha 3.1622776601683795e-05 Features:  horsepower^2 Value:  -40.30169807389245\n",
      "Degree: 3 Alpha 3.1622776601683795e-05 Features:  horsepower weight Value:  -85.56522609022969\n",
      "Degree: 3 Alpha 3.1622776601683795e-05 Features:  horsepower cylinders Value:  121.31696552934055\n",
      "Degree: 3 Alpha 3.1622776601683795e-05 Features:  horsepower displacement Value:  231.29300632825178\n",
      "Degree: 3 Alpha 3.1622776601683795e-05 Features:  weight^2 Value:  -15.70746321258088\n",
      "Degree: 3 Alpha 3.1622776601683795e-05 Features:  weight cylinders Value:  49.476874527964505\n",
      "Degree: 3 Alpha 3.1622776601683795e-05 Features:  weight displacement Value:  -114.030172318036\n",
      "Degree: 3 Alpha 3.1622776601683795e-05 Features:  cylinders^2 Value:  51.35760265390336\n",
      "Degree: 3 Alpha 3.1622776601683795e-05 Features:  cylinders displacement Value:  -231.30383073722\n",
      "Degree: 3 Alpha 3.1622776601683795e-05 Features:  displacement^2 Value:  247.58289297433183\n",
      "Degree: 3 Alpha 3.1622776601683795e-05 Features:  horsepower^3 Value:  -26.26344935419778\n",
      "Degree: 3 Alpha 3.1622776601683795e-05 Features:  horsepower^2 weight Value:  -15.562310908221002\n",
      "Degree: 3 Alpha 3.1622776601683795e-05 Features:  horsepower^2 cylinders Value:  35.551003976601606\n",
      "Degree: 3 Alpha 3.1622776601683795e-05 Features:  horsepower^2 displacement Value:  149.95845889951443\n",
      "Degree: 3 Alpha 3.1622776601683795e-05 Features:  horsepower weight^2 Value:  84.4344969089176\n",
      "Degree: 3 Alpha 3.1622776601683795e-05 Features:  horsepower weight cylinders Value:  -154.7050987755737\n",
      "Degree: 3 Alpha 3.1622776601683795e-05 Features:  horsepower weight displacement Value:  200.30196695044756\n",
      "Degree: 3 Alpha 3.1622776601683795e-05 Features:  horsepower cylinders^2 Value:  -2.5239004659285085\n",
      "Degree: 3 Alpha 3.1622776601683795e-05 Features:  horsepower cylinders displacement Value:  -228.80253615869722\n",
      "Degree: 3 Alpha 3.1622776601683795e-05 Features:  horsepower displacement^2 Value:  -263.3891768204829\n",
      "Degree: 3 Alpha 3.1622776601683795e-05 Features:  weight^3 Value:  -22.621080822464055\n",
      "Degree: 3 Alpha 3.1622776601683795e-05 Features:  weight^2 cylinders Value:  1.933026580325626\n",
      "Degree: 3 Alpha 3.1622776601683795e-05 Features:  weight^2 displacement Value:  -8.187649762852292\n",
      "Degree: 3 Alpha 3.1622776601683795e-05 Features:  weight cylinders^2 Value:  61.305165239449494\n",
      "Degree: 3 Alpha 3.1622776601683795e-05 Features:  weight cylinders displacement Value:  18.884600300421408\n",
      "Degree: 3 Alpha 3.1622776601683795e-05 Features:  weight displacement^2 Value:  -31.299475079820233\n",
      "Degree: 3 Alpha 3.1622776601683795e-05 Features:  cylinders^3 Value:  -41.19527197865647\n",
      "Degree: 3 Alpha 3.1622776601683795e-05 Features:  cylinders^2 displacement Value:  101.14199329814258\n",
      "Degree: 3 Alpha 3.1622776601683795e-05 Features:  cylinders displacement^2 Value:  57.605660608840225\n",
      "Degree: 3 Alpha 3.1622776601683795e-05 Features:  displacement^3 Value:  -43.39258068982843\n",
      "\n",
      "\n",
      "Degree: 3 Alpha 0.0001 Features:  horsepower Value:  -48.35097279091739\n",
      "Degree: 3 Alpha 0.0001 Features:  weight Value:  25.917907286398496\n",
      "Degree: 3 Alpha 0.0001 Features:  cylinders Value:  -13.341211224155009\n",
      "Degree: 3 Alpha 0.0001 Features:  displacement Value:  -51.62115858507226\n",
      "Degree: 3 Alpha 0.0001 Features:  horsepower^2 Value:  -33.74278026505221\n",
      "Degree: 3 Alpha 0.0001 Features:  horsepower weight Value:  -83.4297970480775\n",
      "Degree: 3 Alpha 0.0001 Features:  horsepower cylinders Value:  93.26512381283231\n",
      "Degree: 3 Alpha 0.0001 Features:  horsepower displacement Value:  229.49602988437678\n",
      "Degree: 3 Alpha 0.0001 Features:  weight^2 Value:  -26.849920892710728\n",
      "Degree: 3 Alpha 0.0001 Features:  weight cylinders Value:  28.45661831329752\n",
      "Degree: 3 Alpha 0.0001 Features:  weight displacement Value:  -69.38593191029163\n",
      "Degree: 3 Alpha 0.0001 Features:  cylinders^2 Value:  33.492049454075676\n",
      "Degree: 3 Alpha 0.0001 Features:  cylinders displacement Value:  -193.63703898018838\n",
      "Degree: 3 Alpha 0.0001 Features:  displacement^2 Value:  191.3521595289466\n",
      "Degree: 3 Alpha 0.0001 Features:  horsepower^3 Value:  -5.660021707161692\n",
      "Degree: 3 Alpha 0.0001 Features:  horsepower^2 weight Value:  -18.052992355403838\n",
      "Degree: 3 Alpha 0.0001 Features:  horsepower^2 displacement Value:  133.66544339086462\n",
      "Degree: 3 Alpha 0.0001 Features:  horsepower weight^2 Value:  73.94078822131527\n",
      "Degree: 3 Alpha 0.0001 Features:  horsepower weight cylinders Value:  -80.83997815760517\n",
      "Degree: 3 Alpha 0.0001 Features:  horsepower weight displacement Value:  125.83100031927073\n",
      "Degree: 3 Alpha 0.0001 Features:  horsepower cylinders^2 Value:  -10.579180285380783\n",
      "Degree: 3 Alpha 0.0001 Features:  horsepower cylinders displacement Value:  -172.78599559776106\n",
      "Degree: 3 Alpha 0.0001 Features:  horsepower displacement^2 Value:  -245.80873235195202\n",
      "Degree: 3 Alpha 0.0001 Features:  weight^3 Value:  -10.232124727453646\n",
      "Degree: 3 Alpha 0.0001 Features:  weight^2 displacement Value:  -19.866183683622157\n",
      "Degree: 3 Alpha 0.0001 Features:  weight cylinders^2 Value:  49.6061235125543\n",
      "Degree: 3 Alpha 0.0001 Features:  weight cylinders displacement Value:  0.17537221611356357\n",
      "Degree: 3 Alpha 0.0001 Features:  weight displacement^2 Value:  -1.2037573050577526\n",
      "Degree: 3 Alpha 0.0001 Features:  cylinders^3 Value:  -26.964211809923732\n",
      "Degree: 3 Alpha 0.0001 Features:  cylinders^2 displacement Value:  95.26279027340125\n",
      "Degree: 3 Alpha 0.0001 Features:  cylinders displacement^2 Value:  26.106337549262243\n",
      "Degree: 3 Alpha 0.0001 Features:  displacement^3 Value:  -16.222052242923592\n",
      "\n",
      "\n",
      "Degree: 3 Alpha 0.00031622776601683794 Features:  horsepower Value:  -45.95798482739212\n",
      "Degree: 3 Alpha 0.00031622776601683794 Features:  weight Value:  19.578021756977066\n",
      "Degree: 3 Alpha 0.00031622776601683794 Features:  cylinders Value:  9.157156490516499\n",
      "Degree: 3 Alpha 0.00031622776601683794 Features:  displacement Value:  -38.30580761134539\n",
      "Degree: 3 Alpha 0.00031622776601683794 Features:  horsepower^2 Value:  -9.618344053923703\n",
      "Degree: 3 Alpha 0.00031622776601683794 Features:  horsepower weight Value:  -53.99007137542396\n",
      "Degree: 3 Alpha 0.00031622776601683794 Features:  horsepower cylinders Value:  39.50931710331239\n",
      "Degree: 3 Alpha 0.00031622776601683794 Features:  horsepower displacement Value:  169.7182164928382\n",
      "Degree: 3 Alpha 0.00031622776601683794 Features:  weight^2 Value:  -43.98721785253888\n",
      "Degree: 3 Alpha 0.00031622776601683794 Features:  weight cylinders Value:  0.5883086373067092\n",
      "Degree: 3 Alpha 0.00031622776601683794 Features:  cylinders displacement Value:  -116.99666985333843\n"
     ]
    },
    {
     "name": "stdout",
     "output_type": "stream",
     "text": [
      "Degree: 3 Alpha 0.00031622776601683794 Features:  displacement^2 Value:  70.16274241750956\n",
      "Degree: 3 Alpha 0.00031622776601683794 Features:  horsepower^3 Value:  19.532409577584737\n",
      "Degree: 3 Alpha 0.00031622776601683794 Features:  horsepower^2 displacement Value:  2.274068537735038\n",
      "Degree: 3 Alpha 0.00031622776601683794 Features:  horsepower weight^2 Value:  38.39581789455468\n",
      "Degree: 3 Alpha 0.00031622776601683794 Features:  horsepower weight displacement Value:  13.835572251525182\n",
      "Degree: 3 Alpha 0.00031622776601683794 Features:  horsepower cylinders^2 Value:  -31.93451403334911\n",
      "Degree: 3 Alpha 0.00031622776601683794 Features:  horsepower cylinders displacement Value:  -74.62290407753798\n",
      "Degree: 3 Alpha 0.00031622776601683794 Features:  horsepower displacement^2 Value:  -83.0705894367483\n",
      "Degree: 3 Alpha 0.00031622776601683794 Features:  weight^2 displacement Value:  -2.6161378280450176\n",
      "Degree: 3 Alpha 0.00031622776601683794 Features:  weight cylinders^2 Value:  23.464074812307857\n",
      "Degree: 3 Alpha 0.00031622776601683794 Features:  cylinders^2 displacement Value:  68.71479653000655\n",
      "\n",
      "\n",
      "Degree: 3 Alpha 0.001 Features:  horsepower Value:  -44.892438978369185\n",
      "Degree: 3 Alpha 0.001 Features:  cylinders Value:  4.473288753367256\n",
      "Degree: 3 Alpha 0.001 Features:  displacement Value:  -3.2046245339007178\n",
      "Degree: 3 Alpha 0.001 Features:  horsepower cylinders Value:  48.59639612180538\n",
      "Degree: 3 Alpha 0.001 Features:  horsepower displacement Value:  10.385315712911632\n",
      "Degree: 3 Alpha 0.001 Features:  weight^2 Value:  -26.35725934566824\n",
      "Degree: 3 Alpha 0.001 Features:  cylinders^2 Value:  -7.072957336922016\n",
      "Degree: 3 Alpha 0.001 Features:  cylinders displacement Value:  -57.215926138139906\n",
      "Degree: 3 Alpha 0.001 Features:  horsepower^3 Value:  7.404045269236408\n",
      "Degree: 3 Alpha 0.001 Features:  horsepower weight^2 Value:  13.242619790072942\n",
      "Degree: 3 Alpha 0.001 Features:  horsepower cylinders^2 Value:  -40.07769136362488\n",
      "Degree: 3 Alpha 0.001 Features:  weight^2 cylinders Value:  3.258916015452157\n",
      "Degree: 3 Alpha 0.001 Features:  weight cylinders^2 Value:  6.260257120286335\n",
      "Degree: 3 Alpha 0.001 Features:  weight cylinders displacement Value:  0.9548718554888953\n",
      "Degree: 3 Alpha 0.001 Features:  cylinders^2 displacement Value:  53.9305226322011\n",
      "Degree: 3 Alpha 0.001 Features:  cylinders displacement^2 Value:  1.6026440571404228\n",
      "\n",
      "\n",
      "Degree: 3 Alpha 0.0031622776601683794 Features:  horsepower Value:  -32.9497821580589\n",
      "Degree: 3 Alpha 0.0031622776601683794 Features:  weight Value:  -8.814250228535807\n",
      "Degree: 3 Alpha 0.0031622776601683794 Features:  displacement Value:  -12.711080828333852\n",
      "Degree: 3 Alpha 0.0031622776601683794 Features:  horsepower cylinders Value:  6.835012283661588\n",
      "Degree: 3 Alpha 0.0031622776601683794 Features:  weight^2 Value:  -8.050160279741755\n",
      "Degree: 3 Alpha 0.0031622776601683794 Features:  cylinders^2 Value:  -0.6887970569773055\n",
      "Degree: 3 Alpha 0.0031622776601683794 Features:  cylinders displacement Value:  -2.8756573234209477\n",
      "Degree: 3 Alpha 0.0031622776601683794 Features:  horsepower^3 Value:  5.338309772846805\n",
      "Degree: 3 Alpha 0.0031622776601683794 Features:  horsepower weight cylinders Value:  4.372709689917612\n",
      "Degree: 3 Alpha 0.0031622776601683794 Features:  horsepower weight displacement Value:  11.601173399116387\n",
      "Degree: 3 Alpha 0.0031622776601683794 Features:  cylinders^3 Value:  2.3963072396871414\n",
      "Degree: 3 Alpha 0.0031622776601683794 Features:  cylinders displacement^2 Value:  6.761260409823921\n",
      "\n",
      "\n",
      "Degree: 3 Alpha 0.01 Features:  horsepower Value:  -26.610089646396563\n",
      "Degree: 3 Alpha 0.01 Features:  weight Value:  -15.75278693913431\n",
      "Degree: 3 Alpha 0.01 Features:  displacement Value:  -9.310422753597207\n",
      "Degree: 3 Alpha 0.01 Features:  horsepower^2 weight Value:  4.432941527419342\n",
      "Degree: 3 Alpha 0.01 Features:  horsepower^2 cylinders Value:  1.1161093477148858\n",
      "Degree: 3 Alpha 0.01 Features:  horsepower^2 displacement Value:  6.567426170326235\n",
      "Degree: 3 Alpha 0.01 Features:  horsepower weight cylinders Value:  0.8265371907891121\n",
      "Degree: 3 Alpha 0.01 Features:  horsepower weight displacement Value:  6.76819245780357\n",
      "Degree: 3 Alpha 0.01 Features:  cylinders^3 Value:  2.743679694171616\n",
      "Degree: 3 Alpha 0.01 Features:  cylinders displacement^2 Value:  1.7508620354182505\n",
      "\n",
      "\n",
      "Degree: 3 Alpha 0.03162277660168379 Features:  horsepower Value:  -18.185467841930183\n",
      "Degree: 3 Alpha 0.03162277660168379 Features:  weight Value:  -19.197129367562596\n",
      "Degree: 3 Alpha 0.03162277660168379 Features:  displacement Value:  -3.425848866299183\n",
      "Degree: 3 Alpha 0.03162277660168379 Features:  horsepower^2 weight Value:  1.9730364082588423\n",
      "Degree: 3 Alpha 0.03162277660168379 Features:  horsepower weight cylinders Value:  2.557881677200241\n",
      "Degree: 3 Alpha 0.03162277660168379 Features:  horsepower weight displacement Value:  8.529112559373877\n",
      "\n",
      "\n",
      "Degree: 3 Alpha 0.1 Features:  horsepower Value:  -7.31298808432783\n",
      "Degree: 3 Alpha 0.1 Features:  weight Value:  -16.60197848996545\n",
      "Degree: 3 Alpha 0.1 Features:  cylinders Value:  -2.6418672606165408\n",
      "\n",
      "\n",
      "Degree: 3 Alpha 0.31622776601683794 Features:  weight Value:  -13.365296613854506\n",
      "Degree: 3 Alpha 0.31622776601683794 Features:  cylinders^2 Value:  -5.944692157663269\n",
      "\n",
      "\n",
      "Degree: 3 Alpha 1.0 Features:  cylinders^2 Value:  -9.549866799723704\n",
      "\n",
      "\n",
      "\n",
      "\n",
      "\n",
      "\n",
      "\n",
      "\n",
      "\n",
      "\n",
      "\n",
      "\n",
      "\n",
      "\n",
      "\n",
      "\n",
      "\n",
      "\n",
      "\n",
      "\n",
      "\n",
      "\n",
      "\n",
      "\n",
      "\n",
      "\n"
     ]
    }
   ],
   "source": [
    "# TODO write code\n",
    "for regr in pipeline_list:\n",
    "    feat_names=regr.get_feature_names()\n",
    "    ft=regr.get_linear_regr_weights()\n",
    "    ##print(feat_names)\n",
    "    for i in range(0, len(feat_names)):\n",
    "        if (np.abs(ft[i])>0):\n",
    "            print(\"Degree:\", regr.degree, \"Alpha\", regr.alpha, \"Features: \", feat_names[i], 'Value: ', ft[i])\n",
    "    \n",
    "    print(\"\\n\")"
   ]
  },
  {
   "cell_type": "markdown",
   "metadata": {},
   "source": [
    "## Problem 3"
   ]
  },
  {
   "cell_type": "markdown",
   "metadata": {},
   "source": [
    "### 3a: Adding fake observations to a no-bias linear regression\n"
   ]
  },
  {
   "cell_type": "markdown",
   "metadata": {},
   "source": [
    "**Question:** \n",
    "You are given a training dataset for regression $\\{x_n, y_n \\}_{n=1}^N$. Each feature vector $x_n$ has size $F=4$. Each $y_n$ is a scalar.\n",
    "\n",
    "You decide to add in the following additional \"fake\" observations $\\tilde{x}$:\n",
    "\n",
    "\\begin{align}\n",
    "\\begin{array}{c c c c}\n",
    "    ~\\sqrt{\\lambda}  & 0  & 0 & 0\n",
    " \\\\ 0  & \\sqrt{\\lambda}  & 0  & 0\n",
    " \\\\ 0  &0 & \\sqrt{\\lambda} &0\n",
    " \\\\ 0  & 0  & 0  &\\sqrt{\\lambda}\n",
    "\\end{array}\n",
    "\\end{align}\n",
    "\n",
    "You also add in 4 \"fake\" responses $\\tilde{y}$, all equal to zero.\n",
    "\n",
    "You then wish to fit a least squares linear regression model with no bias/intercept term to the combined labeled dataset that is the union of $x$ and $\\tilde{x}$, $y$ and $\\tilde{y}$.\n",
    "\n",
    "Write down the optimization objective and simplify as much as possible. Is this \"add fake data\" process interpretable as some kind of regularization?\n",
    "\n"
   ]
  },
  {
   "cell_type": "markdown",
   "metadata": {},
   "source": [
    "## Answer:\n",
    "(i) For the first n $x_n$, the sum of squared error is $\\sum_1^N [y_n-w*x_n]^2$. For the last 4 fake obeservation, the sum of squared error is:\n",
    "$$\n",
    "\\begin{align}\n",
    "\\sum_1^4 [y_n-w\\tilde{x}_n]^2 &=\\sum_1^4 [0-w_n*\\sqrt{\\lambda}]^2=\\lambda(w_1^2+w_2^2+w_3^3+w_4^2)\\\\\n",
    "&=\\lambda\\sum_1^4 w_n^2\n",
    "\\end{align}\n",
    "$$\n",
    "So the least square problem becomes optimizing $\\frac{1}{N+F}[\\sum_1^N (y_n-w*x_n)^2+\\lambda\\sum_1^F w_n^2]$ with $F=4$. This is the same problem as optimizing $\\frac{1}{2}[\\sum_1^N (y_n-w*x_n)^2+\\lambda\\sum_1^F w_n^2]$ = $\\frac{1}{2}\\sum_1^N (y_n-w*x_n)^2+\\lambda'\\sum_1^F w_n^2$, (where $\\lambda'=\\lambda/2$).\n",
    "  \n",
    "(ii) This is the same problem of $L2$-penalty regularized linear regression."
   ]
  },
  {
   "cell_type": "code",
   "execution_count": null,
   "metadata": {},
   "outputs": [],
   "source": []
  },
  {
   "cell_type": "code",
   "execution_count": null,
   "metadata": {},
   "outputs": [],
   "source": []
  }
 ],
 "metadata": {
  "kernelspec": {
   "display_name": "Python 3",
   "language": "python",
   "name": "python3"
  },
  "language_info": {
   "codemirror_mode": {
    "name": "ipython",
    "version": 3
   },
   "file_extension": ".py",
   "mimetype": "text/x-python",
   "name": "python",
   "nbconvert_exporter": "python",
   "pygments_lexer": "ipython3",
   "version": "3.6.5"
  }
 },
 "nbformat": 4,
 "nbformat_minor": 2
}
