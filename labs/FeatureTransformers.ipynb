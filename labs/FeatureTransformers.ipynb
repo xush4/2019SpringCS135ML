{
 "cells": [
  {
   "cell_type": "markdown",
   "metadata": {},
   "source": [
    "\n",
    "## Writing your own Feature Transformers\n",
    "Link: https://scikit-learn.org/stable/data_transforms.html\n",
    "\n",
    "Implement two functions: fit and transform\n"
   ]
  },
  {
   "cell_type": "code",
   "execution_count": 1,
   "metadata": {},
   "outputs": [],
   "source": [
    "# imports and setup\n",
    "import numpy as np\n",
    "from scipy.special import logsumexp\n",
    "import seaborn as sns\n",
    "import matplotlib\n",
    "import matplotlib.pyplot as plt\n",
    "\n",
    "import sklearn.metrics\n",
    "import sklearn.linear_model\n",
    "import sklearn.tree\n",
    "import sklearn.neighbors\n",
    "\n",
    "%matplotlib inline\n",
    "np.set_printoptions(suppress=True, precision=2)\n",
    "plt.style.use('seaborn') # pretty matplotlib plots\n",
    "\n",
    "sns.set(font_scale=2)"
   ]
  },
  {
   "cell_type": "code",
   "execution_count": 2,
   "metadata": {},
   "outputs": [],
   "source": [
    "from sklearn.base import BaseEstimator, TransformerMixin"
   ]
  },
  {
   "cell_type": "markdown",
   "metadata": {},
   "source": [
    "# Check in: logsumexp"
   ]
  },
  {
   "cell_type": "code",
   "execution_count": 3,
   "metadata": {},
   "outputs": [],
   "source": [
    "def my_log_sum_exp(scores_K):\n",
    "    return np.log(np.sum(np.exp(scores_K)))"
   ]
  },
  {
   "cell_type": "code",
   "execution_count": 4,
   "metadata": {},
   "outputs": [
    {
     "data": {
      "text/plain": [
       "3.0658839037574293"
      ]
     },
     "execution_count": 4,
     "metadata": {},
     "output_type": "execute_result"
    }
   ],
   "source": [
    "my_log_sum_exp([0.0, 3.0, -1.0])"
   ]
  },
  {
   "cell_type": "code",
   "execution_count": 5,
   "metadata": {},
   "outputs": [
    {
     "data": {
      "text/plain": [
       "-96.93411609624258"
      ]
     },
     "execution_count": 5,
     "metadata": {},
     "output_type": "execute_result"
    }
   ],
   "source": [
    "my_log_sum_exp([-100.0, -97.0, -101.0])"
   ]
  },
  {
   "cell_type": "code",
   "execution_count": 6,
   "metadata": {},
   "outputs": [
    {
     "data": {
      "text/plain": [
       "-96.93411609624258"
      ]
     },
     "execution_count": 6,
     "metadata": {},
     "output_type": "execute_result"
    }
   ],
   "source": [
    "logsumexp([-100.0, -97.0, -101.0])"
   ]
  },
  {
   "cell_type": "code",
   "execution_count": 7,
   "metadata": {},
   "outputs": [
    {
     "name": "stderr",
     "output_type": "stream",
     "text": [
      "/Users/mhughes/anaconda2/envs/comp135_env/lib/python3.6/site-packages/ipykernel_launcher.py:2: RuntimeWarning: divide by zero encountered in log\n",
      "  \n"
     ]
    },
    {
     "data": {
      "text/plain": [
       "-inf"
      ]
     },
     "execution_count": 7,
     "metadata": {},
     "output_type": "execute_result"
    }
   ],
   "source": [
    "my_log_sum_exp([-1000.0, -997.0, -1001.0])"
   ]
  },
  {
   "cell_type": "code",
   "execution_count": 8,
   "metadata": {},
   "outputs": [
    {
     "data": {
      "text/plain": [
       "-996.9341160962425"
      ]
     },
     "execution_count": 8,
     "metadata": {},
     "output_type": "execute_result"
    }
   ],
   "source": [
    "logsumexp([-1000.0, -997.0, -1001.0])"
   ]
  },
  {
   "cell_type": "markdown",
   "metadata": {},
   "source": [
    "## Toy Dataset"
   ]
  },
  {
   "cell_type": "code",
   "execution_count": 9,
   "metadata": {},
   "outputs": [],
   "source": [
    "C = 50 # num examples per class\n",
    "N = 2 * C # num examples total\n",
    "random_state = np.random.RandomState(0)\n",
    "x_pos_C2 = 0.5 * random_state.randn(C, 2)\n",
    "x_neg_M2 = 5.0 * random_state.randn(100 * C, 2)\n",
    "radius_M = np.sqrt(np.sum(np.square(x_neg_M2), axis=1))\n",
    "fits_ring_M = np.logical_and(radius_M >= 1.8, radius_M <= 2.5)\n",
    "x_neg_C2 = x_neg_M2[fits_ring_M][:C]\n",
    "\n",
    "x_N2 = np.vstack([x_neg_C2, x_pos_C2])\n",
    "y_N = np.hstack([np.zeros(C), 1.0 * np.ones(C)])"
   ]
  },
  {
   "cell_type": "code",
   "execution_count": 10,
   "metadata": {},
   "outputs": [
    {
     "data": {
      "image/png": "[encoded data removed]",
      "text/plain": [
       "<Figure size 576x576 with 1 Axes>"
      ]
     },
     "metadata": {
      "needs_background": "light"
     },
     "output_type": "display_data"
    }
   ],
   "source": [
    "plt.figure(figsize=(8,8))\n",
    "plt.plot(x_N2[y_N == 1,0], x_N2[y_N == 1,1], color='b', marker='+', ls='', mew=2);\n",
    "plt.plot(x_N2[y_N == 0,0], x_N2[y_N == 0,1], color='r', marker='x', ls='', mew=2);"
   ]
  },
  {
   "cell_type": "markdown",
   "metadata": {},
   "source": [
    "# Sum Feature Extractor"
   ]
  },
  {
   "cell_type": "code",
   "execution_count": 11,
   "metadata": {},
   "outputs": [],
   "source": [
    "class SumFeatureExtractor(BaseEstimator,TransformerMixin):\n",
    "    \"\"\" Extracts *sum* of input feature vector as new feature\n",
    "    \"\"\"\n",
    "\n",
    "    def fit(self, x_NF, y_N=None):\n",
    "        \"\"\" Nothing happens, as this transform has no trainable parameters\n",
    "        \"\"\"\n",
    "        self.n_input_features_ = x_NF.shape[1]\n",
    "        return self\n",
    "    \n",
    "    \n",
    "    def transform(self, x_NF, y_N=None):\n",
    "        \"\"\" Average all feature values into a new feature column\n",
    "        Returns\n",
    "        -------\n",
    "        feat : 2D array, size N x 1\n",
    "            One feature extracted for each example\n",
    "        \"\"\"\n",
    "        return np.sum(x_NF, axis=1)[:,np.newaxis]\n",
    "\n",
    "    def get_feature_names(self):\n",
    "        return ['sum']"
   ]
  },
  {
   "cell_type": "code",
   "execution_count": 12,
   "metadata": {},
   "outputs": [],
   "source": [
    "t = SumFeatureExtractor()"
   ]
  },
  {
   "cell_type": "code",
   "execution_count": 13,
   "metadata": {},
   "outputs": [
    {
     "data": {
      "text/plain": [
       "SumFeatureExtractor()"
      ]
     },
     "execution_count": 13,
     "metadata": {},
     "output_type": "execute_result"
    }
   ],
   "source": [
    "t.fit(x_N2)"
   ]
  },
  {
   "cell_type": "code",
   "execution_count": 14,
   "metadata": {},
   "outputs": [
    {
     "data": {
      "text/plain": [
       "array([[-2.28,  0.09],\n",
       "       [-1.85, -1.2 ]])"
      ]
     },
     "execution_count": 14,
     "metadata": {},
     "output_type": "execute_result"
    }
   ],
   "source": [
    "x_N2[:2]"
   ]
  },
  {
   "cell_type": "code",
   "execution_count": 15,
   "metadata": {},
   "outputs": [
    {
     "data": {
      "text/plain": [
       "array([[-2.19],\n",
       "       [-3.04]])"
      ]
     },
     "execution_count": 15,
     "metadata": {},
     "output_type": "execute_result"
    }
   ],
   "source": [
    "t.transform(x_N2[:2])"
   ]
  },
  {
   "cell_type": "code",
   "execution_count": 16,
   "metadata": {},
   "outputs": [],
   "source": [
    "feat_NG = t.transform(x_N2)"
   ]
  },
  {
   "cell_type": "markdown",
   "metadata": {},
   "source": [
    "# Square Feature Extractor"
   ]
  },
  {
   "cell_type": "code",
   "execution_count": 17,
   "metadata": {},
   "outputs": [],
   "source": [
    "class SquareFeatureExtractor(BaseEstimator, TransformerMixin):\n",
    "    \"\"\" Extracts *sum* of input feature vector as new feature\n",
    "    \"\"\"\n",
    "\n",
    "    def fit(self, x_NF, y_N=None):\n",
    "        \"\"\" Nothing happens, as this transform has no trainable parameters\n",
    "        \"\"\"\n",
    "        self.n_input_features_ = x_NF.shape[1]\n",
    "        return self\n",
    "    \n",
    "    def transform(self, x_NF, y_N=None):\n",
    "        \"\"\" \n",
    "        \n",
    "        Returns\n",
    "        -------\n",
    "        feat_NF : 2D array, size N x F\n",
    "            One feature extracted for each example\n",
    "        \"\"\"\n",
    "        return np.square(x_NF)\n",
    "    \n",
    "    def get_feature_names(self):\n",
    "        return ['squared_x_%d' % a for a in range(self.n_input_features_)]"
   ]
  },
  {
   "cell_type": "code",
   "execution_count": 18,
   "metadata": {},
   "outputs": [
    {
     "data": {
      "text/plain": [
       "Text(0, 0.5, '(x_2)^2')"
      ]
     },
     "execution_count": 18,
     "metadata": {},
     "output_type": "execute_result"
    },
    {
     "data": {
      "image/png": "[encoded data removed]",
      "text/plain": [
       "<Figure size 864x360 with 2 Axes>"
      ]
     },
     "metadata": {
      "needs_background": "light"
     },
     "output_type": "display_data"
    }
   ],
   "source": [
    "t = SquareFeatureExtractor()\n",
    "feat_N2 = t.transform(x_N2)\n",
    "\n",
    "fig, axgrid = plt.subplots(nrows=1, ncols=2, figsize=(12, 5))\n",
    "plt.subplots_adjust(wspace=0.3)\n",
    "axgrid[0].plot(x_N2[y_N == 1,0], x_N2[y_N == 1,1], color='b', marker='+', ls='', mew=2);\n",
    "axgrid[0].plot(x_N2[y_N == 0,0], x_N2[y_N == 0,1], color='r', marker='x', ls='', mew=2);\n",
    "axgrid[0].set_xlabel(\"x_1\")\n",
    "axgrid[0].set_ylabel(\"x_2\")\n",
    "\n",
    "axgrid[1].plot(feat_N2[y_N == 1,0], feat_N2[y_N == 1,1], color='b', marker='+', ls='', mew=2);\n",
    "axgrid[1].plot(feat_N2[y_N == 0,0], feat_N2[y_N == 0,1], color='r', marker='x', ls='', mew=2);\n",
    "axgrid[1].set_xlabel(\"(x_1)^2\")\n",
    "axgrid[1].set_ylabel(\"(x_2)^2\")\n"
   ]
  },
  {
   "cell_type": "markdown",
   "metadata": {},
   "source": [
    "# MinMaxFeatureRescalar : A Transformer with trainable parameters"
   ]
  },
  {
   "cell_type": "code",
   "execution_count": 19,
   "metadata": {},
   "outputs": [],
   "source": [
    "class MinMaxFeatureRescaler(BaseEstimator, TransformerMixin):\n",
    "    \"\"\" Rescales each feature column to be within [0, 1], using training data min/max\n",
    "    \"\"\"\n",
    "    def __init__(self):\n",
    "        self.prop = 'abc'\n",
    "    \n",
    "    def fit(self, x_NF, y_N=None):\n",
    "        self.n_input_features_ = x_NF.shape[1]\n",
    "        self.min_1F_ = np.min(x_NF, axis=0, keepdims=1)\n",
    "        self.max_1F_ = np.max(x_NF, axis=0, keepdims=1)\n",
    "        return self\n",
    "\n",
    "    def transform(self, x_NF, y_N=None):\n",
    "        feat_NF = ((x_NF - self.min_1F_)\n",
    "            / (self.max_1F_ - self.min_1F_))\n",
    "        return feat_NF\n",
    "\n",
    "    def get_feature_names(self):\n",
    "        return ['rescaled_x_%d' % a for a in range(self.n_input_features_)]"
   ]
  },
  {
   "cell_type": "code",
   "execution_count": 20,
   "metadata": {},
   "outputs": [
    {
     "data": {
      "text/plain": [
       "MinMaxFeatureRescaler()"
      ]
     },
     "execution_count": 20,
     "metadata": {},
     "output_type": "execute_result"
    }
   ],
   "source": [
    "t = MinMaxFeatureRescaler()\n",
    "t.fit(x_N2)"
   ]
  },
  {
   "cell_type": "code",
   "execution_count": 21,
   "metadata": {},
   "outputs": [
    {
     "data": {
      "text/plain": [
       "array([[-2.28,  0.09],\n",
       "       [-1.85, -1.2 ],\n",
       "       [-0.09,  1.9 ],\n",
       "       [-1.92,  0.47],\n",
       "       [-1.82,  0.78]])"
      ]
     },
     "execution_count": 21,
     "metadata": {},
     "output_type": "execute_result"
    }
   ],
   "source": [
    "x_N2[:5]"
   ]
  },
  {
   "cell_type": "code",
   "execution_count": 22,
   "metadata": {},
   "outputs": [
    {
     "data": {
      "text/plain": [
       "array([[0.04, 0.49],\n",
       "       [0.13, 0.22],\n",
       "       [0.48, 0.88],\n",
       "       [0.11, 0.58],\n",
       "       [0.13, 0.64]])"
      ]
     },
     "execution_count": 22,
     "metadata": {},
     "output_type": "execute_result"
    }
   ],
   "source": [
    "t.transform(x_N2)[:5]"
   ]
  },
  {
   "cell_type": "code",
   "execution_count": 23,
   "metadata": {},
   "outputs": [
    {
     "data": {
      "image/png": "[encoded data removed]",
      "text/plain": [
       "<Figure size 576x576 with 1 Axes>"
      ]
     },
     "metadata": {
      "needs_background": "light"
     },
     "output_type": "display_data"
    }
   ],
   "source": [
    "plt.figure(figsize=(8,8))\n",
    "feat_N2 = t.transform(x_N2)\n",
    "plt.plot(feat_N2[y_N == 1,0], feat_N2[y_N == 1,1], color='b', marker='+', ls='', mew=2);\n",
    "plt.plot(feat_N2[y_N == 0,0], feat_N2[y_N == 0,1], color='r', marker='x', ls='', mew=2);"
   ]
  },
  {
   "cell_type": "markdown",
   "metadata": {},
   "source": [
    "# Feature union"
   ]
  },
  {
   "cell_type": "code",
   "execution_count": 24,
   "metadata": {},
   "outputs": [],
   "source": [
    "from sklearn.pipeline import FeatureUnion"
   ]
  },
  {
   "cell_type": "code",
   "execution_count": 25,
   "metadata": {},
   "outputs": [],
   "source": [
    "union_transformer = FeatureUnion(transformer_list=[\n",
    "    ('sum_x', SumFeatureExtractor()),\n",
    "    ('square_x', SquareFeatureExtractor()),\n",
    "    ('rescale_x', MinMaxFeatureRescaler()),\n",
    "])"
   ]
  },
  {
   "cell_type": "code",
   "execution_count": 26,
   "metadata": {},
   "outputs": [
    {
     "data": {
      "text/plain": [
       "array([[-2.19,  5.19,  0.01,  0.04,  0.49],\n",
       "       [-3.04,  3.41,  1.43,  0.13,  0.22],\n",
       "       [ 1.81,  0.01,  3.59,  0.48,  0.88]])"
      ]
     },
     "execution_count": 26,
     "metadata": {},
     "output_type": "execute_result"
    }
   ],
   "source": [
    "union_transformer.fit(x_N2);\n",
    "union_transformer.transform(x_N2)[:3]"
   ]
  },
  {
   "cell_type": "code",
   "execution_count": 27,
   "metadata": {},
   "outputs": [
    {
     "data": {
      "text/plain": [
       "['sum_x__sum',\n",
       " 'square_x__squared_x_0',\n",
       " 'square_x__squared_x_1',\n",
       " 'rescale_x__rescaled_x_0',\n",
       " 'rescale_x__rescaled_x_1']"
      ]
     },
     "execution_count": 27,
     "metadata": {},
     "output_type": "execute_result"
    }
   ],
   "source": [
    "union_transformer.get_feature_names()"
   ]
  },
  {
   "cell_type": "code",
   "execution_count": 28,
   "metadata": {},
   "outputs": [
    {
     "data": {
      "text/plain": [
       "array([[-2.19,  5.19,  0.01,  0.04,  0.49],\n",
       "       [-3.04,  3.41,  1.43,  0.13,  0.22],\n",
       "       [ 1.81,  0.01,  3.59,  0.48,  0.88]])"
      ]
     },
     "execution_count": 28,
     "metadata": {},
     "output_type": "execute_result"
    }
   ],
   "source": [
    "union_transformer.transform(x_N2)[:3]"
   ]
  },
  {
   "cell_type": "code",
   "execution_count": null,
   "metadata": {},
   "outputs": [],
   "source": []
  }
 ],
 "metadata": {
  "kernelspec": {
   "display_name": "Python 3",
   "language": "python",
   "name": "python3"
  },
  "language_info": {
   "codemirror_mode": {
    "name": "ipython",
    "version": 3
   },
   "file_extension": ".py",
   "mimetype": "text/x-python",
   "name": "python",
   "nbconvert_exporter": "python",
   "pygments_lexer": "ipython3",
   "version": "3.6.8"
  }
 },
 "nbformat": 4,
 "nbformat_minor": 2
}
