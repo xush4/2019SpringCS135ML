{
 "cells": [
  {
   "cell_type": "markdown",
   "metadata": {},
   "source": [
    "# Quick demo of fitting linear regression via gradient descent\n"
   ]
  },
  {
   "cell_type": "code",
   "execution_count": 1,
   "metadata": {},
   "outputs": [],
   "source": [
    "# imports and setup\n",
    "import numpy as np\n",
    "\n",
    "import seaborn as sns\n",
    "import matplotlib\n",
    "import matplotlib.pyplot as plt\n",
    "\n",
    "import math\n",
    "\n",
    "import pandas as pd\n",
    "\n",
    "%matplotlib inline\n",
    "np.set_printoptions(suppress=True, precision=2)\n",
    "pd.set_option('precision', 2) # number precision for pandas\n",
    "plt.style.use('seaborn') # pretty matplotlib plots"
   ]
  },
  {
   "cell_type": "markdown",
   "metadata": {},
   "source": [
    "# Create simple dataset:   y = 4.2 * x + noise"
   ]
  },
  {
   "cell_type": "code",
   "execution_count": 2,
   "metadata": {},
   "outputs": [],
   "source": [
    "def create_dataset(N=100, slope=4.2, noise_stddev=0.1, random_state=0):\n",
    "    random_state = np.random.RandomState(int(random_state))\n",
    "    x_N = np.linspace(-2, 2, N)\n",
    "    \n",
    "    y_N = slope * x_N + random_state.randn(N) * noise_stddev\n",
    "    \n",
    "    return x_N, y_N"
   ]
  },
  {
   "cell_type": "code",
   "execution_count": 5,
   "metadata": {},
   "outputs": [],
   "source": [
    "x_N, y_N = create_dataset(N=50, noise_stddev=0.3)"
   ]
  },
  {
   "cell_type": "code",
   "execution_count": 7,
   "metadata": {},
   "outputs": [
    {
     "data": {
      "image/png": "[encoded data removed]",
      "text/plain": [
       "<Figure size 432x288 with 1 Axes>"
      ]
     },
     "metadata": {
      "needs_background": "light"
     },
     "output_type": "display_data"
    }
   ],
   "source": [
    "plt.plot(x_N, y_N, 'k.');"
   ]
  },
  {
   "cell_type": "markdown",
   "metadata": {},
   "source": [
    "## Define loss function"
   ]
  },
  {
   "cell_type": "code",
   "execution_count": 31,
   "metadata": {},
   "outputs": [],
   "source": [
    "def calc_loss(w):\n",
    "    yhat_N = x_N * w\n",
    "    sum_squared_error = 0.5 * np.sum(np.square(y_N - yhat_N))\n",
    "    return sum_squared_error"
   ]
  },
  {
   "cell_type": "code",
   "execution_count": 32,
   "metadata": {},
   "outputs": [],
   "source": [
    "def calc_grad(w):\n",
    "    grad = np.sum(w * np.square(x_N) - x_N * y_N)\n",
    "    return grad"
   ]
  },
  {
   "cell_type": "code",
   "execution_count": 33,
   "metadata": {},
   "outputs": [],
   "source": [
    "w_grid = np.linspace(0, 8, 100)"
   ]
  },
  {
   "cell_type": "markdown",
   "metadata": {},
   "source": [
    "## Sanity check: plot loss evaluated at each w from 0 to 8"
   ]
  },
  {
   "cell_type": "code",
   "execution_count": 34,
   "metadata": {},
   "outputs": [
    {
     "data": {
      "text/plain": [
       "[<matplotlib.lines.Line2D at 0x1a18883518>]"
      ]
     },
     "execution_count": 34,
     "metadata": {},
     "output_type": "execute_result"
    },
    {
     "data": {
      "image/png": "[encoded data removed]",
      "text/plain": [
       "<Figure size 432x288 with 1 Axes>"
      ]
     },
     "metadata": {
      "needs_background": "light"
     },
     "output_type": "display_data"
    }
   ],
   "source": [
    "loss_grid = [calc_loss(w) for w in w_grid]\n",
    "plt.plot(w_grid, loss_grid, 'b.-')"
   ]
  },
  {
   "cell_type": "markdown",
   "metadata": {},
   "source": [
    "## Sanity check: plot gradient evaluated at each w from 0 to 8"
   ]
  },
  {
   "cell_type": "code",
   "execution_count": 35,
   "metadata": {},
   "outputs": [
    {
     "data": {
      "text/plain": [
       "[<matplotlib.lines.Line2D at 0x1a187e7c50>]"
      ]
     },
     "execution_count": 35,
     "metadata": {},
     "output_type": "execute_result"
    },
    {
     "data": {
      "image/png": "[encoded data removed]",
      "text/plain": [
       "<Figure size 432x288 with 1 Axes>"
      ]
     },
     "metadata": {
      "needs_background": "light"
     },
     "output_type": "display_data"
    }
   ],
   "source": [
    "grad_grid = [calc_grad(w) for w in w_grid]\n",
    "plt.plot(w_grid, grad_grid, 'b.-')"
   ]
  },
  {
   "cell_type": "markdown",
   "metadata": {},
   "source": [
    "### Define minimize_via_grad_descent algorithm"
   ]
  },
  {
   "cell_type": "code",
   "execution_count": 58,
   "metadata": {},
   "outputs": [],
   "source": [
    "def minimize_via_grad_descent(calc_loss, calc_grad, init_w=0.0, step_size=0.001, max_iters=100):\n",
    "    w = np.asarray(init_w).copy()\n",
    "    \n",
    "    trace_loss_list = []\n",
    "    trace_w_list = []\n",
    "    trace_grad_list = []\n",
    "    grad = np.nan\n",
    "    for iter_id in range(max_iters):\n",
    "        if iter_id > 0:\n",
    "            grad = calc_grad(w)    \n",
    "            w = w - step_size * grad\n",
    "        loss = calc_loss(w)\n",
    "    \n",
    "        print(\"  iter %5d/%d | loss % 13.4f | w  % 13.5f\" % (iter_id, max_iters, loss, w))\n",
    "    \n",
    "        trace_loss_list.append(loss)\n",
    "        trace_w_list.append(w)\n",
    "        trace_grad_list.append(grad)\n",
    "        \n",
    "    wopt = w\n",
    "    return wopt, dict(trace_loss_list=trace_loss_list, trace_w_list=trace_w_list, trace_grad_list=trace_grad_list)"
   ]
  },
  {
   "cell_type": "markdown",
   "metadata": {},
   "source": [
    "## Try with step_size = 0.0001"
   ]
  },
  {
   "cell_type": "code",
   "execution_count": 59,
   "metadata": {},
   "outputs": [
    {
     "name": "stdout",
     "output_type": "stream",
     "text": [
      "  iter     0/100 | loss      584.0407 | w        0.00000\n",
      "  iter     1/100 | loss      506.1378 | w        0.28408\n",
      "  iter     2/100 | loss      438.6709 | w        0.54845\n",
      "  iter     3/100 | loss      380.2418 | w        0.79448\n",
      "  iter     4/100 | loss      329.6400 | w        1.02343\n",
      "  iter     5/100 | loss      285.8168 | w        1.23650\n",
      "  iter     6/100 | loss      247.8643 | w        1.43479\n",
      "  iter     7/100 | loss      214.9958 | w        1.61931\n",
      "  iter     8/100 | loss      186.5305 | w        1.79103\n",
      "  iter     9/100 | loss      161.8784 | w        1.95084\n",
      "  iter    10/100 | loss      140.5287 | w        2.09956\n",
      "  iter    11/100 | loss      122.0391 | w        2.23796\n",
      "  iter    12/100 | loss      106.0263 | w        2.36675\n",
      "  iter    13/100 | loss       92.1586 | w        2.48661\n",
      "  iter    14/100 | loss       80.1487 | w        2.59815\n",
      "  iter    15/100 | loss       69.7476 | w        2.70196\n",
      "  iter    16/100 | loss       60.7398 | w        2.79856\n",
      "  iter    17/100 | loss       52.9387 | w        2.88845\n",
      "  iter    18/100 | loss       46.1827 | w        2.97211\n",
      "  iter    19/100 | loss       40.3317 | w        3.04997\n",
      "  iter    20/100 | loss       35.2645 | w        3.12242\n",
      "  iter    21/100 | loss       30.8762 | w        3.18984\n",
      "  iter    22/100 | loss       27.0757 | w        3.25259\n",
      "  iter    23/100 | loss       23.7843 | w        3.31098\n",
      "  iter    24/100 | loss       20.9338 | w        3.36532\n",
      "  iter    25/100 | loss       18.4652 | w        3.41589\n",
      "  iter    26/100 | loss       16.3273 | w        3.46295\n",
      "  iter    27/100 | loss       14.4757 | w        3.50675\n",
      "  iter    28/100 | loss       12.8722 | w        3.54751\n",
      "  iter    29/100 | loss       11.4836 | w        3.58544\n",
      "  iter    30/100 | loss       10.2809 | w        3.62073\n",
      "  iter    31/100 | loss        9.2394 | w        3.65358\n",
      "  iter    32/100 | loss        8.3373 | w        3.68415\n",
      "  iter    33/100 | loss        7.5561 | w        3.71260\n",
      "  iter    34/100 | loss        6.8796 | w        3.73907\n",
      "  iter    35/100 | loss        6.2937 | w        3.76371\n",
      "  iter    36/100 | loss        5.7863 | w        3.78663\n",
      "  iter    37/100 | loss        5.3468 | w        3.80797\n",
      "  iter    38/100 | loss        4.9663 | w        3.82783\n",
      "  iter    39/100 | loss        4.6367 | w        3.84630\n",
      "  iter    40/100 | loss        4.3512 | w        3.86350\n",
      "  iter    41/100 | loss        4.1040 | w        3.87950\n",
      "  iter    42/100 | loss        3.8899 | w        3.89440\n",
      "  iter    43/100 | loss        3.7045 | w        3.90825\n",
      "  iter    44/100 | loss        3.5440 | w        3.92115\n",
      "  iter    45/100 | loss        3.4049 | w        3.93315\n",
      "  iter    46/100 | loss        3.2845 | w        3.94432\n",
      "  iter    47/100 | loss        3.1802 | w        3.95472\n",
      "  iter    48/100 | loss        3.0898 | w        3.96439\n",
      "  iter    49/100 | loss        3.0116 | w        3.97339\n",
      "  iter    50/100 | loss        2.9439 | w        3.98177\n",
      "  iter    51/100 | loss        2.8852 | w        3.98957\n",
      "  iter    52/100 | loss        2.8344 | w        3.99682\n",
      "  iter    53/100 | loss        2.7904 | w        4.00357\n",
      "  iter    54/100 | loss        2.7523 | w        4.00986\n",
      "  iter    55/100 | loss        2.7193 | w        4.01571\n",
      "  iter    56/100 | loss        2.6907 | w        4.02115\n",
      "  iter    57/100 | loss        2.6659 | w        4.02621\n",
      "  iter    58/100 | loss        2.6445 | w        4.03092\n",
      "  iter    59/100 | loss        2.6259 | w        4.03531\n",
      "  iter    60/100 | loss        2.6098 | w        4.03939\n",
      "  iter    61/100 | loss        2.5959 | w        4.04319\n",
      "  iter    62/100 | loss        2.5838 | w        4.04672\n",
      "  iter    63/100 | loss        2.5734 | w        4.05001\n",
      "  iter    64/100 | loss        2.5644 | w        4.05307\n",
      "  iter    65/100 | loss        2.5565 | w        4.05592\n",
      "  iter    66/100 | loss        2.5497 | w        4.05857\n",
      "  iter    67/100 | loss        2.5439 | w        4.06104\n",
      "  iter    68/100 | loss        2.5388 | w        4.06334\n",
      "  iter    69/100 | loss        2.5344 | w        4.06547\n",
      "  iter    70/100 | loss        2.5306 | w        4.06746\n",
      "  iter    71/100 | loss        2.5272 | w        4.06931\n",
      "  iter    72/100 | loss        2.5244 | w        4.07103\n",
      "  iter    73/100 | loss        2.5219 | w        4.07264\n",
      "  iter    74/100 | loss        2.5198 | w        4.07413\n",
      "  iter    75/100 | loss        2.5179 | w        4.07552\n",
      "  iter    76/100 | loss        2.5163 | w        4.07681\n",
      "  iter    77/100 | loss        2.5149 | w        4.07801\n",
      "  iter    78/100 | loss        2.5137 | w        4.07913\n",
      "  iter    79/100 | loss        2.5126 | w        4.08017\n",
      "  iter    80/100 | loss        2.5117 | w        4.08114\n",
      "  iter    81/100 | loss        2.5110 | w        4.08204\n",
      "  iter    82/100 | loss        2.5103 | w        4.08288\n",
      "  iter    83/100 | loss        2.5097 | w        4.08366\n",
      "  iter    84/100 | loss        2.5092 | w        4.08438\n",
      "  iter    85/100 | loss        2.5087 | w        4.08506\n",
      "  iter    86/100 | loss        2.5084 | w        4.08569\n",
      "  iter    87/100 | loss        2.5080 | w        4.08628\n",
      "  iter    88/100 | loss        2.5077 | w        4.08682\n",
      "  iter    89/100 | loss        2.5075 | w        4.08733\n",
      "  iter    90/100 | loss        2.5073 | w        4.08780\n",
      "  iter    91/100 | loss        2.5071 | w        4.08824\n",
      "  iter    92/100 | loss        2.5069 | w        4.08865\n",
      "  iter    93/100 | loss        2.5068 | w        4.08903\n",
      "  iter    94/100 | loss        2.5067 | w        4.08938\n",
      "  iter    95/100 | loss        2.5066 | w        4.08971\n",
      "  iter    96/100 | loss        2.5065 | w        4.09002\n",
      "  iter    97/100 | loss        2.5064 | w        4.09030\n",
      "  iter    98/100 | loss        2.5063 | w        4.09057\n",
      "  iter    99/100 | loss        2.5063 | w        4.09081\n"
     ]
    }
   ],
   "source": [
    "wopt, info_dict = minimize_via_grad_descent(calc_loss, calc_grad, step_size=0.001);"
   ]
  },
  {
   "cell_type": "code",
   "execution_count": 60,
   "metadata": {},
   "outputs": [
    {
     "data": {
      "text/plain": [
       "(0, 100)"
      ]
     },
     "execution_count": 60,
     "metadata": {},
     "output_type": "execute_result"
    },
    {
     "data": {
      "image/png": "[encoded data removed]",
      "text/plain": [
       "<Figure size 576x216 with 3 Axes>"
      ]
     },
     "metadata": {
      "needs_background": "light"
     },
     "output_type": "display_data"
    }
   ],
   "source": [
    "fig, axes = plt.subplots(nrows=1, ncols=3, sharex=True, sharey=False, figsize=(8,3))\n",
    "\n",
    "axes[0].plot(info_dict['trace_loss_list']);\n",
    "axes[0].set_title('loss');\n",
    "axes[1].plot(info_dict['trace_grad_list']);\n",
    "axes[1].set_title('grad');\n",
    "axes[2].plot(info_dict['trace_w_list']);\n",
    "axes[2].set_title('w');\n",
    "\n",
    "plt.xlim([0, 100])"
   ]
  },
  {
   "cell_type": "markdown",
   "metadata": {},
   "source": [
    "# Try with step_size = 0.02"
   ]
  },
  {
   "cell_type": "code",
   "execution_count": 61,
   "metadata": {},
   "outputs": [
    {
     "name": "stdout",
     "output_type": "stream",
     "text": [
      "  iter     0/100 | loss      584.0407 | w        0.00000\n",
      "  iter     1/100 | loss       89.9420 | w        5.68165\n",
      "  iter     2/100 | loss       15.6522 | w        3.47856\n",
      "  iter     3/100 | loss        4.4825 | w        4.33282\n",
      "  iter     4/100 | loss        2.8031 | w        4.00158\n",
      "  iter     5/100 | loss        2.5506 | w        4.13002\n",
      "  iter     6/100 | loss        2.5126 | w        4.08021\n",
      "  iter     7/100 | loss        2.5069 | w        4.09952\n",
      "  iter     8/100 | loss        2.5060 | w        4.09204\n",
      "  iter     9/100 | loss        2.5059 | w        4.09494\n",
      "  iter    10/100 | loss        2.5059 | w        4.09381\n",
      "  iter    11/100 | loss        2.5059 | w        4.09425\n",
      "  iter    12/100 | loss        2.5059 | w        4.09408\n",
      "  iter    13/100 | loss        2.5059 | w        4.09415\n",
      "  iter    14/100 | loss        2.5059 | w        4.09412\n",
      "  iter    15/100 | loss        2.5059 | w        4.09413\n",
      "  iter    16/100 | loss        2.5059 | w        4.09413\n",
      "  iter    17/100 | loss        2.5059 | w        4.09413\n",
      "  iter    18/100 | loss        2.5059 | w        4.09413\n",
      "  iter    19/100 | loss        2.5059 | w        4.09413\n",
      "  iter    20/100 | loss        2.5059 | w        4.09413\n",
      "  iter    21/100 | loss        2.5059 | w        4.09413\n",
      "  iter    22/100 | loss        2.5059 | w        4.09413\n",
      "  iter    23/100 | loss        2.5059 | w        4.09413\n",
      "  iter    24/100 | loss        2.5059 | w        4.09413\n",
      "  iter    25/100 | loss        2.5059 | w        4.09413\n",
      "  iter    26/100 | loss        2.5059 | w        4.09413\n",
      "  iter    27/100 | loss        2.5059 | w        4.09413\n",
      "  iter    28/100 | loss        2.5059 | w        4.09413\n",
      "  iter    29/100 | loss        2.5059 | w        4.09413\n",
      "  iter    30/100 | loss        2.5059 | w        4.09413\n",
      "  iter    31/100 | loss        2.5059 | w        4.09413\n",
      "  iter    32/100 | loss        2.5059 | w        4.09413\n",
      "  iter    33/100 | loss        2.5059 | w        4.09413\n",
      "  iter    34/100 | loss        2.5059 | w        4.09413\n",
      "  iter    35/100 | loss        2.5059 | w        4.09413\n",
      "  iter    36/100 | loss        2.5059 | w        4.09413\n",
      "  iter    37/100 | loss        2.5059 | w        4.09413\n",
      "  iter    38/100 | loss        2.5059 | w        4.09413\n",
      "  iter    39/100 | loss        2.5059 | w        4.09413\n",
      "  iter    40/100 | loss        2.5059 | w        4.09413\n",
      "  iter    41/100 | loss        2.5059 | w        4.09413\n",
      "  iter    42/100 | loss        2.5059 | w        4.09413\n",
      "  iter    43/100 | loss        2.5059 | w        4.09413\n",
      "  iter    44/100 | loss        2.5059 | w        4.09413\n",
      "  iter    45/100 | loss        2.5059 | w        4.09413\n",
      "  iter    46/100 | loss        2.5059 | w        4.09413\n",
      "  iter    47/100 | loss        2.5059 | w        4.09413\n",
      "  iter    48/100 | loss        2.5059 | w        4.09413\n",
      "  iter    49/100 | loss        2.5059 | w        4.09413\n",
      "  iter    50/100 | loss        2.5059 | w        4.09413\n",
      "  iter    51/100 | loss        2.5059 | w        4.09413\n",
      "  iter    52/100 | loss        2.5059 | w        4.09413\n",
      "  iter    53/100 | loss        2.5059 | w        4.09413\n",
      "  iter    54/100 | loss        2.5059 | w        4.09413\n",
      "  iter    55/100 | loss        2.5059 | w        4.09413\n",
      "  iter    56/100 | loss        2.5059 | w        4.09413\n",
      "  iter    57/100 | loss        2.5059 | w        4.09413\n",
      "  iter    58/100 | loss        2.5059 | w        4.09413\n",
      "  iter    59/100 | loss        2.5059 | w        4.09413\n",
      "  iter    60/100 | loss        2.5059 | w        4.09413\n",
      "  iter    61/100 | loss        2.5059 | w        4.09413\n",
      "  iter    62/100 | loss        2.5059 | w        4.09413\n",
      "  iter    63/100 | loss        2.5059 | w        4.09413\n",
      "  iter    64/100 | loss        2.5059 | w        4.09413\n",
      "  iter    65/100 | loss        2.5059 | w        4.09413\n",
      "  iter    66/100 | loss        2.5059 | w        4.09413\n",
      "  iter    67/100 | loss        2.5059 | w        4.09413\n",
      "  iter    68/100 | loss        2.5059 | w        4.09413\n",
      "  iter    69/100 | loss        2.5059 | w        4.09413\n",
      "  iter    70/100 | loss        2.5059 | w        4.09413\n",
      "  iter    71/100 | loss        2.5059 | w        4.09413\n",
      "  iter    72/100 | loss        2.5059 | w        4.09413\n",
      "  iter    73/100 | loss        2.5059 | w        4.09413\n",
      "  iter    74/100 | loss        2.5059 | w        4.09413\n",
      "  iter    75/100 | loss        2.5059 | w        4.09413\n",
      "  iter    76/100 | loss        2.5059 | w        4.09413\n",
      "  iter    77/100 | loss        2.5059 | w        4.09413\n",
      "  iter    78/100 | loss        2.5059 | w        4.09413\n",
      "  iter    79/100 | loss        2.5059 | w        4.09413\n",
      "  iter    80/100 | loss        2.5059 | w        4.09413\n",
      "  iter    81/100 | loss        2.5059 | w        4.09413\n",
      "  iter    82/100 | loss        2.5059 | w        4.09413\n",
      "  iter    83/100 | loss        2.5059 | w        4.09413\n",
      "  iter    84/100 | loss        2.5059 | w        4.09413\n",
      "  iter    85/100 | loss        2.5059 | w        4.09413\n",
      "  iter    86/100 | loss        2.5059 | w        4.09413\n",
      "  iter    87/100 | loss        2.5059 | w        4.09413\n",
      "  iter    88/100 | loss        2.5059 | w        4.09413\n",
      "  iter    89/100 | loss        2.5059 | w        4.09413\n",
      "  iter    90/100 | loss        2.5059 | w        4.09413\n",
      "  iter    91/100 | loss        2.5059 | w        4.09413\n",
      "  iter    92/100 | loss        2.5059 | w        4.09413\n",
      "  iter    93/100 | loss        2.5059 | w        4.09413\n",
      "  iter    94/100 | loss        2.5059 | w        4.09413\n",
      "  iter    95/100 | loss        2.5059 | w        4.09413\n",
      "  iter    96/100 | loss        2.5059 | w        4.09413\n",
      "  iter    97/100 | loss        2.5059 | w        4.09413\n",
      "  iter    98/100 | loss        2.5059 | w        4.09413\n",
      "  iter    99/100 | loss        2.5059 | w        4.09413\n"
     ]
    }
   ],
   "source": [
    "wopt, info_dict = minimize_via_grad_descent(calc_loss, calc_grad, step_size=0.02);"
   ]
  },
  {
   "cell_type": "code",
   "execution_count": 64,
   "metadata": {},
   "outputs": [
    {
     "data": {
      "image/png": "[encoded data removed]",
      "text/plain": [
       "<Figure size 864x216 with 3 Axes>"
      ]
     },
     "metadata": {
      "needs_background": "light"
     },
     "output_type": "display_data"
    }
   ],
   "source": [
    "fig, axes = plt.subplots(nrows=1, ncols=3, sharex=True, sharey=False, figsize=(12,3))\n",
    "\n",
    "axes[0].plot(info_dict['trace_loss_list'], '.-');\n",
    "axes[0].set_title('loss');\n",
    "axes[1].plot(info_dict['trace_grad_list'], '.-');\n",
    "axes[1].set_title('grad');\n",
    "axes[2].plot(info_dict['trace_w_list'], '.-');\n",
    "axes[2].set_title('w');\n",
    "\n",
    "plt.xlim([0, 30]);"
   ]
  },
  {
   "cell_type": "code",
   "execution_count": null,
   "metadata": {},
   "outputs": [],
   "source": []
  },
  {
   "cell_type": "code",
   "execution_count": null,
   "metadata": {},
   "outputs": [],
   "source": []
  }
 ],
 "metadata": {
  "kernelspec": {
   "display_name": "Python 3",
   "language": "python",
   "name": "python3"
  },
  "language_info": {
   "codemirror_mode": {
    "name": "ipython",
    "version": 3
   },
   "file_extension": ".py",
   "mimetype": "text/x-python",
   "name": "python",
   "nbconvert_exporter": "python",
   "pygments_lexer": "ipython3",
   "version": "3.6.8"
  }
 },
 "nbformat": 4,
 "nbformat_minor": 2
}
