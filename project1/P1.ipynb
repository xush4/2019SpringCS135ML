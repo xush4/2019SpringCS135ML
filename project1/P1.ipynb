{
 "cells": [
  {
   "cell_type": "markdown",
   "metadata": {},
   "source": [
    "Sheng Xu "
   ]
  },
  {
   "cell_type": "code",
   "execution_count": 1,
   "metadata": {},
   "outputs": [],
   "source": [
    "from LRGradientDescent import LogisticRegressionGradientDescent as LRGD\n",
    "import numpy as np\n",
    "from scipy.special import logsumexp\n",
    "from scipy.special import expit as sigm #sigmoid function\n",
    "\n",
    "import os\n",
    "import numpy as np\n",
    "import pandas as pd\n",
    "from matplotlib import pyplot as plt\n",
    "import seaborn as sns"
   ]
  },
  {
   "cell_type": "code",
   "execution_count": 2,
   "metadata": {},
   "outputs": [],
   "source": [
    "## Toy problem \n",
    "    #\n",
    "    # Logistic regression should be able to perfectly predict all 10 examples\n",
    "    # five examples have x values within (-2, -1) and are labeled 0\n",
    "    # five examples have x values within (+1, +2) and are labeled 1\n",
    "    N = 10\n",
    "    x_NF = np.hstack([np.linspace(-2, -1, 5), np.linspace(1,2, 5)])[:,np.newaxis]\n",
    "    y_N = np.hstack([np.zeros(5), 1.0 * np.ones(5)])\n",
    "\n",
    "    lr = LRGD(\n",
    "        alpha=0.1, step_size=0.1, init_w_recipe='zeros')\n",
    "\n",
    "    # Prepare features by inserting column of all 1\n",
    "    xbias_NG = lr.insert_final_col_of_all_ones(x_NF)"
   ]
  },
  {
   "cell_type": "markdown",
   "metadata": {},
   "source": [
    "## 1a"
   ]
  },
  {
   "cell_type": "code",
   "execution_count": 3,
   "metadata": {},
   "outputs": [],
   "source": [
    "    loss=[]; grad=[];\n",
    "    arr=np.linspace(-2, 12, 141)\n",
    "    for i in arr:\n",
    "        w=np.array([i,0])\n",
    "        loss.append(lr.calc_loss(w, xbias_NG, y_N))\n",
    "        grad.append(lr.calc_grad(w, xbias_NG, y_N)[0])\n",
    "    #print (loss, grad)\n",
    "    id_min_cost=np.argmin(loss)"
   ]
  },
  {
   "cell_type": "code",
   "execution_count": 4,
   "metadata": {},
   "outputs": [
    {
     "data": {
      "image/png": "[encoded data removed]",
      "text/plain": [
       "<Figure size 432x288 with 1 Axes>"
      ]
     },
     "metadata": {
      "needs_background": "light"
     },
     "output_type": "display_data"
    },
    {
     "data": {
      "image/png": "[encoded data removed]",
      "text/plain": [
       "<Figure size 432x288 with 1 Axes>"
      ]
     },
     "metadata": {
      "needs_background": "light"
     },
     "output_type": "display_data"
    }
   ],
   "source": [
    "plt.plot(arr, loss, label='Loss')\n",
    "plt.xlabel('w1');\n",
    "plt.ylabel('loss');\n",
    "plt.legend();\n",
    "plt.show();\n",
    "\n",
    "plt.plot(arr, grad, label='Grad of w1')\n",
    "plt.xlabel('w1');\n",
    "plt.ylabel('Grad1');\n",
    "plt.legend();\n",
    "plt.show();"
   ]
  },
  {
   "cell_type": "markdown",
   "metadata": {},
   "source": [
    "Yes.  \n",
    "For loss:  \n",
    "We know that when w1 is less than 0, the loss is big because the value of log_loss is big, because $w*x$ is negative, which leads to wrong classification.  \n",
    "On the other hand, when w1 is positive, the loss is bigger because the l2_penalty goes bigger as w1 is bigger.  \n",
    "  \n",
    "For Gradient:   \n",
    "From the information of loss, we know: the partial derivative of w1 is negative when $w1<0$, it will reach 0 somewhere positive. Then, it goes positive when w1 grows bigger.\n",
    "\n",
    "The minimum is somewhere between 2 and 3, close to 3.   \n",
    "Here, my estimation is 2.8. (See below)"
   ]
  },
  {
   "cell_type": "code",
   "execution_count": 5,
   "metadata": {},
   "outputs": [
    {
     "name": "stdout",
     "output_type": "stream",
     "text": [
      "best w1 for LR with 1 feature and 0 bias: 2.800\n"
     ]
    }
   ],
   "source": [
    "print(\"best w1 for LR with 1 feature and 0 bias: %.3f\" % arr[id_min_cost]) "
   ]
  },
  {
   "cell_type": "code",
   "execution_count": 6,
   "metadata": {},
   "outputs": [
    {
     "name": "stdout",
     "output_type": "stream",
     "text": [
      "Initializing w_G with 2 features using recipe: zeros\n",
      "Running up to 10000 iters of gradient descent with step_size 0.1\n",
      "iter    0/10000  loss         1.000000  avg_L1_norm_grad         0.541011  w[0]    0.000 bias    0.000\n",
      "iter    1/10000  loss         0.888015  avg_L1_norm_grad         0.494016  w[0]    0.108 bias    0.000\n",
      "iter    2/10000  loss         0.794586  avg_L1_norm_grad         0.451748  w[0]    0.207 bias    0.000\n",
      "iter    3/10000  loss         0.716373  avg_L1_norm_grad         0.414112  w[0]    0.297 bias    0.000\n",
      "iter    4/10000  loss         0.650555  avg_L1_norm_grad         0.380787  w[0]    0.380 bias    0.000\n",
      "iter    5/10000  loss         0.594813  avg_L1_norm_grad         0.351344  w[0]    0.456 bias    0.000\n",
      "iter    6/10000  loss         0.547278  avg_L1_norm_grad         0.325330  w[0]    0.527 bias    0.000\n",
      "iter    7/10000  loss         0.506451  avg_L1_norm_grad         0.302308  w[0]    0.592 bias    0.000\n",
      "iter    8/10000  loss         0.471140  avg_L1_norm_grad         0.281878  w[0]    0.652 bias    0.000\n",
      "iter    9/10000  loss         0.440391  avg_L1_norm_grad         0.263689  w[0]    0.709 bias    0.000\n",
      "iter   10/10000  loss         0.413442  avg_L1_norm_grad         0.247434  w[0]    0.761 bias    0.000\n",
      "iter   11/10000  loss         0.389680  avg_L1_norm_grad         0.232854  w[0]    0.811 bias    0.000\n",
      "iter   12/10000  loss         0.368607  avg_L1_norm_grad         0.219725  w[0]    0.857 bias    0.000\n",
      "iter   13/10000  loss         0.349821  avg_L1_norm_grad         0.207858  w[0]    0.901 bias    0.000\n",
      "iter   14/10000  loss         0.332989  avg_L1_norm_grad         0.197091  w[0]    0.943 bias    0.000\n",
      "iter   15/10000  loss         0.317840  avg_L1_norm_grad         0.187288  w[0]    0.982 bias    0.000\n",
      "iter   16/10000  loss         0.304147  avg_L1_norm_grad         0.178332  w[0]    1.020 bias    0.000\n",
      "iter   17/10000  loss         0.291721  avg_L1_norm_grad         0.170123  w[0]    1.055 bias    0.000\n",
      "iter   18/10000  loss         0.280403  avg_L1_norm_grad         0.162576  w[0]    1.089 bias    0.000\n",
      "iter   19/10000  loss         0.270058  avg_L1_norm_grad         0.155616  w[0]    1.122 bias    0.000\n",
      "iter   20/10000  loss         0.260573  avg_L1_norm_grad         0.149181  w[0]    1.153 bias    0.000\n",
      "iter   21/10000  loss         0.251850  avg_L1_norm_grad         0.143215  w[0]    1.183 bias    0.000\n",
      "iter   40/10000  loss         0.163298  avg_L1_norm_grad         0.079150  w[0]    1.590 bias    0.000\n",
      "iter   41/10000  loss         0.160822  avg_L1_norm_grad         0.077224  w[0]    1.606 bias    0.000\n",
      "iter   60/10000  loss         0.129845  avg_L1_norm_grad         0.051851  w[0]    1.848 bias    0.000\n",
      "iter   61/10000  loss         0.128779  avg_L1_norm_grad         0.050919  w[0]    1.859 bias    0.000\n",
      "iter   80/10000  loss         0.114108  avg_L1_norm_grad         0.037388  w[0]    2.026 bias    0.000\n",
      "iter   81/10000  loss         0.113553  avg_L1_norm_grad         0.036842  w[0]    2.033 bias    0.000\n",
      "iter  100/10000  loss         0.105491  avg_L1_norm_grad         0.028455  w[0]    2.157 bias    0.000\n",
      "iter  101/10000  loss         0.105170  avg_L1_norm_grad         0.028098  w[0]    2.163 bias    0.000\n",
      "iter  120/10000  loss         0.100334  avg_L1_norm_grad         0.022412  w[0]    2.259 bias    0.000\n",
      "iter  121/10000  loss         0.100134  avg_L1_norm_grad         0.022161  w[0]    2.263 bias    0.000\n",
      "iter  140/10000  loss         0.097062  avg_L1_norm_grad         0.018071  w[0]    2.340 bias    0.000\n",
      "iter  141/10000  loss         0.096932  avg_L1_norm_grad         0.017887  w[0]    2.343 bias    0.000\n",
      "iter  160/10000  loss         0.094900  avg_L1_norm_grad         0.014821  w[0]    2.405 bias    0.000\n",
      "iter  161/10000  loss         0.094812  avg_L1_norm_grad         0.014680  w[0]    2.408 bias    0.000\n",
      "iter  180/10000  loss         0.093428  avg_L1_norm_grad         0.012310  w[0]    2.460 bias    0.000\n",
      "iter  181/10000  loss         0.093367  avg_L1_norm_grad         0.012200  w[0]    2.462 bias    0.000\n",
      "iter  200/10000  loss         0.092402  avg_L1_norm_grad         0.010325  w[0]    2.505 bias    0.000\n",
      "iter  201/10000  loss         0.092360  avg_L1_norm_grad         0.010237  w[0]    2.507 bias    0.000\n",
      "iter  220/10000  loss         0.091676  avg_L1_norm_grad         0.008728  w[0]    2.543 bias   -0.000\n",
      "iter  221/10000  loss         0.091646  avg_L1_norm_grad         0.008656  w[0]    2.545 bias   -0.000\n",
      "iter  240/10000  loss         0.091154  avg_L1_norm_grad         0.007423  w[0]    2.576 bias    0.000\n",
      "iter  241/10000  loss         0.091132  avg_L1_norm_grad         0.007365  w[0]    2.577 bias    0.000\n",
      "iter  260/10000  loss         0.090774  avg_L1_norm_grad         0.006346  w[0]    2.603 bias    0.000\n",
      "iter  261/10000  loss         0.090758  avg_L1_norm_grad         0.006297  w[0]    2.604 bias    0.000\n",
      "iter  280/10000  loss         0.090496  avg_L1_norm_grad         0.005447  w[0]    2.627 bias    0.000\n",
      "iter  281/10000  loss         0.090484  avg_L1_norm_grad         0.005407  w[0]    2.628 bias    0.000\n",
      "iter  300/10000  loss         0.090290  avg_L1_norm_grad         0.004692  w[0]    2.647 bias    0.000\n",
      "iter  301/10000  loss         0.090281  avg_L1_norm_grad         0.004658  w[0]    2.648 bias    0.000\n",
      "iter  320/10000  loss         0.090136  avg_L1_norm_grad         0.004054  w[0]    2.665 bias    0.000\n",
      "iter  321/10000  loss         0.090130  avg_L1_norm_grad         0.004024  w[0]    2.665 bias    0.000\n",
      "iter  340/10000  loss         0.090022  avg_L1_norm_grad         0.003511  w[0]    2.680 bias    0.000\n",
      "iter  341/10000  loss         0.090017  avg_L1_norm_grad         0.003486  w[0]    2.680 bias    0.000\n",
      "iter  360/10000  loss         0.089936  avg_L1_norm_grad         0.003047  w[0]    2.693 bias    0.000\n",
      "iter  361/10000  loss         0.089932  avg_L1_norm_grad         0.003025  w[0]    2.694 bias    0.000\n",
      "iter  380/10000  loss         0.089871  avg_L1_norm_grad         0.002649  w[0]    2.704 bias    0.000\n",
      "iter  381/10000  loss         0.089868  avg_L1_norm_grad         0.002630  w[0]    2.705 bias    0.000\n",
      "iter  400/10000  loss         0.089822  avg_L1_norm_grad         0.002306  w[0]    2.714 bias    0.000\n",
      "iter  401/10000  loss         0.089819  avg_L1_norm_grad         0.002290  w[0]    2.715 bias    0.000\n",
      "iter  420/10000  loss         0.089784  avg_L1_norm_grad         0.002010  w[0]    2.723 bias    0.000\n",
      "iter  421/10000  loss         0.089783  avg_L1_norm_grad         0.001997  w[0]    2.723 bias    0.000\n",
      "iter  440/10000  loss         0.089756  avg_L1_norm_grad         0.001755  w[0]    2.730 bias    0.000\n",
      "iter  441/10000  loss         0.089755  avg_L1_norm_grad         0.001743  w[0]    2.731 bias    0.000\n",
      "iter  460/10000  loss         0.089734  avg_L1_norm_grad         0.001533  w[0]    2.737 bias    0.000\n",
      "iter  461/10000  loss         0.089733  avg_L1_norm_grad         0.001523  w[0]    2.737 bias    0.000\n",
      "iter  480/10000  loss         0.089718  avg_L1_norm_grad         0.001340  w[0]    2.743 bias    0.000\n",
      "iter  481/10000  loss         0.089717  avg_L1_norm_grad         0.001331  w[0]    2.743 bias    0.000\n",
      "iter  500/10000  loss         0.089705  avg_L1_norm_grad         0.001173  w[0]    2.748 bias    0.000\n",
      "iter  501/10000  loss         0.089704  avg_L1_norm_grad         0.001165  w[0]    2.748 bias    0.000\n",
      "iter  520/10000  loss         0.089695  avg_L1_norm_grad         0.001027  w[0]    2.752 bias    0.000\n",
      "iter  521/10000  loss         0.089695  avg_L1_norm_grad         0.001020  w[0]    2.752 bias    0.000\n",
      "iter  540/10000  loss         0.089688  avg_L1_norm_grad         0.000900  w[0]    2.756 bias    0.000\n",
      "iter  541/10000  loss         0.089688  avg_L1_norm_grad         0.000894  w[0]    2.756 bias    0.000\n",
      "iter  560/10000  loss         0.089682  avg_L1_norm_grad         0.000788  w[0]    2.759 bias    0.000\n",
      "iter  561/10000  loss         0.089682  avg_L1_norm_grad         0.000783  w[0]    2.760 bias    0.000\n",
      "iter  580/10000  loss         0.089678  avg_L1_norm_grad         0.000691  w[0]    2.762 bias    0.000\n",
      "iter  581/10000  loss         0.089678  avg_L1_norm_grad         0.000687  w[0]    2.763 bias    0.000\n",
      "iter  600/10000  loss         0.089674  avg_L1_norm_grad         0.000606  w[0]    2.765 bias    0.000\n",
      "iter  601/10000  loss         0.089674  avg_L1_norm_grad         0.000602  w[0]    2.765 bias    0.000\n",
      "iter  620/10000  loss         0.089672  avg_L1_norm_grad         0.000532  w[0]    2.767 bias    0.000\n",
      "iter  621/10000  loss         0.089672  avg_L1_norm_grad         0.000529  w[0]    2.767 bias    0.000\n",
      "iter  640/10000  loss         0.089670  avg_L1_norm_grad         0.000467  w[0]    2.769 bias    0.000\n",
      "iter  641/10000  loss         0.089670  avg_L1_norm_grad         0.000464  w[0]    2.769 bias    0.000\n",
      "iter  660/10000  loss         0.089668  avg_L1_norm_grad         0.000410  w[0]    2.771 bias    0.000\n",
      "iter  661/10000  loss         0.089668  avg_L1_norm_grad         0.000407  w[0]    2.771 bias    0.000\n",
      "iter  680/10000  loss         0.089667  avg_L1_norm_grad         0.000360  w[0]    2.773 bias    0.000\n",
      "iter  681/10000  loss         0.089667  avg_L1_norm_grad         0.000358  w[0]    2.773 bias    0.000\n",
      "iter  700/10000  loss         0.089666  avg_L1_norm_grad         0.000316  w[0]    2.774 bias    0.000\n",
      "iter  701/10000  loss         0.089666  avg_L1_norm_grad         0.000314  w[0]    2.774 bias    0.000\n",
      "iter  720/10000  loss         0.089665  avg_L1_norm_grad         0.000278  w[0]    2.775 bias    0.000\n",
      "iter  721/10000  loss         0.089665  avg_L1_norm_grad         0.000276  w[0]    2.775 bias    0.000\n",
      "iter  740/10000  loss         0.089665  avg_L1_norm_grad         0.000244  w[0]    2.776 bias    0.000\n",
      "iter  741/10000  loss         0.089665  avg_L1_norm_grad         0.000242  w[0]    2.776 bias    0.000\n",
      "iter  760/10000  loss         0.089664  avg_L1_norm_grad         0.000214  w[0]    2.777 bias    0.000\n",
      "iter  761/10000  loss         0.089664  avg_L1_norm_grad         0.000213  w[0]    2.777 bias    0.000\n",
      "iter  780/10000  loss         0.089664  avg_L1_norm_grad         0.000188  w[0]    2.778 bias    0.000\n",
      "iter  781/10000  loss         0.089664  avg_L1_norm_grad         0.000187  w[0]    2.778 bias    0.000\n",
      "iter  800/10000  loss         0.089664  avg_L1_norm_grad         0.000166  w[0]    2.779 bias    0.000\n",
      "iter  801/10000  loss         0.089664  avg_L1_norm_grad         0.000164  w[0]    2.779 bias    0.000\n",
      "iter  820/10000  loss         0.089664  avg_L1_norm_grad         0.000145  w[0]    2.779 bias    0.000\n",
      "iter  821/10000  loss         0.089664  avg_L1_norm_grad         0.000145  w[0]    2.779 bias    0.000\n",
      "iter  840/10000  loss         0.089664  avg_L1_norm_grad         0.000128  w[0]    2.780 bias    0.000\n",
      "iter  841/10000  loss         0.089664  avg_L1_norm_grad         0.000127  w[0]    2.780 bias    0.000\n",
      "iter  860/10000  loss         0.089663  avg_L1_norm_grad         0.000112  w[0]    2.780 bias    0.000\n",
      "iter  861/10000  loss         0.089663  avg_L1_norm_grad         0.000112  w[0]    2.780 bias    0.000\n",
      "iter  880/10000  loss         0.089663  avg_L1_norm_grad         0.000099  w[0]    2.781 bias    0.000\n",
      "iter  881/10000  loss         0.089663  avg_L1_norm_grad         0.000098  w[0]    2.781 bias    0.000\n",
      "iter  900/10000  loss         0.089663  avg_L1_norm_grad         0.000087  w[0]    2.781 bias    0.000\n",
      "iter  901/10000  loss         0.089663  avg_L1_norm_grad         0.000086  w[0]    2.781 bias    0.000\n"
     ]
    },
    {
     "name": "stdout",
     "output_type": "stream",
     "text": [
      "iter  920/10000  loss         0.089663  avg_L1_norm_grad         0.000076  w[0]    2.781 bias    0.000\n",
      "iter  921/10000  loss         0.089663  avg_L1_norm_grad         0.000076  w[0]    2.781 bias    0.000\n",
      "iter  940/10000  loss         0.089663  avg_L1_norm_grad         0.000067  w[0]    2.782 bias    0.000\n",
      "iter  941/10000  loss         0.089663  avg_L1_norm_grad         0.000067  w[0]    2.782 bias    0.000\n",
      "iter  960/10000  loss         0.089663  avg_L1_norm_grad         0.000059  w[0]    2.782 bias    0.000\n",
      "iter  961/10000  loss         0.089663  avg_L1_norm_grad         0.000059  w[0]    2.782 bias    0.000\n",
      "iter  980/10000  loss         0.089663  avg_L1_norm_grad         0.000052  w[0]    2.782 bias    0.000\n",
      "iter  981/10000  loss         0.089663  avg_L1_norm_grad         0.000052  w[0]    2.782 bias    0.000\n",
      "iter 1000/10000  loss         0.089663  avg_L1_norm_grad         0.000046  w[0]    2.782 bias    0.000\n",
      "iter 1001/10000  loss         0.089663  avg_L1_norm_grad         0.000045  w[0]    2.782 bias    0.000\n",
      "iter 1020/10000  loss         0.089663  avg_L1_norm_grad         0.000040  w[0]    2.783 bias    0.000\n",
      "iter 1021/10000  loss         0.089663  avg_L1_norm_grad         0.000040  w[0]    2.783 bias    0.000\n",
      "Done. Converged after 1037 iterations.\n"
     ]
    }
   ],
   "source": [
    "lr.fit(x_NF, y_N)"
   ]
  },
  {
   "cell_type": "markdown",
   "metadata": {},
   "source": [
    "## 1b"
   ]
  },
  {
   "cell_type": "code",
   "execution_count": 7,
   "metadata": {},
   "outputs": [
    {
     "name": "stdout",
     "output_type": "stream",
     "text": [
      " Result for LR with 1 feature and 0 bias:  [2.78265835e+00 1.02172570e-17]\n"
     ]
    }
   ],
   "source": [
    "print(\" Result for LR with 1 feature and 0 bias: \", lr.trace_w[-1])"
   ]
  },
  {
   "cell_type": "code",
   "execution_count": 8,
   "metadata": {},
   "outputs": [],
   "source": [
    "matrix=np.matrix(lr.trace_w).T\n",
    "w1=np.asarray(matrix[0])[-1]\n",
    "w2=np.asarray(matrix[1])[-1]\n",
    "idx=np.linspace(0, w1.size-1,w1.size)"
   ]
  },
  {
   "cell_type": "code",
   "execution_count": 9,
   "metadata": {},
   "outputs": [
    {
     "data": {
      "image/png": "[encoded data removed]",
      "text/plain": [
       "<Figure size 432x288 with 1 Axes>"
      ]
     },
     "metadata": {
      "needs_background": "light"
     },
     "output_type": "display_data"
    },
    {
     "data": {
      "image/png": "[encoded data removed]",
      "text/plain": [
       "<Figure size 432x288 with 1 Axes>"
      ]
     },
     "metadata": {
      "needs_background": "light"
     },
     "output_type": "display_data"
    }
   ],
   "source": [
    "## Draw Picture\n",
    "plt.plot(idx, w1, label='Trend of w1')\n",
    "plt.xlabel('id');\n",
    "plt.ylabel('w1');\n",
    "plt.legend();\n",
    "plt.show();\n",
    "\n",
    "plt.plot(idx, w2, label='Trend of w2')\n",
    "plt.xlabel('id');\n",
    "plt.ylabel('w2');\n",
    "plt.ylim([0.0, 1.0]);\n",
    "plt.legend();\n",
    "plt.show();"
   ]
  },
  {
   "cell_type": "markdown",
   "metadata": {},
   "source": [
    "Yes.  \n",
    "w1 approaches 2.78. The converging speed is fast at first, then becomes really slow before w1 reaches the final result.   \n",
    "w2 stays at nearly 0 because it should be 0 from the symetricity of the question."
   ]
  },
  {
   "cell_type": "markdown",
   "metadata": {},
   "source": [
    "## 1c"
   ]
  },
  {
   "cell_type": "code",
   "execution_count": 10,
   "metadata": {},
   "outputs": [
    {
     "name": "stdout",
     "output_type": "stream",
     "text": [
      "Initializing w_G with 2 features using recipe: uniform_-1_to_1\n",
      "Running up to 10000 iters of gradient descent with step_size 0.1\n",
      "iter    0/10000  loss         0.932814  avg_L1_norm_grad         0.579579  w[0]    0.098 bias    0.430\n",
      "iter    1/10000  loss         0.834339  avg_L1_norm_grad         0.534178  w[0]    0.198 bias    0.415\n",
      "iter    2/10000  loss         0.751280  avg_L1_norm_grad         0.492499  w[0]    0.290 bias    0.400\n",
      "iter    3/10000  loss         0.681012  avg_L1_norm_grad         0.454653  w[0]    0.374 bias    0.385\n",
      "iter    4/10000  loss         0.621302  avg_L1_norm_grad         0.420533  w[0]    0.452 bias    0.372\n",
      "iter    5/10000  loss         0.570293  avg_L1_norm_grad         0.389904  w[0]    0.523 bias    0.360\n",
      "iter    6/10000  loss         0.526460  avg_L1_norm_grad         0.362461  w[0]    0.590 bias    0.348\n",
      "iter    7/10000  loss         0.488565  avg_L1_norm_grad         0.337881  w[0]    0.651 bias    0.337\n",
      "iter    8/10000  loss         0.455603  avg_L1_norm_grad         0.315844  w[0]    0.709 bias    0.327\n",
      "iter    9/10000  loss         0.426759  avg_L1_norm_grad         0.296053  w[0]    0.763 bias    0.318\n",
      "iter   10/10000  loss         0.401373  avg_L1_norm_grad         0.278237  w[0]    0.813 bias    0.309\n",
      "iter   11/10000  loss         0.378908  avg_L1_norm_grad         0.262155  w[0]    0.860 bias    0.301\n",
      "iter   12/10000  loss         0.358924  avg_L1_norm_grad         0.247598  w[0]    0.905 bias    0.293\n",
      "iter   13/10000  loss         0.341060  avg_L1_norm_grad         0.234382  w[0]    0.947 bias    0.286\n",
      "iter   14/10000  loss         0.325017  avg_L1_norm_grad         0.222346  w[0]    0.987 bias    0.279\n",
      "iter   15/10000  loss         0.310549  avg_L1_norm_grad         0.211354  w[0]    1.025 bias    0.272\n",
      "iter   16/10000  loss         0.297447  avg_L1_norm_grad         0.201284  w[0]    1.061 bias    0.266\n",
      "iter   17/10000  loss         0.285539  avg_L1_norm_grad         0.192034  w[0]    1.096 bias    0.260\n",
      "iter   18/10000  loss         0.274677  avg_L1_norm_grad         0.183514  w[0]    1.129 bias    0.255\n",
      "iter   19/10000  loss         0.264737  avg_L1_norm_grad         0.175645  w[0]    1.160 bias    0.250\n",
      "iter   20/10000  loss         0.255613  avg_L1_norm_grad         0.168360  w[0]    1.190 bias    0.245\n",
      "iter   21/10000  loss         0.247213  avg_L1_norm_grad         0.161599  w[0]    1.219 bias    0.240\n",
      "iter   40/10000  loss         0.161527  avg_L1_norm_grad         0.088812  w[0]    1.615 bias    0.177\n",
      "iter   41/10000  loss         0.159122  avg_L1_norm_grad         0.086627  w[0]    1.630 bias    0.175\n",
      "iter   60/10000  loss         0.128971  avg_L1_norm_grad         0.057927  w[0]    1.867 bias    0.140\n",
      "iter   61/10000  loss         0.127932  avg_L1_norm_grad         0.056877  w[0]    1.877 bias    0.138\n",
      "iter   80/10000  loss         0.113617  avg_L1_norm_grad         0.041677  w[0]    2.040 bias    0.115\n",
      "iter   81/10000  loss         0.113075  avg_L1_norm_grad         0.041066  w[0]    2.048 bias    0.114\n",
      "iter  100/10000  loss         0.105196  avg_L1_norm_grad         0.031698  w[0]    2.169 bias    0.098\n",
      "iter  101/10000  loss         0.104881  avg_L1_norm_grad         0.031300  w[0]    2.175 bias    0.097\n",
      "iter  120/10000  loss         0.100149  avg_L1_norm_grad         0.024975  w[0]    2.269 bias    0.084\n",
      "iter  121/10000  loss         0.099953  avg_L1_norm_grad         0.024696  w[0]    2.273 bias    0.083\n",
      "iter  140/10000  loss         0.096943  avg_L1_norm_grad         0.020160  w[0]    2.348 bias    0.073\n",
      "iter  141/10000  loss         0.096816  avg_L1_norm_grad         0.019956  w[0]    2.351 bias    0.073\n",
      "iter  160/10000  loss         0.094822  avg_L1_norm_grad         0.016562  w[0]    2.413 bias    0.064\n",
      "iter  161/10000  loss         0.094737  avg_L1_norm_grad         0.016406  w[0]    2.415 bias    0.064\n",
      "iter  180/10000  loss         0.093377  avg_L1_norm_grad         0.013786  w[0]    2.466 bias    0.057\n",
      "iter  181/10000  loss         0.093318  avg_L1_norm_grad         0.013664  w[0]    2.468 bias    0.057\n",
      "iter  200/10000  loss         0.092370  avg_L1_norm_grad         0.011593  w[0]    2.510 bias    0.051\n",
      "iter  201/10000  loss         0.092328  avg_L1_norm_grad         0.011496  w[0]    2.512 bias    0.050\n",
      "iter  220/10000  loss         0.091655  avg_L1_norm_grad         0.009828  w[0]    2.548 bias    0.045\n",
      "iter  221/10000  loss         0.091625  avg_L1_norm_grad         0.009749  w[0]    2.549 bias    0.045\n",
      "iter  240/10000  loss         0.091141  avg_L1_norm_grad         0.008386  w[0]    2.579 bias    0.040\n",
      "iter  241/10000  loss         0.091119  avg_L1_norm_grad         0.008321  w[0]    2.581 bias    0.040\n",
      "iter  260/10000  loss         0.090766  avg_L1_norm_grad         0.007194  w[0]    2.607 bias    0.036\n",
      "iter  261/10000  loss         0.090750  avg_L1_norm_grad         0.007140  w[0]    2.608 bias    0.036\n",
      "iter  280/10000  loss         0.090491  avg_L1_norm_grad         0.006199  w[0]    2.630 bias    0.033\n",
      "iter  281/10000  loss         0.090480  avg_L1_norm_grad         0.006153  w[0]    2.631 bias    0.032\n",
      "iter  300/10000  loss         0.090288  avg_L1_norm_grad         0.005361  w[0]    2.650 bias    0.029\n",
      "iter  301/10000  loss         0.090279  avg_L1_norm_grad         0.005323  w[0]    2.651 bias    0.029\n",
      "iter  320/10000  loss         0.090136  avg_L1_norm_grad         0.004651  w[0]    2.667 bias    0.027\n",
      "iter  321/10000  loss         0.090130  avg_L1_norm_grad         0.004618  w[0]    2.668 bias    0.026\n",
      "iter  340/10000  loss         0.090022  avg_L1_norm_grad         0.004046  w[0]    2.682 bias    0.024\n",
      "iter  341/10000  loss         0.090017  avg_L1_norm_grad         0.004018  w[0]    2.682 bias    0.024\n",
      "iter  360/10000  loss         0.089937  avg_L1_norm_grad         0.003527  w[0]    2.695 bias    0.022\n",
      "iter  361/10000  loss         0.089933  avg_L1_norm_grad         0.003503  w[0]    2.695 bias    0.022\n",
      "iter  380/10000  loss         0.089872  avg_L1_norm_grad         0.003081  w[0]    2.706 bias    0.020\n",
      "iter  381/10000  loss         0.089869  avg_L1_norm_grad         0.003061  w[0]    2.706 bias    0.020\n",
      "iter  400/10000  loss         0.089823  avg_L1_norm_grad         0.002697  w[0]    2.716 bias    0.018\n",
      "iter  401/10000  loss         0.089821  avg_L1_norm_grad         0.002679  w[0]    2.716 bias    0.018\n",
      "iter  420/10000  loss         0.089786  avg_L1_norm_grad         0.002363  w[0]    2.724 bias    0.016\n",
      "iter  421/10000  loss         0.089784  avg_L1_norm_grad         0.002348  w[0]    2.724 bias    0.016\n",
      "iter  440/10000  loss         0.089757  avg_L1_norm_grad         0.002074  w[0]    2.731 bias    0.015\n",
      "iter  441/10000  loss         0.089756  avg_L1_norm_grad         0.002061  w[0]    2.732 bias    0.015\n",
      "iter  460/10000  loss         0.089736  avg_L1_norm_grad         0.001823  w[0]    2.738 bias    0.013\n",
      "iter  461/10000  loss         0.089735  avg_L1_norm_grad         0.001811  w[0]    2.738 bias    0.013\n",
      "iter  480/10000  loss         0.089719  avg_L1_norm_grad         0.001603  w[0]    2.744 bias    0.012\n",
      "iter  481/10000  loss         0.089718  avg_L1_norm_grad         0.001593  w[0]    2.744 bias    0.012\n",
      "iter  500/10000  loss         0.089706  avg_L1_norm_grad         0.001411  w[0]    2.749 bias    0.011\n",
      "iter  501/10000  loss         0.089706  avg_L1_norm_grad         0.001402  w[0]    2.749 bias    0.011\n",
      "iter  520/10000  loss         0.089696  avg_L1_norm_grad         0.001244  w[0]    2.753 bias    0.010\n",
      "iter  521/10000  loss         0.089696  avg_L1_norm_grad         0.001236  w[0]    2.753 bias    0.010\n",
      "iter  540/10000  loss         0.089689  avg_L1_norm_grad         0.001097  w[0]    2.757 bias    0.009\n",
      "iter  541/10000  loss         0.089689  avg_L1_norm_grad         0.001090  w[0]    2.757 bias    0.009\n",
      "iter  560/10000  loss         0.089683  avg_L1_norm_grad         0.000968  w[0]    2.760 bias    0.008\n",
      "iter  561/10000  loss         0.089683  avg_L1_norm_grad         0.000962  w[0]    2.760 bias    0.008\n",
      "iter  580/10000  loss         0.089679  avg_L1_norm_grad         0.000855  w[0]    2.763 bias    0.008\n",
      "iter  581/10000  loss         0.089678  avg_L1_norm_grad         0.000849  w[0]    2.763 bias    0.008\n",
      "iter  600/10000  loss         0.089675  avg_L1_norm_grad         0.000755  w[0]    2.765 bias    0.007\n"
     ]
    },
    {
     "name": "stdout",
     "output_type": "stream",
     "text": [
      "iter  601/10000  loss         0.089675  avg_L1_norm_grad         0.000750  w[0]    2.766 bias    0.007\n",
      "iter  620/10000  loss         0.089672  avg_L1_norm_grad         0.000668  w[0]    2.768 bias    0.006\n",
      "iter  621/10000  loss         0.089672  avg_L1_norm_grad         0.000663  w[0]    2.768 bias    0.006\n",
      "iter  640/10000  loss         0.089670  avg_L1_norm_grad         0.000590  w[0]    2.770 bias    0.006\n",
      "iter  641/10000  loss         0.089670  avg_L1_norm_grad         0.000587  w[0]    2.770 bias    0.006\n",
      "iter  660/10000  loss         0.089669  avg_L1_norm_grad         0.000523  w[0]    2.771 bias    0.005\n",
      "iter  661/10000  loss         0.089669  avg_L1_norm_grad         0.000519  w[0]    2.771 bias    0.005\n",
      "iter  680/10000  loss         0.089667  avg_L1_norm_grad         0.000463  w[0]    2.773 bias    0.005\n",
      "iter  681/10000  loss         0.089667  avg_L1_norm_grad         0.000460  w[0]    2.773 bias    0.005\n",
      "iter  700/10000  loss         0.089666  avg_L1_norm_grad         0.000410  w[0]    2.774 bias    0.004\n",
      "iter  701/10000  loss         0.089666  avg_L1_norm_grad         0.000407  w[0]    2.774 bias    0.004\n",
      "iter  720/10000  loss         0.089666  avg_L1_norm_grad         0.000363  w[0]    2.775 bias    0.004\n",
      "iter  721/10000  loss         0.089666  avg_L1_norm_grad         0.000361  w[0]    2.775 bias    0.004\n",
      "iter  740/10000  loss         0.089665  avg_L1_norm_grad         0.000322  w[0]    2.776 bias    0.004\n",
      "iter  741/10000  loss         0.089665  avg_L1_norm_grad         0.000320  w[0]    2.776 bias    0.004\n",
      "iter  760/10000  loss         0.089665  avg_L1_norm_grad         0.000285  w[0]    2.777 bias    0.003\n",
      "iter  761/10000  loss         0.089665  avg_L1_norm_grad         0.000284  w[0]    2.777 bias    0.003\n",
      "iter  780/10000  loss         0.089664  avg_L1_norm_grad         0.000253  w[0]    2.778 bias    0.003\n",
      "iter  781/10000  loss         0.089664  avg_L1_norm_grad         0.000252  w[0]    2.778 bias    0.003\n",
      "iter  800/10000  loss         0.089664  avg_L1_norm_grad         0.000225  w[0]    2.779 bias    0.003\n",
      "iter  801/10000  loss         0.089664  avg_L1_norm_grad         0.000223  w[0]    2.779 bias    0.003\n",
      "iter  820/10000  loss         0.089664  avg_L1_norm_grad         0.000199  w[0]    2.779 bias    0.002\n",
      "iter  821/10000  loss         0.089664  avg_L1_norm_grad         0.000198  w[0]    2.779 bias    0.002\n",
      "iter  840/10000  loss         0.089664  avg_L1_norm_grad         0.000177  w[0]    2.780 bias    0.002\n",
      "iter  841/10000  loss         0.089664  avg_L1_norm_grad         0.000176  w[0]    2.780 bias    0.002\n",
      "iter  860/10000  loss         0.089664  avg_L1_norm_grad         0.000157  w[0]    2.780 bias    0.002\n",
      "iter  861/10000  loss         0.089664  avg_L1_norm_grad         0.000156  w[0]    2.780 bias    0.002\n",
      "iter  880/10000  loss         0.089663  avg_L1_norm_grad         0.000140  w[0]    2.781 bias    0.002\n",
      "iter  881/10000  loss         0.089663  avg_L1_norm_grad         0.000139  w[0]    2.781 bias    0.002\n",
      "iter  900/10000  loss         0.089663  avg_L1_norm_grad         0.000124  w[0]    2.781 bias    0.002\n",
      "iter  901/10000  loss         0.089663  avg_L1_norm_grad         0.000124  w[0]    2.781 bias    0.002\n",
      "iter  920/10000  loss         0.089663  avg_L1_norm_grad         0.000111  w[0]    2.781 bias    0.002\n",
      "iter  921/10000  loss         0.089663  avg_L1_norm_grad         0.000110  w[0]    2.781 bias    0.002\n",
      "iter  940/10000  loss         0.089663  avg_L1_norm_grad         0.000098  w[0]    2.782 bias    0.001\n",
      "iter  941/10000  loss         0.089663  avg_L1_norm_grad         0.000098  w[0]    2.782 bias    0.001\n",
      "iter  960/10000  loss         0.089663  avg_L1_norm_grad         0.000087  w[0]    2.782 bias    0.001\n",
      "iter  961/10000  loss         0.089663  avg_L1_norm_grad         0.000087  w[0]    2.782 bias    0.001\n",
      "iter  980/10000  loss         0.089663  avg_L1_norm_grad         0.000078  w[0]    2.782 bias    0.001\n",
      "iter  981/10000  loss         0.089663  avg_L1_norm_grad         0.000077  w[0]    2.782 bias    0.001\n",
      "iter 1000/10000  loss         0.089663  avg_L1_norm_grad         0.000069  w[0]    2.782 bias    0.001\n",
      "iter 1001/10000  loss         0.089663  avg_L1_norm_grad         0.000069  w[0]    2.782 bias    0.001\n",
      "iter 1020/10000  loss         0.089663  avg_L1_norm_grad         0.000062  w[0]    2.783 bias    0.001\n",
      "iter 1021/10000  loss         0.089663  avg_L1_norm_grad         0.000061  w[0]    2.783 bias    0.001\n",
      "Done. Converged after 1034 iterations.\n"
     ]
    }
   ],
   "source": [
    "lr2 = LRGD(\n",
    "        alpha=0.1, step_size=0.1, init_w_recipe='uniform_-1_to_1')\n",
    "lr2.fit(x_NF, y_N)"
   ]
  },
  {
   "cell_type": "code",
   "execution_count": 11,
   "metadata": {},
   "outputs": [
    {
     "name": "stdout",
     "output_type": "stream",
     "text": [
      " Result for LR with 1 feature and 0 bias:  [2.78266077e+00 9.11289218e-04]\n"
     ]
    }
   ],
   "source": [
    "print(\" Result for LR with 1 feature and 0 bias: \", lr2.trace_w[-1])"
   ]
  },
  {
   "cell_type": "code",
   "execution_count": 12,
   "metadata": {},
   "outputs": [],
   "source": [
    "matrix=np.matrix(lr2.trace_w).T\n",
    "w1=np.asarray(matrix[0])[-1]\n",
    "w2=np.asarray(matrix[1])[-1]\n",
    "idx=np.linspace(0, w1.size-1,w1.size)"
   ]
  },
  {
   "cell_type": "code",
   "execution_count": 13,
   "metadata": {},
   "outputs": [
    {
     "data": {
      "image/png": "[encoded data removed]",
      "text/plain": [
       "<Figure size 432x288 with 1 Axes>"
      ]
     },
     "metadata": {
      "needs_background": "light"
     },
     "output_type": "display_data"
    },
    {
     "data": {
      "image/png": "[encoded data removed]",
      "text/plain": [
       "<Figure size 432x288 with 1 Axes>"
      ]
     },
     "metadata": {
      "needs_background": "light"
     },
     "output_type": "display_data"
    }
   ],
   "source": [
    "## Draw Picture\n",
    "plt.plot(idx, w1, label='Trend of w1')\n",
    "plt.xlabel('id');\n",
    "plt.ylabel('w1');\n",
    "plt.legend();\n",
    "plt.show();\n",
    "\n",
    "plt.plot(idx, w2, label='Trend of w2')\n",
    "plt.xlabel('id');\n",
    "plt.ylabel('w2');\n",
    "plt.ylim([0.0, 0.5]);\n",
    "plt.legend();\n",
    "plt.show();"
   ]
  },
  {
   "cell_type": "markdown",
   "metadata": {},
   "source": [
    "Yes.  \n",
    "w1 approaches 2.78. The converging speed is fast at first, then becomes really slow before w1 is stablized.   \n",
    "w2 approaches 0. The converging speed is fast at first, then becomes really slow before w2 is stabalized. "
   ]
  },
  {
   "cell_type": "code",
   "execution_count": null,
   "metadata": {},
   "outputs": [],
   "source": []
  }
 ],
 "metadata": {
  "kernelspec": {
   "display_name": "Python 3",
   "language": "python",
   "name": "python3"
  },
  "language_info": {
   "codemirror_mode": {
    "name": "ipython",
    "version": 3
   },
   "file_extension": ".py",
   "mimetype": "text/x-python",
   "name": "python",
   "nbconvert_exporter": "python",
   "pygments_lexer": "ipython3",
   "version": "3.6.8"
  }
 },
 "nbformat": 4,
 "nbformat_minor": 2
}
