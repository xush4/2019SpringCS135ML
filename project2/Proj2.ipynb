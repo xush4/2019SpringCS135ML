{
 "cells": [
  {
   "cell_type": "code",
   "execution_count": 1,
   "metadata": {},
   "outputs": [],
   "source": [
    "import numpy as np\n",
    "import pandas as pd\n",
    "import sklearn.model_selection\n",
    "import matplotlib.pyplot as plt\n",
    "import numpy as np"
   ]
  },
  {
   "cell_type": "code",
   "execution_count": 2,
   "metadata": {},
   "outputs": [
    {
     "name": "stdout",
     "output_type": "stream",
     "text": [
      "600\n"
     ]
    }
   ],
   "source": [
    "#Loading Data\n",
    "x_train_df = pd.read_csv('data_reviews/x_train.csv')\n",
    "x_text=x_train_df['text'];\n",
    "tr_size=x_train_df.shape[0]\n",
    "x_tests_df = pd.read_csv('data_reviews/x_test.csv')\n",
    "x_test_text = x_tests_df['text'];\n",
    "y_train_df = pd.read_csv('data_reviews/y_train.csv')\n",
    "print(x_tests_df.shape[0])"
   ]
  },
  {
   "cell_type": "code",
   "execution_count": 3,
   "metadata": {},
   "outputs": [],
   "source": [
    "## Print data\n",
    "tr_text_list_ORG = x_train_df['text'].values.tolist()\n",
    "# print(len(tr_text_list_ORG))\n",
    "# for text in tr_text_list_ORG:\n",
    "#    print(text)"
   ]
  },
  {
   "cell_type": "code",
   "execution_count": 4,
   "metadata": {},
   "outputs": [],
   "source": [
    "#sen=tr_text_list[0]\n",
    "#print(sen)\n",
    "#words=sen.split()\n",
    "#print(words)"
   ]
  },
  {
   "cell_type": "code",
   "execution_count": 5,
   "metadata": {},
   "outputs": [
    {
     "data": {
      "text/plain": [
       "0    Oh and I forgot to also mention the weird colo...\n",
       "1                         THAT one didn't work either.\n",
       "2                                     Waste of  bucks.\n",
       "3    Product is useless, since it does not have eno...\n",
       "4    None of the three sizes they sent with the hea...\n",
       "Name: text, dtype: object"
      ]
     },
     "execution_count": 5,
     "metadata": {},
     "output_type": "execute_result"
    }
   ],
   "source": [
    "# Remove Digits:\n",
    "x_train_df['text']=x_train_df['text'].apply(lambda sen:''.join([i for i in sen if not i.isdigit()]))\n",
    "x_tests_df['text']=x_tests_df['text'].apply(lambda sen:''.join([i for i in sen if not i.isdigit()]))\n",
    "x_train_df['text'].head()"
   ]
  },
  {
   "cell_type": "code",
   "execution_count": 6,
   "metadata": {},
   "outputs": [
    {
     "data": {
      "text/plain": [
       "0    Oh and I forgot to also mention the weird colo...\n",
       "1                           THAT one didnt work either\n",
       "2                                      Waste of  bucks\n",
       "3    Product is useless since it does not have enou...\n",
       "4    None of the three sizes they sent with the hea...\n",
       "Name: text, dtype: object"
      ]
     },
     "execution_count": 6,
     "metadata": {},
     "output_type": "execute_result"
    }
   ],
   "source": [
    "## Exclude punctuation\n",
    "x_train_df['text']=x_train_df['text'].str.replace('[^\\w\\s]','')\n",
    "x_tests_df['text']=x_tests_df['text'].str.replace('[^\\w\\s]','')\n",
    "x_train_df['text'].head()"
   ]
  },
  {
   "cell_type": "code",
   "execution_count": 7,
   "metadata": {},
   "outputs": [
    {
     "data": {
      "text/plain": [
       "0    oh and i forgot to also mention the weird colo...\n",
       "1                           that one didnt work either\n",
       "2                                       waste of bucks\n",
       "3    product is useless since it does not have enou...\n",
       "4    none of the three sizes they sent with the hea...\n",
       "Name: text, dtype: object"
      ]
     },
     "execution_count": 7,
     "metadata": {},
     "output_type": "execute_result"
    }
   ],
   "source": [
    "## Lower case\n",
    "x_train_df['text']=x_train_df['text'].apply(lambda sen:\" \".join(x.lower() for x in sen.split()))\n",
    "x_tests_df['text']=x_tests_df['text'].apply(lambda sen:\" \".join(x.lower() for x in sen.split()))\n",
    "x_train_df['text'].head()"
   ]
  },
  {
   "cell_type": "code",
   "execution_count": 8,
   "metadata": {},
   "outputs": [],
   "source": [
    "## Remove Low/High freq words\n",
    "Lfreq=pd.Series(' '.join(x_train_df['text']).split()).value_counts()\n",
    "Lfreq=Lfreq[Lfreq>1][10:] ## Remove top 10 frequent word, and words appears only 1 time.\n",
    "Lfreq=list(Lfreq.index)\n",
    "x_train_df['text']=x_train_df['text'].apply(lambda sen:' '.join(x for x in sen.split() if x in Lfreq))\n",
    "x_tests_df['text']=x_tests_df['text'].apply(lambda sen:' '.join(x for x in sen.split() if x in Lfreq))"
   ]
  },
  {
   "cell_type": "code",
   "execution_count": 9,
   "metadata": {},
   "outputs": [
    {
     "name": "stdout",
     "output_type": "stream",
     "text": [
      "only phone as its device\n",
      "disappointing from good\n",
      "one big player that buttons on phones front cover that let you songs out after few seconds\n",
      "particular would not work with my motorola\n",
      "if two were by started static sound from headset\n",
      "also area where my unit broke im not too\n",
      "what me get junk have no idea\n",
      "mic there joke volume quite low\n",
      "purchased within days no longer working\n",
      "picture far below what other phones are today\n",
      "after with verizon dropped calls we phones after two days\n",
      "my experience terrible my bluetooth headset while much more comfortable than my last jabra which hated\n",
      "poor talk time performance\n",
      "for car charger does not work\n",
      "trying make call on these an in\n",
      "didnt think that instructions provided were helpful me\n",
      "worst phone from samsung worst have ever\n",
      "disappointed with battery\n",
      "say wasted my money\n",
      "also had new problem\n",
      "when battery connection device turned off\n",
      "not as good as had\n",
      "yet use same flawed charger design\n",
      "doesnt do job\n",
      "bought two them neither will charge\n",
      "low quality so as making sound very cheap\n",
      "its reception very very poor\n",
      "its\n",
      "dont buy product\n",
      "you never know if you hard enough or right number times for you want or not\n",
      "you can forget support\n",
      "hoping for more\n",
      "phone completely now have get\n",
      "all took one drop from about above am not impressed am not\n",
      "felt too light tinny\n",
      "none works just dont buy\n",
      "phone very hard do everything but fails at its very ability be phone\n",
      "does not fit\n",
      "not good when or\n",
      "none new ones have ever quite worked properly\n",
      "poor\n",
      "dont buy product fails\n",
      "only used two days wasnt always easy hear with\n",
      "wasted my little money with earpiece\n",
      "camera on phone may be used as when id rather be using then\n",
      "they do not care about one bit\n",
      "could not recommend these more\n",
      "utterly at first which me couple very very important contacts\n",
      "very average phone with bad battery life that on weak network\n",
      "dont buy product\n",
      "what disappointment\n",
      "what waste\n",
      "item worked great but broke after months use\n",
      "its not user friendly\n",
      "that company joke\n",
      "hours later\n",
      "poor sound quality\n",
      "please dont waste your money\n",
      "bluetooth headset\n",
      "wish could return unit get back my money\n",
      "so anyone you will hear part your\n",
      "ill be along my headset starts for no reason\n",
      "disappointment\n",
      "battery terrible\n",
      "plugged in only find out not thing worked\n",
      "worst customer service ever\n",
      "not loud enough doesnt turn on like should\n",
      "not good bargain\n",
      "terrible my car will not\n",
      "long lasting battery you dont have as as some flip phones\n",
      "would not\n",
      "\n",
      "results in phone being either at volume or\n",
      "does not fit palm broke first time tried plug in\n",
      "never got\n",
      "week later after\n",
      "am sorry made purchase\n",
      "too bad you have pay up for service\n",
      "have bought nokia cell phone few weeks ago\n",
      "as included from description are not included\n",
      "stay away from\n",
      "finally after three or four times spring broke could not use any longer on\n",
      "get absolutely horrible reception in my where with other phones have not had problem\n",
      "during several different minute calls experienced drops in an area that had bars\n",
      "worst piece crap ever along with verizon customer service\n",
      "you for wasting my money\n",
      "by far worst purchase ive made on amazon\n",
      "does not work\n",
      "very much disappointed with company\n",
      "do not purchase phone\n",
      "amazon sucks\n",
      "if you like loud all your conversations then phone for you\n",
      "however my girl complain that some time phone doesnt up like phone does\n",
      "its extremely slow takes forever do anything with\n",
      "couldnt use unit with not good in\n",
      "their network coverage in los angeles horrible\n",
      "id like return\n",
      "as many people found headsets very weak\n",
      "company charge me still not given me my refund back\n",
      "not happy\n",
      "nice case feels good in your hands\n",
      "all in all im quite satisfied with purchase\n",
      "just superb\n",
      "love ringtones because they are so\n",
      "cheap but works given low cost item\n",
      "sound quality excellent as well\n",
      "looks great strong\n",
      "great bluetooth\n",
      "no no no not even couldnt be more happier with my new one for\n",
      "looking for headset for long time now that ive got couldnt be happier\n",
      "best charger have seen on market yet\n",
      "on time\n",
      "love device\n",
      "sound into your ear seem sound volume clarity\n",
      "works\n",
      "works like charm work same as one got with phone\n",
      "its pretty easy\n",
      "great choice\n",
      "if you are razr must have\n",
      "noise\n",
      "he very impressed when going from original battery battery\n",
      "bought battery with from amazon im very happy with my purchase\n",
      "design very good\n",
      "great product\n",
      "you for such great service\n",
      "great product fast shipping\n",
      "very comfortable\n",
      "fantastic\n",
      "new battery works great in phone\n",
      "battery up well\n",
      "look very sharp screen nice clear with great graphics\n",
      "have been very satisfied with cell phone from day one\n",
      "also works well but people have called everything\n",
      "good value works fine power usb car or wall outlet\n",
      "know that funny but me seemed like that wouldnt work one works great\n",
      "does everything should more\n",
      "plays than any other size price so low that most would think quality lacking however its not\n",
      "great for using with your home\n",
      "perfect for\n",
      "product great makes working lot easier can go while waiting on hold for something\n",
      "device great in several\n",
      "good quality bargain bought after bought from big lots that sounded awful people on other end couldnt hear me\n",
      "motorola finally got voice quality bluetooth headset right\n",
      "great phone\n",
      "am more than happy with product\n",
      "fantastic buy will get again for whatever my next phone\n",
      "ive had no trouble internet ringtones or any\n",
      "fits so that ear does not even need be used sound better directed through your ear\n",
      "nice headphones for price they work great\n",
      "highly recommend device everyone\n",
      "has great camera thats are nice clear with great picture quality\n",
      "display excellent camera as good as any from that year\n",
      "am very impressed with job that motorola did on phone\n",
      "have had tmobile service for or years now am pretty happy with\n",
      "am glad purchased\n",
      "just reading on makes you say wow\n",
      "good show samsung\n",
      "nice station for home or work\n",
      "handsfree part works fine but then car book treo still rate device high\n",
      "its great tool for data be sure use for data results\n",
      "all other cases ive tried fall apart after few months but one seems be in for long\n",
      "seller quickly much than\n",
      "easy use\n",
      "ive had for nearly years has worked great for me\n",
      "headset works great packaged avoid any\n",
      "phone pretty sturdy ive never had any large problems with\n",
      "nice design quality\n",
      "have others reviews here but had any problem with\n",
      "volume for real good you have how loud\n",
      "ive only had my bluetooth for few weeks but really like\n",
      "all problems\n",
      "light there\n",
      "rocks\n",
      "quite comfortable in ear\n",
      "but despite these few flaws case exceptional quality well worth costs an product\n",
      "love camera its really pretty good quality\n",
      "light has plenty battery very wear for somewhat time\n",
      "phone\n",
      "had verizon years ago really liked their service\n",
      "im surprised good quality car charger theres not much reviews about\n",
      "yes its on front side love\n",
      "they do not last forever but not overly expensive sound much better than others have tried\n",
      "good protection looks too\n",
      "great deal\n",
      "my has one also she loves\n",
      "chargers are really great\n",
      "excellent product\n",
      "received my headset in good time happy with\n",
      "ive tried several different earpieces for my cell phone jabra one first one ive found that fits my ear comfortably\n",
      "beautiful though\n",
      "great charger\n",
      "very comfortable on ear\n",
      "phone get for just bought my all can say wow\n",
      "phone works great\n",
      "best all feature very helpful\n",
      "good battery got here really fast\n",
      "have always used headsets from wireless very helpful\n",
      "have had for about year christmas bought some for rest family\n",
      "but does get better reception clarity than any phone ive had before\n",
      "am also very happy with price\n",
      "story line just awful\n",
      "wouldnt say theyre worth hours your time though\n",
      "dont know what happened in five what mess\n",
      "movie because writing needed more suspense\n",
      "avoid avoid avoid\n",
      "film that just dont look right\n",
      "dont waste your time watching film\n",
      "bad characters bad story bad acting\n",
      "problem script\n",
      "be honest with you unbelievable nonsense very\n",
      "there simply no excuse for something poorly done\n",
      "if you in your own by end by all cheap drama worthless dialogue must have bored yourself death with waste time\n",
      "maybe there would be reasonable for\n",
      "what film lacks convincing script\n",
      "film way too long\n",
      "acting beyond\n",
      "not even good for value\n",
      "where movie really me off\n",
      "movie totally on my\n",
      "its too bad that everyone else involved didnt share level quality for if they did have far better film on our hands than mess\n",
      "acting from all involved that those like bad out making them seem as old as they look in real life special effects are like when has on when he down from\n",
      "really awful\n",
      "short film certainly no\n",
      "instead we got bore about\n",
      "guess be clever then some light on but just stupid\n",
      "however here there no decent acting action or location work balance things up\n",
      "let my talk me into seeing bad idea we both hated\n",
      "one more thing can very well im all for but character just too much\n",
      "extremely\n",
      "boring\n",
      "not only in cast but also in script which much from earlier classic\n",
      "unfortunately cover girl an how used women for\n",
      "only series together were amazing performances as two in quiet conflict\n",
      "plot simply on like machine on addition new scenes\n",
      "movie boring in places\n",
      "awful\n",
      "acting bad\n",
      "film be serious flick fails\n",
      "everything appalling\n",
      "unfortunately any in films production work lost on script\n",
      "one worst shows all time\n",
      "well just if you keep thinking how bad\n",
      "just whatever you do avoid as its all that good about human\n",
      "acting sucks music sucks script sucks sucks special fx suck directing sucks basically movie sucks\n",
      "directing cinematography arent quite as good\n",
      "understand that its be cheap comedy but that doesnt mean that has completely insult our intelligence have writing so incredibly that on\n",
      "god can never get that minutes back\n",
      "however recently watched whole thing again on completely by how extremely stupid storyline how contained holes whole lot crap how dancing\n",
      "avoid at all costs\n",
      "one most movies have ever seen\n",
      "you could drive into these holes\n",
      "love but ive never seen her in movie lousy\n",
      "but recommend waiting for their let one go\n",
      "no plot whatsoever\n",
      "saw last night an experience\n",
      "rest just there being awful with songs about they themselves about etc\n",
      "but movie makes lot serious\n",
      "piece garbage on\n",
      "bad film with bad writing good by paul for people who cant anything but in picture with\n",
      "movie now as part horror films\n",
      "kids are annoying\n",
      "acting sucked\n",
      "could not stand even watch for very long for fear\n",
      "however didnt make up for fact that overall boring movie\n",
      "worst one series\n",
      "even worse than\n",
      "in short dont bother with movie\n",
      "with movie pretty bad\n",
      "for those that seen dont waste your time\n",
      "beware not cult movie trash period\n",
      "yes its that bad\n",
      "no actress has been worse used that in movie\n",
      "film has no redeeming features\n",
      "there are so many problems dont know where\n",
      "sometimes so embarrassing that had look away\n",
      "came free with player bought but still turned thing off through because for\n",
      "lines audio everything wrong\n",
      "if that isnt enough mess movie for you picture also with use sets\n",
      "came out feeling\n",
      "acting wooden though no worse than period movie\n",
      "story lame not interesting never really puppets\n",
      "its just lame\n",
      "scenes with are\n",
      "best how writing when its that you can turn back into by piece\n",
      "only suspense feeling at just how were\n",
      "then theres plot holes\n",
      "its audience that most his films\n",
      "scenes are terrible playing like theyre years old at shots that are feet etc\n",
      "either way sucks\n",
      "every story so over top that through\n",
      "after kind embarrassing watch in film because bad\n",
      "generally just lacked imagination\n",
      "dont even get me started on camerawork\n",
      "very with how bad movie but not at all\n",
      "gets out simply because theres nothing\n",
      "do not waste your time\n",
      "he cant one least have ever seen he cant did he damn movie in his\n",
      "its just\n",
      "isnt even an as or movie\n",
      "new characters all that memorable found myself who who\n",
      "film on casting as character\n",
      "think shows that people should find them self without other people into\n",
      "if you want movie thats not but gives you some great choice\n",
      "its sort film thats joy watch\n",
      "characters are interesting even if bit predictable\n",
      "film well made with impressive camerawork solid acting effective music from particularly good that like its coming from hill\n",
      "editing editing film in my\n",
      "black water thriller that completely its its an flick by expectations as an experience\n",
      "in film which here in me\n",
      "wont say any more dont like spoilers so dont want be one but believe film worth your time\n",
      "its long time since so by movie\n",
      "\n",
      "think one people who found another one\n",
      "course footage from s but that only film\n",
      "im big fan series mostly due style\n",
      "best part about its\n",
      "its one movie that never interest me simply because keeps me as try attempt its\n",
      "deserves strong love\n",
      "gem classic games that follow are watch\n",
      "do think tom good actor\n",
      "youll love\n",
      "just cant movie more than scenes are have something funny will love when comes has new features\n",
      "have say that film produced as film\n",
      "highly entertaining at all\n",
      "that funny\n",
      "subtle comedy by any movie in recent years\n",
      "white smart you have great cast everyone played their parts really well\n",
      "absolutely\n",
      "knew when saw film that more great things were come from actor\n",
      "movie\n",
      "movie beautiful little when hes parts are under when are ive never had feeling totally recommend coming out on special on cover has on garbage can\n",
      "deeply impressed with character he played\n",
      "she as lovely as usual\n",
      "when song could better such as when life talk song old man by young played which many\n",
      "overall\n",
      "tom character man who not for that about begin but he takes in hand as story great actor gives performance that makes you feel characters\n",
      "movie good on life in\n",
      "its pretty that wonderful film made in as generally had its in black white issues at that time\n",
      "go watch\n",
      "original\n",
      "so for our we get see them run around play games be\n",
      "easily none other made me in tender way before getting into dark for\n",
      "one best mexican movies ever one less even by mexican themselves no how should have felt with\n",
      "believe that black done well\n",
      "just great movie\n",
      "highly recommended\n",
      "but up speed got right point\n",
      "liked\n",
      "has everything you could want suspense drama comedy brain eating if youre looking for movies look no\n",
      "movie showed lot at its best made look very appealing\n",
      "john by one greatest ever\n",
      "keep watching over over\n",
      "pretty good as in places her first dance scene\n",
      "very funny\n",
      "loved really\n",
      "if you want real rent one\n",
      "movie with comedy drama thoroughly enjoyed myself\n",
      "both play their roles in tale book writer who maybe has written\n",
      "cast great\n",
      "piece with many occasionally over in all years that aerial between love art experience more\n",
      "later found myself lost in power film\n",
      "just consider excellent story solid acting look film as\n",
      "film despite or perhaps because an obviously budget\n",
      "then watched again two ago th really enjoy time entire thing\n",
      "so cool\n",
      "best scene in movie at end but wont\n",
      "life provided excellent material for film which goes well beyond being just another movie about\n",
      "definitely cult classic well worth with others\n",
      "nothing short in film\n",
      "very true must for all fans\n",
      "performances are real extremely well done indeed if black water website be thats because they used real location fabulous\n",
      "its quite simply most form cinema\n",
      "portrayal\n",
      "scenes are often funny occasionally as characters their where they are going\n",
      "see\n",
      "out for both movie trilogy\n",
      "both actors truly understand become their particular character convincing performance\n",
      "some issues with course has here\n",
      "you lot about real inside people in movie lot about movie business itself\n",
      "liked way character ready do just about everything stay with his son\n",
      "dont be its worth little\n",
      "incredible soundtrack truly film\n",
      "ill put gem up any movie in cinematography acting editing directing or any other aspect\n",
      "an italian reviewer called small great film thats right\n",
      "his performance as\n",
      "wind lion well written acted\n",
      "my world certainly must see for anyone with no or\n",
      "scene\n",
      "but wasnt until watched film that how great he actually\n",
      "its fresh subtle rather effect\n",
      "all main are\n",
      "my score mostly for plot\n",
      "light one my favorite actresses think she does superb job in film\n",
      "however after finally watching film realized that not only had had mind brilliance also found myself watching over over again\n",
      "film for no no on by sea wonderfully fun imaginative look at\n",
      "has nice energy level obviously very comfortable in front camera\n",
      "from terrific film that both predictable at same time\n",
      "she movie well\n",
      "director from along with drama hilarious comedy you can never tell what going happen next\n",
      "his use in three films nothing short incredible every shot every scene like work art\n",
      "worst thai ever\n",
      "work in industry in have from any longer\n",
      "if food isnt bad enough for you then enjoy with people\n",
      "found long piece in my salsa\n",
      "buffet small all food they bland\n",
      "will never see another from me\n",
      "only thing wasnt too crazy about their as dont like\n",
      "no im going eat potato that found some hair in\n",
      "if that never showed up would have given for sure but on other side wall where\n",
      "like final\n",
      "same him are both sick\n",
      "but service beyond bad\n",
      "took over get their which nothing more than\n",
      "things that went wrong they\n",
      "when my got home she immediately got sick she only had few salad\n",
      "after pulled up my car waited for another minutes before being\n",
      "what mistake\n",
      "food quality has been horrible\n",
      "got food here at buffet\n",
      "but dont like\n",
      "only service\n",
      "one down note could use some\n",
      "what mistake that\n",
      "no on menu waitress had absolutely no as which meals did or did not\n",
      "food wasnt good\n",
      "say we will never be back here again\n",
      "seriously cannot believe that has so many that all are running around like with their cut off\n",
      "left very\n",
      "dont think will be back for very long time\n",
      "what should have been hilarious yummy christmas dinner remember biggest entire trip for us\n",
      "its not hard make decent\n",
      "wont be back\n",
      "food not tasty at all not say its real style\n",
      "total would much rather just go\n",
      "then\n",
      "know not like other restaurants at all something very off here\n",
      "everything\n",
      "paid but did not because felt server did terrible job\n",
      "service extremely slow\n",
      "food really boring\n",
      "coming here like an where both cant wait for other person ask break up\n",
      "way expensive\n",
      "went for lunch service slow\n",
      "waitress little slow in service\n",
      "manager worst\n",
      "anyway do not think will go back there\n",
      "ive had better atmosphere\n",
      "ive had better not only from tea but even from pho\n",
      "there so much good food in vegas that feel for wasting an eating by going rice company\n",
      "whole experience think well just go sushi next time\n",
      "didnt taste that fresh\n",
      "there any meat\n",
      "mediocre imagine will up\n",
      "also took her forever bring us check when we asked for\n",
      "my each dish as worst these have ever tasted\n",
      "kind hard mess up steak but they did\n",
      "all in all long bay bit\n",
      "dont have be an know im getting\n",
      "had wait over minutes get my drink longer get\n",
      "my salad had bland on palm\n",
      "food terrible\n",
      "awful service\n",
      "they brought fresh fries thinking something warm but no\n",
      "place has lot but fails\n",
      "lacked flavor seemed dry\n",
      "however my recent experience at particular location not so good\n",
      "never again will be dining at place\n",
      "an hour seriously\n",
      "meal\n",
      "maybe its just their fare but ive been twice thought average at best\n",
      "chicken got definitely only ok were cold soggy\n",
      "their frozen are way too for my taste\n",
      "when opened sandwich impressed but not in good way\n",
      "we literally sat there for minutes with no one take our order\n",
      "place not worth your time let vegas\n",
      "feel dining room more course than high dining service slow at best\n",
      "maybe if they cold they would have been somewhat edible\n",
      "desserts were bit strange\n",
      "very bad experience\n",
      "never come again\n",
      "if you want wait for mediocre food terrible service then place for you\n",
      "once your food its\n",
      "im not really sure how best hot in by phoenix\n",
      "at least think my water before you over for minutes\n",
      "we wont be returning\n",
      "all needed salt course there none at tables\n",
      "either too cold not enough flavor or just bad\n",
      "sauce tasteless\n",
      "so in like combination dirty fish market\n",
      "ive never been more insulted or felt\n",
      "unfortunately not good\n",
      "after minutes wait got table\n",
      "owners really really need being cheap let them wrap my sandwich in two not one\n",
      "not good\n",
      "food average at best\n",
      "take for\n",
      "kept looking at time had soon become minutes yet still no food\n",
      "he terrible\n",
      "my wife had soup which\n",
      "also feel like chips are bought not made in house\n",
      "were friendly did good job\n",
      "are very friendly\n",
      "here are good\n",
      "also there are like burger fries beer for which decent deal\n",
      "their on also place\n",
      "really do recommend place you can go wrong with place\n",
      "owners are really great people\n",
      "nice over top but feel like done cover up food\n",
      "kids pizza always hit too with lots great side dish options for\n",
      "food service ambiance\n",
      "reasonably priced also\n",
      "really enjoyed before they even told friends they had best breakfast\n",
      "they were best thing we ordered\n",
      "that just in my also pretty rare here in vegas\n",
      "chinese restaurant ive been in while\n",
      "vegetables are so fresh sauce feels like authentic thai\n",
      "awesome selection beer\n",
      "would definitely recommend wings as well as pizza\n",
      "will definitely be back\n",
      "their are always hit with my\n",
      "definitely will come back here again\n",
      "classic fantastic\n",
      "place one best places eat in phoenix area\n",
      "used work at so place really for half price\n",
      "menu had so much good stuff on could not\n",
      "staff always super friendly helpful which especially cool when you bring two small\n",
      "today my first taste hot have tell you more than ever thought possible\n",
      "fantastic food\n",
      "come leave happy\n",
      "good value great food great service\n",
      "every time eat here see\n",
      "great touch\n",
      "overall like there food service\n",
      "when im on side town will definitely be spot ill hit up again\n",
      "its like really party in your mouth where youre with person at party\n",
      "food\n",
      "overall like place lot\n",
      "if you gone here go now\n",
      "those burgers were amazing\n",
      "inside really quite nice very clean\n",
      "one nice thing that they on since our party than or they didnt expect more than that\n",
      "id say that would be decision honestly all dishes taste how they are taste amazing\n",
      "delicious good cream cheese real with even\n",
      "good\n",
      "their menu reasonably priced\n",
      "try them in experience some tasty food friendly service\n",
      "just spicy enough perfect actually\n",
      "chicken also very tasty\n",
      "both great\n",
      "loved their cooked in wine duck tender their potato dishes were delicious\n",
      "thin moist\n",
      "went burger on friends recommendation not disappointed\n",
      "always order from menu during dinner which has options from\n",
      "great restaurant at bay\n",
      "in fact im going up stars just because she so awesome\n",
      "great pork sandwich\n",
      "how awesome that\n",
      "amazing\n",
      "thumbs up\n",
      "they wont disappoint\n",
      "food so order\n",
      "loved\n",
      "best service food ever our server so good friendly she made our day\n",
      "also were served hot bread butter home made potato chips with bacon on original very good\n",
      "really how vegas fine dining used be right down ladies that have no prices\n",
      "my came here for first time on recent trip vegas could not have been more pleased with quality food service\n",
      "my first visit\n",
      "my tried chicken salad in love\n",
      "pretty good beer selection too\n",
      "will go back next trip out\n",
      "what great double\n",
      "we are so glad we found place\n",
      "go place for\n",
      "seriously killer hot\n",
      "always with him\n",
      "extremely tasty\n",
      "my side salad with dressing so tasty pita hummus very\n",
      "nice ambiance\n",
      "could care less just beautiful\n",
      "we enjoyed\n",
      "always great time at\n",
      "food arrived quickly\n",
      "decor nice music soundtrack pleasant\n",
      "you cant beat that\n",
      "food delicious just spicy enough so be sure ask for if you that way\n",
      "everything on menu terrific we were also thrilled that they made amazing for our daughter\n",
      "pizza are good\n",
      "good\n",
      "place great\n",
      "these are restaurant owners ive ever come\n",
      "first time going but think will quickly become regular\n",
      "my sat at bar had completely delightful experience\n",
      "as for service thought good\n",
      "couldnt ask for more meal\n",
      "are delicious\n",
      "everything fresh delicious\n",
      "really really good rice all time\n",
      "pretty awesome place\n",
      "staff are great ambiance great\n",
      "patio seating very comfortable\n"
     ]
    }
   ],
   "source": [
    "## Print data\n",
    "tr_text_list = x_train_df['text'].values.tolist()\n",
    "te_text_list = x_tests_df['text'].values.tolist()\n",
    "to_text_list = tr_text_list+te_text_list\n",
    "for text in te_text_list:\n",
    "    print(text)"
   ]
  },
  {
   "cell_type": "code",
   "execution_count": 10,
   "metadata": {},
   "outputs": [],
   "source": [
    "## Vectorize\n",
    "from sklearn.feature_extraction.text import CountVectorizer, TfidfVectorizer\n",
    "vectorizer1 = CountVectorizer()\n",
    "vectorizer2 = TfidfVectorizer()\n",
    "X1 = vectorizer1.fit_transform(tr_text_list)\n",
    "x1n= vectorizer1.transform(te_text_list)\n",
    "X2all= vectorizer2.fit_transform(to_text_list)\n",
    "X2 = vectorizer2.fit_transform(tr_text_list)\n",
    "X2n= vectorizer2.transform(te_text_list)\n",
    "features=vectorizer2.get_feature_names()\n",
    "##print(X2)"
   ]
  },
  {
   "cell_type": "markdown",
   "metadata": {},
   "source": [
    "### 1a   \n",
    "Here is a list of things I did to transform:    \n",
    "1 Remove puctuation and digits   \n",
    "2 Transform to lower-case.   \n",
    "3 Count numbers of appearance of a word and exclude top 10 as well as those appears only once.   \n",
    "Then I used Tfidf converting single words into vector.     \n",
    "The size of vocabulary is 1860. "
   ]
  },
  {
   "cell_type": "markdown",
   "metadata": {},
   "source": [
    "## Start Fitting"
   ]
  },
  {
   "cell_type": "code",
   "execution_count": 11,
   "metadata": {},
   "outputs": [],
   "source": [
    "## K-folders\n",
    "kfold_iterator = sklearn.model_selection.KFold(\n",
    "        n_splits=5, shuffle=True, random_state=None)"
   ]
  },
  {
   "cell_type": "markdown",
   "metadata": {},
   "source": [
    "### 1b"
   ]
  },
  {
   "cell_type": "code",
   "execution_count": 12,
   "metadata": {},
   "outputs": [],
   "source": [
    "## Naive Bayes TfidfVectorizer\n",
    "from sklearn.naive_bayes import MultinomialNB\n",
    "from sklearn.model_selection import cross_val_score\n",
    "import sklearn\n",
    "alpha_val=[0.001, 0.01, 0.1, 1.0, 10.0, 100.0]\n",
    "va_scores=[];\n",
    "tr_scores=[];\n",
    "for a in alpha_val:\n",
    "    Mnb = MultinomialNB(alpha=a)\n",
    "    #scores.append(cross_val_score(Mnb, X2.toarray(), y_train_df['is_positive_sentiment'], cv=5))\n",
    "    \n",
    "    va_all=[];\n",
    "    tr_all=[]\n",
    "    for ind_tr, ind_va in kfold_iterator.split(X2):\n",
    "        x_tr, x_va = X2[ind_tr], X2[ind_va]\n",
    "        y_tr, y_va = y_train_df['is_positive_sentiment'][ind_tr], y_train_df['is_positive_sentiment'][ind_va]\n",
    "        Mnb.fit(x_tr, y_tr)\n",
    "    \n",
    "        #get valid mse\n",
    "        ac_va=1-np.sum(np.logical_xor(y_va,Mnb.predict(x_va)))/y_va.size\n",
    "        ac_tr=1-np.sum(np.logical_xor(y_tr,Mnb.predict(x_tr)))/y_tr.size\n",
    "        #print(ac_va, ac_tr)\n",
    "        va_all.append(ac_va)\n",
    "        tr_all.append(ac_tr)\n",
    "    va_scores.append(np.asarray(va_all))\n",
    "    tr_scores.append(np.asarray(tr_all))\n",
    "#print(scores)"
   ]
  },
  {
   "cell_type": "code",
   "execution_count": 13,
   "metadata": {},
   "outputs": [
    {
     "data": {
      "image/png": "[encoded data removed]",
      "text/plain": [
       "<Figure size 432x288 with 1 Axes>"
      ]
     },
     "metadata": {},
     "output_type": "display_data"
    }
   ],
   "source": [
    "y_va=[]; e_va=[];\n",
    "for l in va_scores:\n",
    "    #print(l)\n",
    "    e_va.append(np.std(1-l));\n",
    "    y_va.append(np.mean(1-l));\n",
    "plt.errorbar(alpha_val, y_va, e_va, linestyle='-', marker='o', label='Va')\n",
    "\n",
    "y_tr=[]; e_tr=[];\n",
    "for l in tr_scores:\n",
    "    e_tr.append(np.std(1-l));\n",
    "    y_tr.append(np.mean(1-l));\n",
    "plt.errorbar(alpha_val, y_tr, e_tr, linestyle='--', marker='^', label='Tr')\n",
    "plt.xscale('log')\n",
    "plt.xlabel('Alpha')\n",
    "plt.ylabel('Error Rate')\n",
    "plt.legend()\n",
    "plt.show()\n",
    "\n",
    "#print(e_tr)"
   ]
  },
  {
   "cell_type": "markdown",
   "metadata": {},
   "source": [
    "1 MultinomialNB is a specialized version of Naive Bayes that is designed more for text documents, which explicitly models the word counts and adjusts the underlying calculations to deal with in.    \n",
    "\n",
    "2 There isn't any important details in training, no convergence problems or step-size issues.    \n",
    "\n",
    "3 The influence of Additive smoothing parameter(alpha) is explored. When alpha is big($>10$), the model is underfitting. When alpha is small($<0.1$), the model is overfitting. I choose $\\alpha=1$ because it has the smallest error rate and the standard deviation is small.   \n",
    "\n",
    "4 We use K-folder validation. We randomly divide the training sets into K(=5) folders. Each time we use 1 folder as validation set, K-1 folders as training set. Then we fit the model and figure out the error rate of training and validation set.        \n",
    "\n",
    "5 Additive smoothing parameter(alpha) is explored. The choice of value is 1. The conclusion is valid."
   ]
  },
  {
   "cell_type": "code",
   "execution_count": 14,
   "metadata": {},
   "outputs": [],
   "source": [
    "M1b=MultinomialNB(alpha=1);\n",
    "M1b.fit(X2,y_train_df['is_positive_sentiment'])\n",
    "np.savetxt('yproba1b_test.txt', M1b.predict(X2n))"
   ]
  },
  {
   "cell_type": "code",
   "execution_count": null,
   "metadata": {},
   "outputs": [],
   "source": [
    "t=np.loadtxt('yproba1b_test.txt')\n",
    "print(t.size)"
   ]
  },
  {
   "cell_type": "markdown",
   "metadata": {},
   "source": [
    "### 1c"
   ]
  },
  {
   "cell_type": "code",
   "execution_count": 15,
   "metadata": {},
   "outputs": [
    {
     "name": "stderr",
     "output_type": "stream",
     "text": [
      "C:\\ProgramData\\Anaconda3\\lib\\site-packages\\sklearn\\linear_model\\logistic.py:433: FutureWarning: Default solver will be changed to 'lbfgs' in 0.22. Specify a solver to silence this warning.\n",
      "  FutureWarning)\n"
     ]
    }
   ],
   "source": [
    "## Logestic\n",
    "from sklearn.linear_model import LogisticRegression as lr\n",
    "va_scores1=[];\n",
    "tr_scores1=[];\n",
    "\n",
    "va_scores2=[];\n",
    "tr_scores2=[];\n",
    "\n",
    "for a in alpha_val:\n",
    "    lr1 = lr(penalty='l1', tol=0.0001, C=a)\n",
    "    lr2 = lr(penalty='l2', tol=0.0001, C=a)\n",
    "    #scores.append(cross_val_score(Mnb, X2.toarray(), y_train_df['is_positive_sentiment'], cv=5))\n",
    "    \n",
    "    va1_all=[];\n",
    "    tr1_all=[];\n",
    "    va2_all=[];\n",
    "    tr2_all=[];\n",
    "    for ind_tr, ind_va in kfold_iterator.split(X2):\n",
    "        x_tr, x_va = X2[ind_tr], X2[ind_va]\n",
    "        y_tr, y_va = y_train_df['is_positive_sentiment'][ind_tr], y_train_df['is_positive_sentiment'][ind_va]\n",
    "        lr1.fit(x_tr, y_tr)\n",
    "        lr2.fit(x_tr, y_tr)\n",
    "        #get valid mse\n",
    "        ac_va1=1-np.sum(np.logical_xor(y_va,lr1.predict(x_va)>0.5))/y_va.size\n",
    "        ac_tr1=1-np.sum(np.logical_xor(y_tr,lr1.predict(x_tr)>0.5))/y_tr.size\n",
    "        \n",
    "        ac_va2=1-np.sum(np.logical_xor(y_va,lr2.predict(x_va)>0.5))/y_va.size\n",
    "        ac_tr2=1-np.sum(np.logical_xor(y_tr,lr2.predict(x_tr)>0.5))/y_tr.size\n",
    "        #print(ac_va, ac_tr)\n",
    "        va1_all.append(ac_va1)\n",
    "        tr1_all.append(ac_tr1)\n",
    "        \n",
    "        va2_all.append(ac_va2)\n",
    "        tr2_all.append(ac_tr2)\n",
    "    va_scores1.append(np.asarray(va1_all))\n",
    "    tr_scores1.append(np.asarray(tr1_all))\n",
    "    \n",
    "    va_scores2.append(np.asarray(va2_all))\n",
    "    tr_scores2.append(np.asarray(tr2_all))"
   ]
  },
  {
   "cell_type": "code",
   "execution_count": 16,
   "metadata": {},
   "outputs": [
    {
     "data": {
      "text/plain": [
       "<matplotlib.legend.Legend at 0x20741b2b668>"
      ]
     },
     "execution_count": 16,
     "metadata": {},
     "output_type": "execute_result"
    },
    {
     "data": {
      "image/png": "[encoded data removed]",
      "text/plain": [
       "<Figure size 1368x576 with 2 Axes>"
      ]
     },
     "metadata": {},
     "output_type": "display_data"
    }
   ],
   "source": [
    "fig2a, axes_arr = plt.subplots(nrows=1, ncols=2, figsize=(19,8))\n",
    "y_va1=[]; e_va1=[];\n",
    "y_va2=[]; e_va2=[];\n",
    "for l in va_scores1:\n",
    "    #print(l)\n",
    "    e_va1.append(np.std(1-l));\n",
    "    y_va1.append(np.mean(1-l));\n",
    "axes_arr[0].errorbar(alpha_val, y_va1, e_va1, linestyle='-', marker='o', label='Va')\n",
    "\n",
    "y_tr1=[]; e_tr1=[];\n",
    "y_tr2=[]; e_tr2=[];\n",
    "for l in tr_scores1:\n",
    "    e_tr1.append(np.std(1-l));\n",
    "    y_tr1.append(np.mean(1-l));\n",
    "axes_arr[0].errorbar(alpha_val, y_tr1, e_tr1, linestyle='--', marker='^', label='Tr')\n",
    "axes_arr[0].set_xscale('log')\n",
    "axes_arr[0].set_xlabel('Alpha')\n",
    "axes_arr[0].set_ylabel('Error Rate')\n",
    "axes_arr[0].set_title('L1')\n",
    "axes_arr[0].legend()\n",
    "\n",
    "for l in va_scores2:\n",
    "    #print(l)\n",
    "    e_va2.append(np.std(1-l));\n",
    "    y_va2.append(np.mean(1-l));\n",
    "axes_arr[1].errorbar(alpha_val, y_va2, e_va2, linestyle='-', marker='o', label='Va')\n",
    "\n",
    "for l in tr_scores1:\n",
    "    e_tr2.append(np.std(1-l));\n",
    "    y_tr2.append(np.mean(1-l));\n",
    "axes_arr[1].errorbar(alpha_val, y_tr2, e_tr2, linestyle='--', marker='^', label='Tr')\n",
    "axes_arr[1].set_xscale('log')\n",
    "axes_arr[1].set_xlabel('Alpha')\n",
    "axes_arr[1].set_ylabel('Error Rate')\n",
    "axes_arr[1].set_title('L2')\n",
    "axes_arr[1].legend()"
   ]
  },
  {
   "cell_type": "markdown",
   "metadata": {},
   "source": [
    "1 Logestic Regression is a typical method for classification. In general, it's pretty robust on solving classification problems.     \n",
    "\n",
    "2 There isn't any important details in training, no convergence problems or step-size issues.    \n",
    "\n",
    "3 The influence of regularization parameter is explored. When C is small(<1), the model is underfitting. When C is big(>100), the model is overfitting. I choose $C=10$ because it has the smallest error rate and the standard deviation is small in both L1 and L2 penalization.   \n",
    "\n",
    "4 We use K-folder validation. We randomly divide the training sets into K(=5) folders. Each time we use 1 folder as validation set, K-1 folders as training set. Then we fit the model and figure out the error rate of training and validation set.        \n",
    "\n",
    "5 Another parameter(penalization norm) is explored. The choice of value is 'L2'. The conclusion is not strong as the difference in va sets is small. The choice of C is 10, as stated above."
   ]
  },
  {
   "cell_type": "code",
   "execution_count": null,
   "metadata": {},
   "outputs": [],
   "source": [
    "lr2 = lr(penalty='l2', tol=0.0001, C=10);\n",
    "lr2.fit(X2,y_train_df['is_positive_sentiment'])\n",
    "np.savetxt('yproba1c_test.txt', lr2.predict(X2n))"
   ]
  },
  {
   "cell_type": "code",
   "execution_count": null,
   "metadata": {},
   "outputs": [],
   "source": []
  },
  {
   "cell_type": "markdown",
   "metadata": {},
   "source": [
    "### 1d"
   ]
  },
  {
   "cell_type": "code",
   "execution_count": 17,
   "metadata": {},
   "outputs": [],
   "source": [
    "## SVM\n",
    "from sklearn.svm import SVC\n",
    "va_scores1d=[]\n",
    "tr_scores1d=[]\n",
    "# clf = SVC(gamma='auto')\n",
    "\n",
    "alpha_val1d=[1.0, 10.0, 100.0, 1000.0, 10000.0, 100000.0]\n",
    "for a in alpha_val1d:\n",
    "    SVM = SVC(C=a, gamma='auto')\n",
    "    #scores.append(cross_val_score(Mnb, X2.toarray(), y_train_df['is_positive_sentiment'], cv=5))\n",
    "    \n",
    "    va_all=[];\n",
    "    tr_all=[]\n",
    "    for ind_tr, ind_va in kfold_iterator.split(X2):\n",
    "        x_tr, x_va = X2[ind_tr], X2[ind_va]\n",
    "        y_tr, y_va = y_train_df['is_positive_sentiment'][ind_tr], y_train_df['is_positive_sentiment'][ind_va]\n",
    "        SVM.fit(x_tr, y_tr)\n",
    "    \n",
    "        #get valid mse\n",
    "        ac_va=1-np.sum(np.logical_xor(y_va, SVM.predict(x_va)))/y_va.size\n",
    "        ac_tr=1-np.sum(np.logical_xor(y_tr, SVM.predict(x_tr)))/y_tr.size\n",
    "        #print(ac_va, ac_tr)\n",
    "        va_all.append(ac_va)\n",
    "        tr_all.append(ac_tr)\n",
    "    va_scores1d.append(np.asarray(va_all))\n",
    "    tr_scores1d.append(np.asarray(tr_all))"
   ]
  },
  {
   "cell_type": "code",
   "execution_count": 18,
   "metadata": {},
   "outputs": [
    {
     "data": {
      "image/png": "[encoded data removed]",
      "text/plain": [
       "<Figure size 432x288 with 1 Axes>"
      ]
     },
     "metadata": {},
     "output_type": "display_data"
    }
   ],
   "source": [
    "import matplotlib.pyplot as plt\n",
    "import numpy as np\n",
    "\n",
    "y_va=[]; e_va=[];\n",
    "for l in va_scores1d:\n",
    "    e_va.append(np.std(1-l));\n",
    "    y_va.append(np.mean(1-l));\n",
    "plt.errorbar(alpha_val1d, y_va, e_va, linestyle='-', marker='o', label='Va')\n",
    "\n",
    "y_tr=[]; e_tr=[];\n",
    "for l in tr_scores1d:\n",
    "    e_tr.append(np.std(1-l));\n",
    "    y_tr.append(np.mean(1-l));\n",
    "plt.errorbar(alpha_val1d, y_tr, e_tr, linestyle='--', marker='^', label='Tr')\n",
    "plt.xscale('log')\n",
    "plt.xlabel('Alpha')\n",
    "plt.ylabel('Error Rate')\n",
    "plt.legend()\n",
    "plt.show()\n",
    "\n",
    "#print(e_tr)"
   ]
  },
  {
   "cell_type": "markdown",
   "metadata": {},
   "source": [
    "1 SVM is Effective in high dimensional spaces. It's also memory efficient.     \n",
    "\n",
    "2 There isn't any important details in training, no convergence problems or step-size issues.    \n",
    "\n",
    "3 The influence of Penalty parameter C of the error term is explored. When C is small(<100), the model is underfitting. When C is big(>10000), the model is overfitting. I choose $C=1000$ because it has the smallest error rate and the standard deviation is small in both L1 and L2 penalization.   \n",
    "\n",
    "4 We use K-folder validation. We randomly divide the training sets into K(=5) folders. Each time we use 1 folder as validation set, K-1 folders as training set. Then we fit the model and figure out the error rate of training and validation set.        \n",
    "\n",
    "5 The choice of C is 1000, as stated above."
   ]
  },
  {
   "cell_type": "code",
   "execution_count": null,
   "metadata": {},
   "outputs": [],
   "source": [
    "SVM = SVC(C=1000, gamma='auto');\n",
    "SVM.fit(X2,y_train_df['is_positive_sentiment'])\n",
    "np.savetxt('yproba1d_test.txt', SVM.predict(X2n))"
   ]
  },
  {
   "cell_type": "code",
   "execution_count": 100,
   "metadata": {},
   "outputs": [
    {
     "data": {
      "text/plain": [
       "{'C': 100,\n",
       " 'cache_size': 200,\n",
       " 'class_weight': None,\n",
       " 'coef0': 0.0,\n",
       " 'decision_function_shape': 'ovr',\n",
       " 'degree': 3,\n",
       " 'gamma': 'auto',\n",
       " 'kernel': 'rbf',\n",
       " 'max_iter': -1,\n",
       " 'probability': False,\n",
       " 'random_state': None,\n",
       " 'shrinking': True,\n",
       " 'tol': 0.001,\n",
       " 'verbose': False}"
      ]
     },
     "execution_count": 100,
     "metadata": {},
     "output_type": "execute_result"
    }
   ],
   "source": [
    "SVM.get_params()"
   ]
  },
  {
   "cell_type": "markdown",
   "metadata": {},
   "source": [
    "### 1E   \n",
    "The best model I have is the SVM model. The error rate is about 18.4%.      \n",
    "One thing we can notice that only SVM gives a boundary (with kernel 'rbf') in all 3 methods. Thus it introduces more complicated non-linearity to the data, so it's probabably avoids underfitting.     \n",
    "There are some mistakes in this model:     \n",
    "For False Negative ones, there tends to be a 'not' followed by negative words.  \n",
    "For False positive ones, there are words like \"pretty\", \"many\", which seems positive in other cases, but followed by negative opinions.     \n",
    "It's hard to judge the importance of any factors in the SVM model. As we used rbf inner product to reform data and get a hyperplane dividing the points. The only thing we get is the hyper plane $h'*x+b=0$. This suggests the distance between those vectors are important to the clarification.     "
   ]
  },
  {
   "cell_type": "code",
   "execution_count": null,
   "metadata": {},
   "outputs": [],
   "source": [
    "import random\n",
    "y_hat=[]\n",
    "y_hat=SVM.predict(X2)\n",
    "FP=0; FN=0;\n",
    "FPText=[]; FNText=[];\n",
    "FPAllT=[]; FNAllT=[];\n",
    "\n",
    "ls=np.asarray(range(0, y_hat.size))\n",
    "#print(ls)\n",
    "random.shuffle(ls);\n",
    "\n",
    "for i in ls:\n",
    "    if (y_hat[i]>=0.5 and y_train_df['is_positive_sentiment'][i]==0):\n",
    "        FPText.append(tr_text_list[i])\n",
    "        FPAllT.append(x_text[i])\n",
    "    if (y_hat[i]<0.5 and y_train_df['is_positive_sentiment'][i]==1):\n",
    "        FNText.append(tr_text_list[i])\n",
    "        FNAllT.append(x_text[i])\n",
    "       "
   ]
  },
  {
   "cell_type": "code",
   "execution_count": 84,
   "metadata": {},
   "outputs": [
    {
     "name": "stdout",
     "output_type": "stream",
     "text": [
      "['wont ever go here again', 'oh forgot also mention weird color effect has on your phone', 'pretty', 'im disappointed that film would receive so many especially when there are far more deserving works film out there', 'characters were very storyline lot like stage', 'ryans bar definitely one establishment wont be', 'you can find better movies at', 'well never go again', 'highly', 'are most']\n",
      "[\"Won't ever go here again.\", 'Oh and I forgot to also mention the weird color effect it has on your phone.', 'It was pretty gross!', \"I'm terribly disappointed that this film would receive so many awards and accolades, especially when there are far more deserving works of film out there.  \", \"The characters were very 'stagey' and the storyline was a lot like a stage farce.  \", \"Ryan's Bar is definitely one Edinburgh establishment I won't be revisiting.\", 'You can find better movies at youtube.  ', \"We'll never go again.\", 'Highly unrecommended.  ', 'The commercials are the most misleading.']\n"
     ]
    }
   ],
   "source": [
    "print(FPText[:10])\n",
    "print(FPAllT[:10])"
   ]
  },
  {
   "cell_type": "code",
   "execution_count": 85,
   "metadata": {},
   "outputs": [
    {
     "name": "stdout",
     "output_type": "stream",
     "text": [
      "['still do like movie for its women theres not enough movies out there like one', 'they keep getting better better my third one ive had numerous too', 'wireless rocks so does cheap little phone', 'did not have any problem with item would order again if needed', 'chicken on chicken salad', 'dont think you will be disappointed', 'enough can not be said animation in film', 'able do voice dialing in car with no problem', 'found place by could not be happier', 'kind money that wasted properly']\n",
      "[\"Still, I do like this movie for it's empowerment of women; there's not enough movies out there like this one.  \", \"They keep getting better and better (this is my third one and I've had numerous Palms too).\", 'Virgin Wireless rocks and so does this cheap little phone!', 'I did not have any problem with this item and would order it again if needed.', 'High-quality chicken on the chicken Caesar salad.', \"I don't think you will be disappointed.  \", 'Enough can not be said of the remarkable animation in this film.  ', 'I was able to do voice dialing in the car with no problem.', 'I found this place by accident and I could not be happier.', 'This is the kind of money that is wasted properly.  ']\n"
     ]
    }
   ],
   "source": [
    "print(FNText[:10])\n",
    "print(FNAllT[:10])"
   ]
  },
  {
   "cell_type": "code",
   "execution_count": null,
   "metadata": {},
   "outputs": [],
   "source": []
  },
  {
   "cell_type": "markdown",
   "metadata": {},
   "source": [
    "### 1F    \n",
    "The error rate is 18.2%."
   ]
  },
  {
   "cell_type": "markdown",
   "metadata": {},
   "source": [
    "### Problem 2"
   ]
  },
  {
   "cell_type": "markdown",
   "metadata": {},
   "source": [
    "### 2A     \n",
    "I used the same preprocess on excluding high frequency word and low frequency word in 1A:    \n",
    "1 Remove puctuation and digits   \n",
    "2 Transform to lower-case.   \n",
    "3 Count numbers of appearance of a word and exclude top 10 as well as those appears only once.    \n",
    "Then, I used average of words vector to calculate the embedding vector for a sentence."
   ]
  },
  {
   "cell_type": "code",
   "execution_count": 11,
   "metadata": {},
   "outputs": [],
   "source": [
    "##x_train_df x_tests_df"
   ]
  },
  {
   "cell_type": "code",
   "execution_count": 19,
   "metadata": {},
   "outputs": [],
   "source": [
    "word_embeddings = pd.read_csv('glove.6B.50d.txt.zip',\n",
    "                              header=None, sep=' ', index_col=0,\n",
    "                              compression='zip', encoding='utf-8', quoting=3)\n",
    "word_embeddings=word_embeddings.transpose()"
   ]
  },
  {
   "cell_type": "code",
   "execution_count": 20,
   "metadata": {},
   "outputs": [
    {
     "data": {
      "text/plain": [
       "array([ 4.1800e-01,  2.4968e-01, -4.1242e-01,  1.2170e-01,  3.4527e-01,\n",
       "       -4.4457e-02, -4.9688e-01, -1.7862e-01, -6.6023e-04, -6.5660e-01,\n",
       "        2.7843e-01, -1.4767e-01, -5.5677e-01,  1.4658e-01, -9.5095e-03,\n",
       "        1.1658e-02,  1.0204e-01, -1.2792e-01, -8.4430e-01, -1.2181e-01,\n",
       "       -1.6801e-02, -3.3279e-01, -1.5520e-01, -2.3131e-01, -1.9181e-01,\n",
       "       -1.8823e+00, -7.6746e-01,  9.9051e-02, -4.2125e-01, -1.9526e-01,\n",
       "        4.0071e+00, -1.8594e-01, -5.2287e-01, -3.1681e-01,  5.9213e-04,\n",
       "        7.4449e-03,  1.7778e-01, -1.5897e-01,  1.2041e-02, -5.4223e-02,\n",
       "       -2.9871e-01, -1.5749e-01, -3.4758e-01, -4.5637e-02, -4.4251e-01,\n",
       "        1.8785e-01,  2.7849e-03, -1.8411e-01, -1.1514e-01, -7.8581e-01])"
      ]
     },
     "execution_count": 20,
     "metadata": {},
     "output_type": "execute_result"
    }
   ],
   "source": [
    "word_embeddings['the'].values"
   ]
  },
  {
   "cell_type": "code",
   "execution_count": 21,
   "metadata": {},
   "outputs": [],
   "source": [
    "train_ebd_vector=[];\n",
    "\n",
    "for l in tr_text_list:\n",
    "    n=0.0001;\n",
    "    cur=np.asarray([0.0]*50);\n",
    "    for x in l.split():\n",
    "        if x in word_embeddings.columns:\n",
    "            cur=cur+np.asarray(word_embeddings[x].values)\n",
    "            n=n+1.0\n",
    "    train_ebd_vector.append(cur/n)\n",
    "    #print(cur/n);"
   ]
  },
  {
   "cell_type": "code",
   "execution_count": 22,
   "metadata": {},
   "outputs": [],
   "source": [
    "tests_ebd_vector=[];\n",
    "for l in te_text_list:\n",
    "    n=0.0001;\n",
    "    cur=np.asarray([0.0]*50);\n",
    "    for x in l.split():\n",
    "        if x in word_embeddings.columns:\n",
    "            cur=cur+np.asarray(word_embeddings[x].values)\n",
    "            n=n+1.0\n",
    "    tests_ebd_vector.append(cur/n)"
   ]
  },
  {
   "cell_type": "code",
   "execution_count": 23,
   "metadata": {},
   "outputs": [
    {
     "name": "stdout",
     "output_type": "stream",
     "text": [
      "-2.438956104389561 (2400, 50) (600, 50)\n"
     ]
    }
   ],
   "source": [
    "X3 = np.asarray(train_ebd_vector);\n",
    "\n",
    "X3n= np.asarray(tests_ebd_vector);\n",
    "m=min(X3n.min(),X3.min());\n",
    "print(m,X3.shape, X3n.shape)"
   ]
  },
  {
   "cell_type": "markdown",
   "metadata": {},
   "source": [
    "### 2b"
   ]
  },
  {
   "cell_type": "code",
   "execution_count": 18,
   "metadata": {},
   "outputs": [],
   "source": [
    "## Naive Bayes Word Embedding\n",
    "from sklearn.naive_bayes import GaussianNB\n",
    "from sklearn.model_selection import cross_val_score\n",
    "import sklearn\n",
    "alpha_val=[1e-20, 1e-13, 1e-11, 1e-9, 1e-7, 1e-5, 0.001, 0.1, 1.0, 10.0, 100.0]\n",
    "va_scores=[];\n",
    "tr_scores=[];\n",
    "\n",
    "for a in alpha_val:\n",
    "    Mnb = GaussianNB(var_smoothing=a)\n",
    "    #scores.append(cross_val_score(Mnb, X2.toarray(), y_train_df['is_positive_sentiment'], cv=5))\n",
    "    \n",
    "    va_all=[];\n",
    "    tr_all=[]\n",
    "    for ind_tr, ind_va in kfold_iterator.split(X3-m):\n",
    "        x_tr, x_va = X3[ind_tr], X3[ind_va]\n",
    "        y_tr, y_va = y_train_df['is_positive_sentiment'][ind_tr], y_train_df['is_positive_sentiment'][ind_va]\n",
    "        Mnb.fit(x_tr, y_tr)\n",
    "    \n",
    "        #get valid mse\n",
    "        ac_va=1-np.sum(np.logical_xor(y_va,Mnb.predict(x_va)))/y_va.size\n",
    "        ac_tr=1-np.sum(np.logical_xor(y_tr,Mnb.predict(x_tr)))/y_tr.size\n",
    "        #print(ac_va, ac_tr)\n",
    "        va_all.append(ac_va)\n",
    "        tr_all.append(ac_tr)\n",
    "    va_scores.append(np.asarray(va_all))\n",
    "    tr_scores.append(np.asarray(tr_all))\n",
    "#print(scores)"
   ]
  },
  {
   "cell_type": "code",
   "execution_count": 19,
   "metadata": {},
   "outputs": [
    {
     "data": {
      "image/png": "[encoded data removed]",
      "text/plain": [
       "<Figure size 432x288 with 1 Axes>"
      ]
     },
     "metadata": {},
     "output_type": "display_data"
    }
   ],
   "source": [
    "import matplotlib.pyplot as plt\n",
    "import numpy as np\n",
    "\n",
    "y_va=[]; e_va=[];\n",
    "for l in va_scores:\n",
    "    #print(l)\n",
    "    e_va.append(np.std(1-l));\n",
    "    y_va.append(np.mean(1-l));\n",
    "plt.errorbar(alpha_val, y_va, e_va, linestyle='-', marker='o', label='Va')\n",
    "\n",
    "y_tr=[]; e_tr=[];\n",
    "for l in tr_scores:\n",
    "    e_tr.append(np.std(1-l));\n",
    "    y_tr.append(np.mean(1-l));\n",
    "plt.errorbar(alpha_val, y_tr, e_tr, linestyle='--', marker='^', label='Tr')\n",
    "plt.xscale('log')\n",
    "plt.xlabel('Alpha')\n",
    "plt.ylabel('Error Rate')\n",
    "plt.legend()\n",
    "plt.show()\n",
    "\n",
    "#print(e_tr)"
   ]
  },
  {
   "cell_type": "markdown",
   "metadata": {},
   "source": [
    "1 I used the normal Naive Bayes as there are negative values in the vector. MNB is not appliable in this situation.   \n",
    "\n",
    "2 There isn't any important details in training, no convergence problems or step-size issues.    \n",
    "\n",
    "3 The influence of Additive smoothing parameter(alpha) is explored. When alpha is big($>1$), the model is underfitting. When alpha is small($<10^{-10}$), the model is overfitting. I choose $\\alpha=10^{-5}$ because it has the smallest error rate and the standard deviation is small.   \n",
    "\n",
    "4 We use K-folder validation. We randomly divide the training sets into K(=5) folders. Each time we use 1 folder as validation set, K-1 folders as training set. Then we fit the model and figure out the error rate of training and validation set.        \n",
    "\n",
    "5 Additive smoothing parameter(alpha) is explored. The choice of value is $\\alpha=10^{-5}$. The conclusion is not valid as the difference of accuracy when alpha is less than 1 is subtle."
   ]
  },
  {
   "cell_type": "code",
   "execution_count": 20,
   "metadata": {},
   "outputs": [],
   "source": [
    "M1b=GaussianNB(var_smoothing=1e-5);\n",
    "M1b.fit(X3,y_train_df['is_positive_sentiment'])\n",
    "np.savetxt('yproba2b_test.txt', M1b.predict(X3n))"
   ]
  },
  {
   "cell_type": "markdown",
   "metadata": {},
   "source": [
    "### 2c"
   ]
  },
  {
   "cell_type": "code",
   "execution_count": 21,
   "metadata": {},
   "outputs": [
    {
     "name": "stderr",
     "output_type": "stream",
     "text": [
      "C:\\ProgramData\\Anaconda3\\lib\\site-packages\\sklearn\\svm\\base.py:931: ConvergenceWarning: Liblinear failed to converge, increase the number of iterations.\n",
      "  \"the number of iterations.\", ConvergenceWarning)\n"
     ]
    }
   ],
   "source": [
    "## Logestic\n",
    "from sklearn.linear_model import LogisticRegression as lr\n",
    "va_scores1=[];\n",
    "tr_scores1=[];\n",
    "\n",
    "va_scores2=[];\n",
    "tr_scores2=[];\n",
    "alpha_val=[0.001, 0.01, 0.1, 1.0, 10.0, 100.0]\n",
    "\n",
    "for a in alpha_val:\n",
    "    lr1 = lr(penalty='l1', tol=0.0001, C=a, solver='liblinear')\n",
    "    lr2 = lr(penalty='l2', tol=0.0001, C=a, solver='liblinear')\n",
    "    #scores.append(cross_val_score(Mnb, X2.toarray(), y_train_df['is_positive_sentiment'], cv=5))\n",
    "    \n",
    "    va1_all=[];\n",
    "    tr1_all=[];\n",
    "    va2_all=[];\n",
    "    tr2_all=[];\n",
    "    for ind_tr, ind_va in kfold_iterator.split(X3):\n",
    "        x_tr, x_va = X3[ind_tr], X3[ind_va]\n",
    "        y_tr, y_va = y_train_df['is_positive_sentiment'][ind_tr], y_train_df['is_positive_sentiment'][ind_va]\n",
    "        lr1.fit(x_tr, y_tr)\n",
    "        lr2.fit(x_tr, y_tr)\n",
    "        #get valid mse\n",
    "        ac_va1=1-np.sum(np.logical_xor(y_va,lr1.predict(x_va)>0.5))/y_va.size\n",
    "        ac_tr1=1-np.sum(np.logical_xor(y_tr,lr1.predict(x_tr)>0.5))/y_tr.size\n",
    "        \n",
    "        ac_va2=1-np.sum(np.logical_xor(y_va,lr2.predict(x_va)>0.5))/y_va.size\n",
    "        ac_tr2=1-np.sum(np.logical_xor(y_tr,lr2.predict(x_tr)>0.5))/y_tr.size\n",
    "        #print(ac_va, ac_tr)\n",
    "        va1_all.append(ac_va1)\n",
    "        tr1_all.append(ac_tr1)\n",
    "        \n",
    "        va2_all.append(ac_va2)\n",
    "        tr2_all.append(ac_tr2)\n",
    "    va_scores1.append(np.asarray(va1_all))\n",
    "    tr_scores1.append(np.asarray(tr1_all))\n",
    "    \n",
    "    va_scores2.append(np.asarray(va2_all))\n",
    "    tr_scores2.append(np.asarray(tr2_all))"
   ]
  },
  {
   "cell_type": "code",
   "execution_count": 22,
   "metadata": {},
   "outputs": [
    {
     "data": {
      "text/plain": [
       "<matplotlib.legend.Legend at 0x1dea4b48518>"
      ]
     },
     "execution_count": 22,
     "metadata": {},
     "output_type": "execute_result"
    },
    {
     "data": {
      "image/png": "[encoded data removed]",
      "text/plain": [
       "<Figure size 1368x576 with 2 Axes>"
      ]
     },
     "metadata": {},
     "output_type": "display_data"
    }
   ],
   "source": [
    "fig2a, axes_arr = plt.subplots(nrows=1, ncols=2, figsize=(19,8))\n",
    "y_va1=[]; e_va1=[];\n",
    "y_va2=[]; e_va2=[];\n",
    "for l in va_scores1:\n",
    "    #print(l)\n",
    "    e_va1.append(np.std(1-l));\n",
    "    y_va1.append(np.mean(1-l));\n",
    "axes_arr[0].errorbar(alpha_val, y_va1, e_va1, linestyle='-', marker='o', label='Va')\n",
    "\n",
    "y_tr1=[]; e_tr1=[];\n",
    "y_tr2=[]; e_tr2=[];\n",
    "for l in tr_scores1:\n",
    "    e_tr1.append(np.std(1-l));\n",
    "    y_tr1.append(np.mean(1-l));\n",
    "axes_arr[0].errorbar(alpha_val, y_tr1, e_tr1, linestyle='--', marker='^', label='Tr')\n",
    "axes_arr[0].set_xscale('log')\n",
    "axes_arr[0].set_xlabel('Alpha')\n",
    "axes_arr[0].set_ylabel('Error Rate')\n",
    "axes_arr[0].set_title('L1')\n",
    "axes_arr[0].legend()\n",
    "\n",
    "for l in va_scores2:\n",
    "    #print(l)\n",
    "    e_va2.append(np.std(1-l));\n",
    "    y_va2.append(np.mean(1-l));\n",
    "axes_arr[1].errorbar(alpha_val, y_va2, e_va2, linestyle='-', marker='o', label='Va')\n",
    "\n",
    "for l in tr_scores1:\n",
    "    e_tr2.append(np.std(1-l));\n",
    "    y_tr2.append(np.mean(1-l));\n",
    "axes_arr[1].errorbar(alpha_val, y_tr2, e_tr2, linestyle='--', marker='^', label='Tr')\n",
    "axes_arr[1].set_xscale('log')\n",
    "axes_arr[1].set_xlabel('Alpha')\n",
    "axes_arr[1].set_ylabel('Error Rate')\n",
    "axes_arr[1].set_title('L2')\n",
    "axes_arr[1].legend()"
   ]
  },
  {
   "cell_type": "markdown",
   "metadata": {},
   "source": [
    "1 Logestic Regression is a typical method for classification. In general, it's pretty robust on solving classification problems.     \n",
    "\n",
    "2 There isn't any important details in training, no convergence problems or step-size issues.    \n",
    "\n",
    "3 The influence of regularization parameter is explored. When C is small(<1), the model is underfitting. When C is big(>100), the model is overfitting. I choose $C=1$ because it has the smallest error rate and the standard deviation is small in both L1 and L2 penalization.   \n",
    "\n",
    "4 We use K-folder validation. We randomly divide the training sets into K(=5) folders. Each time we use 1 folder as validation set, K-1 folders as training set. Then we fit the model and figure out the error rate of training and validation set.        \n",
    "\n",
    "5 Another parameter(penalization norm) is explored. The choice of value is 'L2'. The conclusion is not strong as the difference in va sets is small. The choice of C is 1, as stated above."
   ]
  },
  {
   "cell_type": "code",
   "execution_count": 23,
   "metadata": {},
   "outputs": [],
   "source": [
    "lr2 = lr(penalty='l2', tol=0.0001, C=1, solver='liblinear');\n",
    "lr2.fit(X3,y_train_df['is_positive_sentiment'])\n",
    "np.savetxt('yproba2c2_test.txt', lr2.predict(X3n))"
   ]
  },
  {
   "cell_type": "code",
   "execution_count": null,
   "metadata": {},
   "outputs": [],
   "source": []
  },
  {
   "cell_type": "markdown",
   "metadata": {},
   "source": [
    "### 2d"
   ]
  },
  {
   "cell_type": "code",
   "execution_count": 24,
   "metadata": {},
   "outputs": [],
   "source": [
    "## SVM\n",
    "from sklearn.svm import SVC\n",
    "va_scores1d=[]\n",
    "tr_scores1d=[]\n",
    "# clf = SVC(gamma='auto')\n",
    "\n",
    "alpha_val1d=[0.001, 0.01, 0.1, 1.0, 10.0, 100.0, 1000.0, 10000.0, 100000.0]\n",
    "for a in alpha_val1d:\n",
    "    SVM = SVC(C=a, gamma='auto')\n",
    "    #scores.append(cross_val_score(Mnb, X2.toarray(), y_train_df['is_positive_sentiment'], cv=5))\n",
    "    \n",
    "    va_all=[];\n",
    "    tr_all=[]\n",
    "    for ind_tr, ind_va in kfold_iterator.split(X3):\n",
    "        x_tr, x_va = X3[ind_tr], X3[ind_va]\n",
    "        y_tr, y_va = y_train_df['is_positive_sentiment'][ind_tr], y_train_df['is_positive_sentiment'][ind_va]\n",
    "        SVM.fit(x_tr, y_tr)\n",
    "    \n",
    "        #get valid mse\n",
    "        ac_va=1-np.sum(np.logical_xor(y_va, SVM.predict(x_va)))/y_va.size\n",
    "        ac_tr=1-np.sum(np.logical_xor(y_tr, SVM.predict(x_tr)))/y_tr.size\n",
    "        #print(ac_va, ac_tr)\n",
    "        va_all.append(ac_va)\n",
    "        tr_all.append(ac_tr)\n",
    "    va_scores1d.append(np.asarray(va_all))\n",
    "    tr_scores1d.append(np.asarray(tr_all))"
   ]
  },
  {
   "cell_type": "code",
   "execution_count": 25,
   "metadata": {},
   "outputs": [
    {
     "data": {
      "image/png": "[encoded data removed]",
      "text/plain": [
       "<Figure size 432x288 with 1 Axes>"
      ]
     },
     "metadata": {},
     "output_type": "display_data"
    }
   ],
   "source": [
    "import matplotlib.pyplot as plt\n",
    "import numpy as np\n",
    "\n",
    "y_va=[]; e_va=[];\n",
    "for l in va_scores1d:\n",
    "    e_va.append(np.std(1-l));\n",
    "    y_va.append(np.mean(1-l));\n",
    "plt.errorbar(alpha_val1d, y_va, e_va, linestyle='-', marker='o', label='Va')\n",
    "\n",
    "y_tr=[]; e_tr=[];\n",
    "for l in tr_scores1d:\n",
    "    e_tr.append(np.std(1-l));\n",
    "    y_tr.append(np.mean(1-l));\n",
    "plt.errorbar(alpha_val1d, y_tr, e_tr, linestyle='--', marker='^', label='Tr')\n",
    "plt.xscale('log')\n",
    "plt.xlabel('Alpha')\n",
    "plt.ylabel('Error Rate')\n",
    "plt.legend()\n",
    "plt.show()\n",
    "\n",
    "#print(e_tr)"
   ]
  },
  {
   "cell_type": "markdown",
   "metadata": {},
   "source": [
    "1 SVM is Effective in high dimensional spaces. It's also memory efficient.     \n",
    "\n",
    "2 There isn't any important details in training, no convergence problems or step-size issues.    \n",
    "\n",
    "3 The influence of Penalty parameter C of the error term is explored. When C is small(<100), the model is underfitting. When C is big(>1000), the model is overfitting. I choose $C=100$ because it has the smallest error rate and the standard deviation is small in both L1 and L2 penalization.   \n",
    "\n",
    "4 We use K-folder validation. We randomly divide the training sets into K(=5) folders. Each time we use 1 folder as validation set, K-1 folders as training set. Then we fit the model and figure out the error rate of training and validation set.        \n",
    "\n",
    "5 The choice of C is 100, as stated above."
   ]
  },
  {
   "cell_type": "code",
   "execution_count": 26,
   "metadata": {},
   "outputs": [],
   "source": [
    "SVM = SVC(C=100, gamma='auto');\n",
    "SVM.fit(X3,y_train_df['is_positive_sentiment'])\n",
    "np.savetxt('yproba2d2_test.txt', SVM.predict(X3n))"
   ]
  },
  {
   "cell_type": "code",
   "execution_count": null,
   "metadata": {},
   "outputs": [],
   "source": []
  },
  {
   "cell_type": "markdown",
   "metadata": {},
   "source": [
    "### 2E   \n",
    "The best model I have is still the SVM model. The error rate is about 20%.      \n",
    "One thing we can notice that only SVM gives a boundary (with kernel 'rbf') in all 3 methods. Thus it introduces more complicated non-linearity to the data, so it's probabably avoids underfitting.     \n",
    "There are similar mistakes in this model with 1:     \n",
    "For False Negative ones, there tends to be a 'not' followed by negative words.  \n",
    "For False positive ones, there are words like \"pretty\", \"many\", which seems positive in other cases, but followed by negative opinions.     \n",
    "It's hard to judge the importance of any factors in the SVM model. As we used rbf inner product to reform data and get a hyperplane dividing the points. The only thing we get is the hyper plane $h'*x+b=0$. This suggests the distance between those vectors are important to the clarification.   "
   ]
  },
  {
   "cell_type": "markdown",
   "metadata": {},
   "source": [
    "## 2F    \n",
    "The error rate is 19.6%."
   ]
  },
  {
   "cell_type": "code",
   "execution_count": null,
   "metadata": {},
   "outputs": [],
   "source": []
  },
  {
   "cell_type": "markdown",
   "metadata": {},
   "source": [
    "### 3"
   ]
  },
  {
   "cell_type": "code",
   "execution_count": 24,
   "metadata": {},
   "outputs": [
    {
     "name": "stdout",
     "output_type": "stream",
     "text": [
      "(2400, 1918) (600, 1918)\n"
     ]
    }
   ],
   "source": [
    "X4 =np.concatenate([np.asmatrix(X2.todense()), X3], axis=1)\n",
    "X4n=np.concatenate([np.asmatrix(X2n.todense()), X3n], axis=1)\n",
    "print(X4.shape, X4n.shape)"
   ]
  },
  {
   "cell_type": "code",
   "execution_count": 25,
   "metadata": {},
   "outputs": [
    {
     "name": "stdout",
     "output_type": "stream",
     "text": [
      "100\n",
      "400\n",
      "700\n",
      "1000\n"
     ]
    }
   ],
   "source": [
    "## SVM\n",
    "from sklearn.svm import SVC\n",
    "va_scores1d=[]\n",
    "tr_scores1d=[]\n",
    "# clf = SVC(gamma='auto')\n",
    "\n",
    "alpha_val1d=[100,400, 700, 1000]\n",
    "for a in alpha_val1d:\n",
    "    print(a)\n",
    "    SVM3 = SVC(C=a, gamma='auto')\n",
    "    #scores.append(cross_val_score(Mnb, X2.toarray(), y_train_df['is_positive_sentiment'], cv=5))\n",
    "    \n",
    "    va_all=[];\n",
    "    tr_all=[]\n",
    "    for ind_tr, ind_va in kfold_iterator.split(X4):\n",
    "        x_tr, x_va = X4[ind_tr], X4[ind_va]\n",
    "        y_tr, y_va = y_train_df['is_positive_sentiment'][ind_tr], y_train_df['is_positive_sentiment'][ind_va]\n",
    "        SVM3.fit(x_tr, y_tr)\n",
    "    \n",
    "        #get valid mse\n",
    "        ac_va=1-np.sum(np.logical_xor(y_va, SVM3.predict(x_va)))/y_va.size\n",
    "        ac_tr=1-np.sum(np.logical_xor(y_tr, SVM3.predict(x_tr)))/y_tr.size\n",
    "        #print(ac_va, ac_tr)\n",
    "        va_all.append(ac_va)\n",
    "        tr_all.append(ac_tr)\n",
    "    va_scores1d.append(np.asarray(va_all))\n",
    "    tr_scores1d.append(np.asarray(tr_all))"
   ]
  },
  {
   "cell_type": "code",
   "execution_count": 26,
   "metadata": {},
   "outputs": [
    {
     "data": {
      "image/png": "[encoded data removed]",
      "text/plain": [
       "<Figure size 432x288 with 1 Axes>"
      ]
     },
     "metadata": {},
     "output_type": "display_data"
    }
   ],
   "source": [
    "import matplotlib.pyplot as plt\n",
    "import numpy as np\n",
    "\n",
    "y_va=[]; e_va=[];\n",
    "for l in va_scores1d:\n",
    "    e_va.append(np.std(1-l));\n",
    "    y_va.append(np.mean(1-l));\n",
    "plt.errorbar(alpha_val1d, y_va, e_va, linestyle='-', marker='o', label='Va')\n",
    "\n",
    "y_tr=[]; e_tr=[];\n",
    "for l in tr_scores1d:\n",
    "    e_tr.append(np.std(1-l));\n",
    "    y_tr.append(np.mean(1-l));\n",
    "plt.errorbar(alpha_val1d, y_tr, e_tr, linestyle='--', marker='^', label='Tr')\n",
    "##plt.xscale('log')\n",
    "plt.xlabel('Alpha')\n",
    "plt.ylabel('Error Rate')\n",
    "plt.legend()\n",
    "plt.show()\n",
    "\n",
    "#print(e_tr)"
   ]
  },
  {
   "cell_type": "code",
   "execution_count": 27,
   "metadata": {},
   "outputs": [
    {
     "name": "stderr",
     "output_type": "stream",
     "text": [
      "C:\\ProgramData\\Anaconda3\\lib\\site-packages\\sklearn\\svm\\base.py:196: FutureWarning: The default value of gamma will change from 'auto' to 'scale' in version 0.22 to account better for unscaled features. Set gamma explicitly to 'auto' or 'scale' to avoid this warning.\n",
      "  \"avoid this warning.\", FutureWarning)\n"
     ]
    }
   ],
   "source": [
    "SVM = SVC(C=700);\n",
    "SVM.fit(X4,y_train_df['is_positive_sentiment'])\n",
    "np.savetxt('yproba2d2_test.txt', SVM.predict(X4n))"
   ]
  },
  {
   "cell_type": "markdown",
   "metadata": {},
   "source": [
    "I combined my tfidf set and my embedding set. I also adjusted my penalty a little bit by exploring an optimal value between 100 and 1000. \n",
    "\n",
    "The improvement is small.    \n",
    "\n",
    "The final Result is 18%."
   ]
  },
  {
   "cell_type": "code",
   "execution_count": null,
   "metadata": {},
   "outputs": [],
   "source": []
  }
 ],
 "metadata": {
  "kernelspec": {
   "display_name": "Python 3",
   "language": "python",
   "name": "python3"
  },
  "language_info": {
   "codemirror_mode": {
    "name": "ipython",
    "version": 3
   },
   "file_extension": ".py",
   "mimetype": "text/x-python",
   "name": "python",
   "nbconvert_exporter": "python",
   "pygments_lexer": "ipython3",
   "version": "3.6.5"
  }
 },
 "nbformat": 4,
 "nbformat_minor": 2
}
